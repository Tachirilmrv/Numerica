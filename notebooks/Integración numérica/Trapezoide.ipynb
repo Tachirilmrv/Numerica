{
 "cells": [
  {
   "cell_type": "code",
   "execution_count": 25,
   "metadata": {},
   "outputs": [],
   "source": [
    "import numpy as np"
   ]
  },
  {
   "cell_type": "code",
   "execution_count": 26,
   "metadata": {},
   "outputs": [],
   "source": [
    "xi = [2, 4, 6, 8, 10, 12, 14]\n",
    "yi = [-1, 0, 2, 3, 5, 6, 8]\n",
    "n = 6\n",
    "h = 2\n",
    "\n",
    "yint = [yi[i] for i in range(int( (len(yi) - 1) / n), len(yi) - 1, int( (len(yi) - 1) / n) ) ] "
   ]
  },
  {
   "cell_type": "code",
   "execution_count": 27,
   "metadata": {},
   "outputs": [],
   "source": [
    "i_trap = (h / 2) * (yi[0] + 2 * sum (yint) + yi[-1])\n",
    "err_trap = 2 - i_trap"
   ]
  },
  {
   "cell_type": "code",
   "execution_count": 28,
   "metadata": {},
   "outputs": [
    {
     "name": "stdout",
     "output_type": "stream",
     "text": [
      "39.0\n",
      "-37.0\n"
     ]
    }
   ],
   "source": [
    "print (i_trap)\n",
    "print (err_trap)"
   ]
  }
 ],
 "metadata": {
  "interpreter": {
   "hash": "5f1e2b7debabb81cfddc515bc2208cf2c521bebfebb13da0ee988ea546d02c25"
  },
  "kernelspec": {
   "display_name": "Python 3.8.5 64-bit ('base': conda)",
   "language": "python",
   "name": "python3"
  },
  "language_info": {
   "codemirror_mode": {
    "name": "ipython",
    "version": 3
   },
   "file_extension": ".py",
   "mimetype": "text/x-python",
   "name": "python",
   "nbconvert_exporter": "python",
   "pygments_lexer": "ipython3",
   "version": "3.8.5"
  },
  "orig_nbformat": 4
 },
 "nbformat": 4,
 "nbformat_minor": 2
}
