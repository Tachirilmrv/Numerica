{
 "cells": [
  {
   "cell_type": "code",
   "execution_count": 7,
   "metadata": {},
   "outputs": [],
   "source": [
    "import re\n",
    "import numpy as np\n",
    "import numpy.polynomial as pol"
   ]
  },
  {
   "cell_type": "markdown",
   "metadata": {},
   "source": [
    "# Método Simpson"
   ]
  },
  {
   "cell_type": "markdown",
   "metadata": {},
   "source": [
    "## Métodos auxiliares [NO TOCAR]"
   ]
  },
  {
   "cell_type": "code",
   "execution_count": 8,
   "metadata": {},
   "outputs": [],
   "source": [
    "def poly_coefficients(raw_polynomial):\n",
    "    regexp = r\"(-?\\d*)(x?)(?:(?:\\^|\\*\\*)(\\d))?\"\n",
    "    c = {}\n",
    "\n",
    "    for coef, x, exp in re.findall(regexp, raw_polynomial):\n",
    "        if not coef and not x:\n",
    "            continue\n",
    "        if x and not coef:\n",
    "            coef = '1'\n",
    "        if x and coef == \"-\":\n",
    "            coef = \"-1\"\n",
    "        if x and not exp:\n",
    "            exp = '1'\n",
    "        if coef and not x:\n",
    "            exp = '0'\n",
    "\n",
    "        try:\n",
    "            c [int(exp) ] = c[int(exp) ] + float(coef)\n",
    "        except KeyError:\n",
    "            c [int(exp) ] = float(coef)\n",
    "\n",
    "    grade = max(c)\n",
    "    coefficients = [0.0] * (grade + 1)\n",
    "\n",
    "    for g, v in c.items():\n",
    "        coefficients [g] = v\n",
    "    coefficients.reverse()\n",
    "\n",
    "    if coefficients [0] < 0:\n",
    "        coefficients = positive_max_grade(coefficients)\n",
    "\n",
    "    return coefficients"
   ]
  },
  {
   "cell_type": "markdown",
   "metadata": {},
   "source": [
    "## Caso para valores tabulares:\n",
    "\n",
    "### En el código: </br>\n",
    "```xi``` -> Valores de ```x``` </br>\n",
    "```yi``` -> Valores de ```y``` </br>\n",
    "```n``` -> Número de intervalos </br>\n",
    "```h``` -> Paso </br>\n",
    "\n",
    "```i_simp``` -> Resultado </br>"
   ]
  },
  {
   "cell_type": "markdown",
   "metadata": {},
   "source": [
    "### Inserción de datos:"
   ]
  },
  {
   "cell_type": "code",
   "execution_count": 9,
   "metadata": {},
   "outputs": [],
   "source": [
    "xi = [2, 4, 6, 8, 10, 12, 14]\n",
    "yi = [-1, 0, 2, 3, 5, 6, 8]\n",
    "n = 6\n",
    "h = 2"
   ]
  },
  {
   "cell_type": "markdown",
   "metadata": {},
   "source": [
    "### Salida:"
   ]
  },
  {
   "cell_type": "code",
   "execution_count": 10,
   "metadata": {},
   "outputs": [
    {
     "name": "stdout",
     "output_type": "stream",
     "text": [
      "39.0\n"
     ]
    }
   ],
   "source": [
    "yint = [yi[i] for i in range(int( (len(yi) - 1) / n), len(yi) - 1, int( (len(yi) - 1) / n) ) ] \n",
    "i_trap = (h / 2) * (yi[0] + 2 * sum(yint) + yi[-1] )\n",
    "\n",
    "print (i_trap)"
   ]
  },
  {
   "cell_type": "markdown",
   "metadata": {},
   "source": [
    "## Caso para valores expresados en una función:"
   ]
  },
  {
   "cell_type": "markdown",
   "metadata": {},
   "source": [
    "### Funciones polinómicas:\n",
    "\n",
    "$$\n",
    "\\int_{a}^{b} \\! f(x) \\, dx \\, , con \\, n \\, intervalos\n",
    "$$\n",
    "\n",
    "### En el código: </br>\n",
    "```a``` -> Limite inferior del intervalo </br>\n",
    "```b``` -> Limite superior del intervalo </br>\n",
    "```n``` -> Número de intervalos </br>\n",
    "```f``` -> Función polinómica a evaluar </br>\n",
    "```x``` -> se encarga de generar los valores de x en dependencia del intervalo\n",
    "\n",
    "```i_simp``` -> Resultado </br>"
   ]
  },
  {
   "cell_type": "markdown",
   "metadata": {},
   "source": [
    "#### Inserción de datos:"
   ]
  },
  {
   "cell_type": "code",
   "execution_count": 11,
   "metadata": {},
   "outputs": [],
   "source": [
    "a = 0\n",
    "b = 10\n",
    "n = 9\n",
    "h = (b - a) / (n - 1)\n",
    "x = np.linspace(a, b, n)\n",
    "f = \"2x^2+4\""
   ]
  },
  {
   "cell_type": "markdown",
   "metadata": {},
   "source": [
    "#### Salida:"
   ]
  },
  {
   "cell_type": "code",
   "execution_count": 12,
   "metadata": {},
   "outputs": [
    {
     "data": {
      "text/plain": [
       "' raw_c = poly_coefficients(f)\\ncoef = fun[::-1]\\n\\np = pol.Polynomial(coef)\\n\\ni_trap = (h / 2) * (p(0) + 2 * sum(p(range(1, n) ) ) + p(n - 1) )\\n\\nprint(i_trap) '"
      ]
     },
     "execution_count": 12,
     "metadata": {},
     "output_type": "execute_result"
    }
   ],
   "source": [
    "''' raw_c = poly_coefficients(f)\n",
    "coef = fun[::-1]\n",
    "\n",
    "p = pol.Polynomial(coef)\n",
    "\n",
    "i_trap = (h / 2) * (p(0) + 2 * sum(p(range(1, n) ) ) + p(n - 1) )\n",
    "\n",
    "print(i_trap) '''"
   ]
  },
  {
   "cell_type": "markdown",
   "metadata": {},
   "source": [
    "### Resto de funciones, expresadas como funciones de _numpy_\n",
    "\n",
    "$$\n",
    "\\int_{a}^{b} \\! f(x) \\, dx \\, , con \\, n \\, intervalos\n",
    "$$\n",
    "\n",
    "### En el código: </br>\n",
    "```a``` -> Limite inferior del intervalo </br>\n",
    "```b``` -> Limite superior del intervalo </br>\n",
    "```n``` -> Número de intervalos </br>\n",
    "```f``` -> Función a evaluar </br>\n",
    "```x``` -> se encarga de generar los valores de x en dependencia del intervalo\n",
    "\n",
    "```i_simp``` -> Resultado </br>"
   ]
  },
  {
   "cell_type": "markdown",
   "metadata": {},
   "source": [
    "#### Inserción de datos:"
   ]
  },
  {
   "cell_type": "code",
   "execution_count": 20,
   "metadata": {},
   "outputs": [
    {
     "name": "stdout",
     "output_type": "stream",
     "text": [
      "0 3.141592653589793 11 0.3141592653589793 [0.         0.31415927 0.62831853 0.9424778  1.25663706 1.57079633\n",
      " 1.88495559 2.19911486 2.51327412 2.82743339 3.14159265] [0.00000000e+00 3.09016994e-01 5.87785252e-01 8.09016994e-01\n",
      " 9.51056516e-01 1.00000000e+00 9.51056516e-01 8.09016994e-01\n",
      " 5.87785252e-01 3.09016994e-01 1.22464680e-16]\n"
     ]
    }
   ],
   "source": [
    "a = 0\n",
    "b = np.pi\n",
    "n = 11\n",
    "h = (b - a) / (n - 1)\n",
    "x = np.linspace(a, b, n)\n",
    "f = np.sin(x)"
   ]
  },
  {
   "cell_type": "markdown",
   "metadata": {},
   "source": [
    "#### Salida:"
   ]
  },
  {
   "cell_type": "code",
   "execution_count": 21,
   "metadata": {},
   "outputs": [
    {
     "name": "stdout",
     "output_type": "stream",
     "text": [
      "2.0001095173150043\n"
     ]
    }
   ],
   "source": [
    "i_simp = (h / 3) * (f[0] + 2 * sum(f[:n - 2:2] ) + 4 * sum(f[1:n - 1:2] ) + f[n - 1] )\n",
    "\n",
    "print(i_simp)"
   ]
  }
 ],
 "metadata": {
  "interpreter": {
   "hash": "5f1e2b7debabb81cfddc515bc2208cf2c521bebfebb13da0ee988ea546d02c25"
  },
  "kernelspec": {
   "display_name": "Python 3.8.5 64-bit ('base': conda)",
   "language": "python",
   "name": "python3"
  },
  "language_info": {
   "codemirror_mode": {
    "name": "ipython",
    "version": 3
   },
   "file_extension": ".py",
   "mimetype": "text/x-python",
   "name": "python",
   "nbconvert_exporter": "python",
   "pygments_lexer": "ipython3",
   "version": "3.8.5"
  },
  "orig_nbformat": 4
 },
 "nbformat": 4,
 "nbformat_minor": 2
}
