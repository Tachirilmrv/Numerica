{
 "cells": [
  {
   "cell_type": "code",
   "execution_count": 17,
   "metadata": {},
   "outputs": [],
   "source": [
    "from numpy import *\n",
    "import re\n",
    "import numpy.polynomial as pol"
   ]
  },
  {
   "cell_type": "markdown",
   "metadata": {},
   "source": [
    "# Método Simpson"
   ]
  },
  {
   "cell_type": "markdown",
   "metadata": {},
   "source": [
    "## Métodos auxiliares [NO TOCAR]"
   ]
  },
  {
   "cell_type": "code",
   "execution_count": 18,
   "metadata": {},
   "outputs": [],
   "source": [
    "def poly_coefficients(raw_polynomial):\n",
    "    regexp = r\"(-?\\d*)(x?)(?:(?:\\^|\\*\\*)(\\d))?\"\n",
    "    c = {}\n",
    "\n",
    "    for coef, x, exp in re.findall(regexp, raw_polynomial):\n",
    "        if not coef and not x:\n",
    "            continue\n",
    "        if x and not coef:\n",
    "            coef = '1'\n",
    "        if x and coef == \"-\":\n",
    "            coef = \"-1\"\n",
    "        if x and not exp:\n",
    "            exp = '1'\n",
    "        if coef and not x:\n",
    "            exp = '0'\n",
    "\n",
    "        try:\n",
    "            c [int(exp) ] = c[int(exp) ] + float(coef)\n",
    "        except KeyError:\n",
    "            c [int(exp) ] = float(coef)\n",
    "\n",
    "    grade = max(c)\n",
    "    coefficients = [0.0] * (grade + 1)\n",
    "\n",
    "    for g, v in c.items():\n",
    "        coefficients [g] = v\n",
    "    coefficients.reverse()\n",
    "\n",
    "    if coefficients [0] < 0:\n",
    "        coefficients = positive_max_grade(coefficients)\n",
    "\n",
    "    return coefficients"
   ]
  },
  {
   "cell_type": "markdown",
   "metadata": {},
   "source": [
    "## Caso para valores tabulares:\n",
    "\n",
    "### En el código: </br>\n",
    "```xi``` -> Valores de ```x``` </br>\n",
    "```yi``` -> Valores de ```y``` </br>\n",
    "```n``` -> Número de intervalos (este número ha de ser **PAR**) </br>\n",
    "```h``` -> Paso </br>\n",
    "\n",
    "```i_simp``` -> Resultado </br>"
   ]
  },
  {
   "cell_type": "markdown",
   "metadata": {},
   "source": [
    "#### Inserción de datos:"
   ]
  },
  {
   "cell_type": "code",
   "execution_count": 19,
   "metadata": {},
   "outputs": [],
   "source": [
    "xi = [2, 4, 6, 8, 10, 12, 14]\n",
    "yi = [-1, 0, 2, 3, 5, 6, 8]\n",
    "n = 2\n",
    "h = 2"
   ]
  },
  {
   "cell_type": "markdown",
   "metadata": {},
   "source": [
    "#### Salida:"
   ]
  },
  {
   "cell_type": "code",
   "execution_count": 20,
   "metadata": {},
   "outputs": [
    {
     "name": "stdout",
     "output_type": "stream",
     "text": [
      "38.0\n"
     ]
    }
   ],
   "source": [
    "yint_odd = [yi[i] for i in range (1, len(yi) - 1, 2) ]\n",
    "yint_even = [yi[i] for i in range (2, len(yi) - 2, 2) ]\n",
    "\n",
    "i_simp = (h / 3) * (yi[0] + 4 * sum(yint_odd) + 2 * sum(yint_even) + yi[-1] )\n",
    "\n",
    "print (i_simp)"
   ]
  },
  {
   "cell_type": "markdown",
   "metadata": {},
   "source": [
    "## Caso para valores expresados en una función:"
   ]
  },
  {
   "cell_type": "markdown",
   "metadata": {},
   "source": [
    "### Funciones polinómicas:\n",
    "\n",
    "$$\n",
    "\\int_{a}^{b} \\! f(x) \\, dx \\, , con \\, n \\, intervalos\n",
    "$$\n",
    "\n",
    "### En el código: </br>\n",
    "```a``` -> Limite inferior del intervalo </br>\n",
    "```b``` -> Limite superior del intervalo </br>\n",
    "```n``` -> Número de intervalos </br>\n",
    "```f``` -> Función polinómica a evaluar </br>\n",
    "```x``` -> se encarga de generar los valores de x en dependencia del intervalo\n",
    "\n",
    "```i_simp``` -> Resultado </br>"
   ]
  },
  {
   "cell_type": "markdown",
   "metadata": {},
   "source": [
    "#### Inserción de datos:"
   ]
  },
  {
   "cell_type": "code",
   "execution_count": 21,
   "metadata": {},
   "outputs": [],
   "source": [
    "a = 0\n",
    "b = 2\n",
    "n = 2\n",
    "h = (b - a) / n\n",
    "x = linspace(a, b, n + 1)\n",
    "f = \"4x^3-2x\""
   ]
  },
  {
   "cell_type": "markdown",
   "metadata": {},
   "source": [
    "#### Salida:"
   ]
  },
  {
   "cell_type": "code",
   "execution_count": 22,
   "metadata": {},
   "outputs": [
    {
     "name": "stdout",
     "output_type": "stream",
     "text": [
      "46.666666666666664\n"
     ]
    }
   ],
   "source": [
    "raw_c = poly_coefficients(f)\n",
    "coef = raw_c[::-1]\n",
    "\n",
    "p = pol.Polynomial(coef)\n",
    "\n",
    "yint_odd = array( [p(x[i] ) for i in range (1, len(x) - 1, 2) ] )\n",
    "yint_even = array( [p(x[i] ) for i in range (2, len(x) - 2, 2) ] )\n",
    "\n",
    "i_simp = (h / 3) * (p(a) + 4 * sum(p(yint_odd) ) + 2 * sum(p(yint_even) ) + p(b) )\n",
    "\n",
    "print(i_simp)"
   ]
  },
  {
   "cell_type": "markdown",
   "metadata": {},
   "source": [
    "### Resto de funciones, expresadas como funciones de _numpy_\n",
    "\n",
    "$$\n",
    "\\int_{a}^{b} \\! f(x) \\, dx \\, , con \\, n \\, intervalos\n",
    "$$\n",
    "\n",
    "### En el código: </br>\n",
    "```a``` -> Limite inferior del intervalo </br>\n",
    "```b``` -> Limite superior del intervalo </br>\n",
    "```n``` -> Número de intervalos </br>\n",
    "```f``` -> Función a evaluar </br>\n",
    "```x``` -> se encarga de generar los valores de x en dependencia del intervalo\n",
    "\n",
    "```i_simp``` -> Resultado </br>"
   ]
  },
  {
   "cell_type": "markdown",
   "metadata": {},
   "source": [
    "#### Inserción de datos:"
   ]
  },
  {
   "cell_type": "code",
   "execution_count": 23,
   "metadata": {},
   "outputs": [],
   "source": [
    "a = 0\n",
    "b = 2\n",
    "n = 2\n",
    "h = (b - a) / n\n",
    "x = linspace(a, b, n + 1)\n",
    "f = sin(x)"
   ]
  },
  {
   "cell_type": "markdown",
   "metadata": {},
   "source": [
    "#### Salida:"
   ]
  },
  {
   "cell_type": "code",
   "execution_count": 24,
   "metadata": {},
   "outputs": [
    {
     "name": "stdout",
     "output_type": "stream",
     "text": [
      "0.2804903282692988\n"
     ]
    }
   ],
   "source": [
    "i_simp = (h / 3) * (f[0] + 2 * sum(f[:n - 2:2] ) + 4 * sum(f[1:n - 1:2] ) + f[n - 1] )\n",
    "\n",
    "print(i_simp)"
   ]
  }
 ],
 "metadata": {
  "interpreter": {
   "hash": "5f1e2b7debabb81cfddc515bc2208cf2c521bebfebb13da0ee988ea546d02c25"
  },
  "kernelspec": {
   "display_name": "Python 3.8.5 64-bit ('base': conda)",
   "language": "python",
   "name": "python3"
  },
  "language_info": {
   "codemirror_mode": {
    "name": "ipython",
    "version": 3
   },
   "file_extension": ".py",
   "mimetype": "text/x-python",
   "name": "python",
   "nbconvert_exporter": "python",
   "pygments_lexer": "ipython3",
   "version": "3.8.5"
  },
  "orig_nbformat": 4
 },
 "nbformat": 4,
 "nbformat_minor": 2
}
