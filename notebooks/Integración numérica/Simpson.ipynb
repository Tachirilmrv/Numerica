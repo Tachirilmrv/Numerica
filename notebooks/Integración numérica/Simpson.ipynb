{
 "cells": [
  {
   "cell_type": "code",
   "execution_count": 1,
   "metadata": {},
   "outputs": [],
   "source": [
    "from numpy import *"
   ]
  },
  {
   "cell_type": "markdown",
   "metadata": {},
   "source": [
    "# Método Simpson"
   ]
  },
  {
   "cell_type": "markdown",
   "metadata": {},
   "source": [
    "### Funciones polinómicas:\n",
    "\n",
    "$$\n",
    "\\int_{a}^{b} \\! f(x) \\, dx \\, , con \\, n \\, intervalos\n",
    "$$\n",
    "\n",
    "### En el código: </br>\n",
    "```a``` -> Limite inferior del intervalo </br>\n",
    "```b``` -> Limite superior del intervalo </br>\n",
    "```n``` -> Número de intervalos </br>\n",
    "```f``` -> Función polinómica a evaluar </br>\n",
    "```x``` -> se encarga de generar los valores de x en dependencia del intervalo\n",
    "\n",
    "```i_simp``` -> Resultado </br>"
   ]
  },
  {
   "cell_type": "markdown",
   "metadata": {},
   "source": [
    "#### Inserción de datos:"
   ]
  },
  {
   "cell_type": "code",
   "execution_count": 5,
   "metadata": {},
   "outputs": [],
   "source": [
    "a = 0\n",
    "b = 10\n",
    "n = 9\n",
    "h = (b - a) / (n - 1)\n",
    "x = np.linspace(a, b, n)\n",
    "f = \"2x^2+4\""
   ]
  },
  {
   "cell_type": "markdown",
   "metadata": {},
   "source": [
    "#### Salida:"
   ]
  },
  {
   "cell_type": "code",
   "execution_count": 6,
   "metadata": {},
   "outputs": [
    {
     "data": {
      "text/plain": [
       "' raw_c = poly_coefficients(f)\\ncoef = fun[::-1]\\n\\np = pol.Polynomial(coef)\\n\\ni_trap = (h / 2) * (p(0) + 2 * sum(p(range(1, n) ) ) + p(n - 1) )\\n\\nprint(i_trap) '"
      ]
     },
     "execution_count": 6,
     "metadata": {},
     "output_type": "execute_result"
    }
   ],
   "source": [
    "raw_c = poly_coefficients(f)\n",
    "coef = fun[::-1]\n",
    "\n",
    "p = pol.Polynomial(coef)\n",
    "\n",
    "i_trap = (h / 2) * (p(0) + 2 * sum(p(range(1, n) ) ) + p(n - 1) )\n",
    "\n",
    "print(i_trap)"
   ]
  },
  {
   "cell_type": "markdown",
   "metadata": {},
   "source": [
    "### Resto de funciones, expresadas como funciones de _numpy_\n",
    "\n",
    "$$\n",
    "\\int_{a}^{b} \\! f(x) \\, dx \\, , con \\, n \\, intervalos\n",
    "$$\n",
    "\n",
    "### En el código: </br>\n",
    "```a``` -> Limite inferior del intervalo </br>\n",
    "```b``` -> Limite superior del intervalo </br>\n",
    "```n``` -> Número de intervalos </br>\n",
    "```f``` -> Función a evaluar </br>\n",
    "```x``` -> se encarga de generar los valores de x en dependencia del intervalo\n",
    "\n",
    "```i_simp``` -> Resultado </br>"
   ]
  },
  {
   "cell_type": "markdown",
   "metadata": {},
   "source": [
    "#### Inserción de datos:"
   ]
  },
  {
   "cell_type": "code",
   "execution_count": 7,
   "metadata": {},
   "outputs": [],
   "source": [
    "a = 0\n",
    "b = np.pi\n",
    "n = 11\n",
    "h = (b - a) / (n - 1)\n",
    "x = np.linspace(a, b, n)\n",
    "f = np.sin(x)"
   ]
  },
  {
   "cell_type": "markdown",
   "metadata": {},
   "source": [
    "#### Salida:"
   ]
  },
  {
   "cell_type": "code",
   "execution_count": 8,
   "metadata": {},
   "outputs": [
    {
     "name": "stdout",
     "output_type": "stream",
     "text": [
      "2.0001095173150043\n"
     ]
    }
   ],
   "source": [
    "i_simp = (h / 3) * (f[0] + 2 * sum(f[:n - 2:2] ) + 4 * sum(f[1:n - 1:2] ) + f[n - 1] )\n",
    "\n",
    "print(i_simp)"
   ]
  }
 ],
 "metadata": {
  "interpreter": {
   "hash": "5f1e2b7debabb81cfddc515bc2208cf2c521bebfebb13da0ee988ea546d02c25"
  },
  "kernelspec": {
   "display_name": "Python 3.8.5 64-bit ('base': conda)",
   "language": "python",
   "name": "python3"
  },
  "language_info": {
   "codemirror_mode": {
    "name": "ipython",
    "version": 3
   },
   "file_extension": ".py",
   "mimetype": "text/x-python",
   "name": "python",
   "nbconvert_exporter": "python",
   "pygments_lexer": "ipython3",
   "version": "3.8.5"
  },
  "orig_nbformat": 4
 },
 "nbformat": 4,
 "nbformat_minor": 2
}
