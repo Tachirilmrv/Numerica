{
 "cells": [
  {
   "cell_type": "code",
   "execution_count": 27,
   "metadata": {},
   "outputs": [],
   "source": [
    "import math\n",
    "import numpy as np"
   ]
  },
  {
   "cell_type": "markdown",
   "metadata": {},
   "source": [
    "# Método Simpson"
   ]
  },
  {
   "cell_type": "markdown",
   "metadata": {},
   "source": [
    "### Funciones polinómicas:\n",
    "\n",
    "$$\n",
    "\\int_{a}^{b} \\! f(x) \\, dx \\, , con \\, n \\, intervalos\n",
    "$$\n",
    "\n",
    "### En el código: </br>\n",
    "```a``` -> Limite inferior del intervalo </br>\n",
    "```b``` -> Limite superior del intervalo </br>\n",
    "```n``` -> Número de intervalos </br>\n",
    "```f``` -> Función polinómica a evaluar </br>\n",
    "```x``` -> se encarga de generar los valores de x en dependencia del intervalo\n",
    "\n",
    "```i_simp``` -> Resultado </br>"
   ]
  },
  {
   "cell_type": "code",
   "execution_count": 28,
   "metadata": {},
   "outputs": [],
   "source": [
    "def simpson(f, a, b, n):\n",
    "    h = (b-a/n)\n",
    "    e = f(a) + f(b)\n",
    "    l = 0\n",
    "    i = 1\n",
    "\n",
    "    while i < n:\n",
    "        x = a + i * h\n",
    "        value = f(x)\n",
    "        l += value\n",
    "        i += 2\n",
    "\n",
    "    p = 0\n",
    "    i = 2\n",
    "\n",
    "    while i < n:\n",
    "        x = a + i*h\n",
    "        p += f(x)\n",
    "        i += 2\n",
    "\n",
    "    return h * (e + 4*l + 2*p)/3"
   ]
  },
  {
   "cell_type": "markdown",
   "metadata": {},
   "source": [
    "#### Inserción de datos:"
   ]
  },
  {
   "cell_type": "code",
   "execution_count": 29,
   "metadata": {},
   "outputs": [],
   "source": [
    "a = 0 \n",
    "b = 1\n",
    "n = 8\n",
    "\n",
    "f = lambda x : np.sqrt((5 - x**3))"
   ]
  },
  {
   "cell_type": "markdown",
   "metadata": {},
   "source": [
    "#### Salida:"
   ]
  },
  {
   "cell_type": "code",
   "execution_count": 31,
   "metadata": {},
   "outputs": [
    {
     "name": "stdout",
     "output_type": "stream",
     "text": [
      "iter   \t x      \t e      \t l      \t p      \n",
      "----------------------------------------------------------------------\n"
     ]
    },
    {
     "name": "stderr",
     "output_type": "stream",
     "text": [
      "C:\\Users\\Jorge Haidar\\AppData\\Local\\Temp\\ipykernel_248\\3642225325.py:5: RuntimeWarning: invalid value encountered in sqrt\n",
      "  f = lambda x : np.sqrt((5 - x**3))\n"
     ]
    }
   ],
   "source": [
    "print (\"{:<7}\\t {:<7}\\t {:<7}\\t {:<7}\\t {:<7}\".format(\"iter\", \"x\", \"e\", \"l\", \"p\"))\n",
    "print ('-' * 70)\n",
    "\n",
    "root = simpson(f, a, b, n)"
   ]
  }
 ],
 "metadata": {
  "interpreter": {
   "hash": "5f1e2b7debabb81cfddc515bc2208cf2c521bebfebb13da0ee988ea546d02c25"
  },
  "kernelspec": {
   "display_name": "Python 3 (ipykernel)",
   "language": "python",
   "name": "python3"
  },
  "language_info": {
   "codemirror_mode": {
    "name": "ipython",
    "version": 3
   },
   "file_extension": ".py",
   "mimetype": "text/x-python",
   "name": "python",
   "nbconvert_exporter": "python",
   "pygments_lexer": "ipython3",
   "version": "3.10.9"
  }
 },
 "nbformat": 4,
 "nbformat_minor": 4
}
