{
 "cells": [
  {
   "cell_type": "code",
   "execution_count": 11,
   "id": "671380b7",
   "metadata": {},
   "outputs": [],
   "source": [
    "from numpy import *"
   ]
  },
  {
   "cell_type": "markdown",
   "id": "27f72bf3",
   "metadata": {},
   "source": [
    "# Método de Newton"
   ]
  },
  {
   "cell_type": "markdown",
   "id": "0db51065",
   "metadata": {},
   "source": [
    "## Implementación"
   ]
  },
  {
   "cell_type": "markdown",
   "id": "38af3fb1",
   "metadata": {},
   "source": [
    "``` newton_interpol(xi, yi, x0): ``` Implementación del método de diferencias divididas de Newton para interpolación polinómica\n",
    "\n",
    "### Parámetros\n",
    "- ``` xi ``` : conjunto de puntos *xi*\n",
    "- ``` yi ``` : conjunto de puntos *yi*\n",
    "- ``` x0 ``` : aproximación de la función en un punto determinado"
   ]
  },
  {
   "cell_type": "code",
   "execution_count": 12,
   "id": "5e4c36fc",
   "metadata": {},
   "outputs": [],
   "source": [
    "def divided_differences(xi, yi):\n",
    "    '''\n",
    "    Función para calcular la tabla de las diferencias divididas\n",
    "    Entrada: xi = arreglo que contiene los coeficientes de x\n",
    "             yi = arreglo que contiene los valores de y para cada x\n",
    "    Salida: a = matriz de diferencias divididas\n",
    "    '''\n",
    "    \n",
    "    m = len(xi)\n",
    "    x = copy(xi)\n",
    "    a = copy(yi)\n",
    "\n",
    "    for i in range(1, m):\n",
    "        a[i:m] = (a[i:m] - a[i - 1] ) / (x[i:m] - x[i - 1] )\n",
    "\n",
    "    return a"
   ]
  },
  {
   "cell_type": "code",
   "execution_count": 13,
   "id": "4bdfa1ee",
   "metadata": {},
   "outputs": [],
   "source": [
    "def newton_interpol(xi, yi, x0):\n",
    "    '''\n",
    "    Evalúa el polinomio de Newton en x0\n",
    "    Entrada: xi = arreglo que contiene los coeficientes de x\n",
    "             yi = arreglo que contiene los valores de y para cada x\n",
    "             x0 = punto a evaluar\n",
    "    Salida: p = valor de la función en el punto x0\n",
    "    '''\n",
    "    \n",
    "    a = divided_differences(xi, yi)\n",
    "    n = len(xi) - 1\n",
    "    p = a[n]\n",
    "\n",
    "    for i in range(1, n + 1):\n",
    "        p = a[n - i] + (x0 - xi[n - i] ) * p\n",
    "\n",
    "    return p"
   ]
  },
  {
   "cell_type": "markdown",
   "id": "a3893336",
   "metadata": {},
   "source": [
    "## Entrada de datos"
   ]
  },
  {
   "cell_type": "code",
   "execution_count": 14,
   "id": "3052d481",
   "metadata": {},
   "outputs": [],
   "source": [
    "xi = [0.2, 0.3, 0.4, 0.5, 0.6]\n",
    "yi = [0.4472, 0.5477, 0.6325, 0.7071, 0.7746]\n",
    "x0 = 0.35"
   ]
  },
  {
   "cell_type": "markdown",
   "id": "7f9c1445",
   "metadata": {},
   "source": [
    "## Salida de datos"
   ]
  },
  {
   "cell_type": "code",
   "execution_count": 15,
   "id": "0315f38f",
   "metadata": {},
   "outputs": [
    {
     "name": "stdout",
     "output_type": "stream",
     "text": [
      "Valor obtenido al evaluar 0.35: 0.5916625\n"
     ]
    }
   ],
   "source": [
    "re = newton_interpol(xi, yi, 0.35)\n",
    "\n",
    "print(f\"Valor obtenido al evaluar {x0}: {re}\")"
   ]
  }
 ],
 "metadata": {
  "interpreter": {
   "hash": "50a1c7f7f999c358e0b5259763df47a04f976b7989cc44fe344baf2ec3d120ee"
  },
  "kernelspec": {
   "display_name": "Python 3 (ipykernel)",
   "language": "python",
   "name": "python3"
  },
  "language_info": {
   "codemirror_mode": {
    "name": "ipython",
    "version": 3
   },
   "file_extension": ".py",
   "mimetype": "text/x-python",
   "name": "python",
   "nbconvert_exporter": "python",
   "pygments_lexer": "ipython3",
   "version": "3.10.9"
  }
 },
 "nbformat": 4,
 "nbformat_minor": 5
}
