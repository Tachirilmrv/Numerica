{
 "cells": [
  {
   "cell_type": "code",
   "execution_count": 47,
   "id": "671380b7",
   "metadata": {},
   "outputs": [],
   "source": [
    "from numpy import *\n",
    "import matplotlib.pyplot as plt\n",
    "plt.style.use (\"seaborn-poster\")\n",
    "%matplotlib inline"
   ]
  },
  {
   "cell_type": "markdown",
   "id": "bb8926a8",
   "metadata": {},
   "source": [
    "## Interpolación de Newton o Diferencias Dividas\n",
    "\n",
    "Es un método de interpolación polinómica.<br>\n",
    "Este método es útil para situaciones que requieran un número bajo de puntos para interpolar, ya que a medida que crece el número de puntos, también lo hace el grado del polinomio.\n",
    "\n",
    "### Definición de pendiente de orden n\n",
    "El primer paso para hallar la fórmula de la interpolación es definir la pendiente de orden $n$  de manera recursiva:\n",
    "\n",
    "- $f_0(x_i)$ : término i-ésimo de la secuencia\n",
    "\n",
    "- $f_1(x_0, x_1) = \\frac{f_0(x_1) - f_0(x_0)}{x_1 - x_0}$\n",
    "\n",
    "- $f_2(x_0, x_1, x_2) = \\frac{f_1(x_1,x_2) - f_1(x_0,x_1)}{x_2 - x_0}$ \n",
    "\n",
    "En general: <br>\n",
    "- $f_i(x_0, x_1, ..., x_{i-1}, x_i) = \\frac{f_{i-1}(x_1,...,x_{i-1},x_i) - f_{i-1}(x_0,x_1,...,x_{i-1})}{x_i - x_0}$\n",
    "\n",
    "### Definición del polinomio\n",
    "Una vez conocemos la pendiente, ya es posible definir el polinomio de grado $n$ de manera también recursiva:\n",
    "\n",
    "- $p_0(x) = f_0(x_0) = x_0$. Se define así ya que este es el único valor que se ajusta a la secuencia original para el primer término.\n",
    "\n",
    "- $p_1(x) = p_0(x) + f_1(x_0,x_1) * (x - x_0)$\n",
    "- $p_2(x) = p_1(x) + f_2(x_0, x_1, x_2) * (x - x_0) * (x - x_1)$\n",
    "\n",
    "En general<br>\n",
    "\n",
    "- $p_i(x) = p_{i-1}(v) + f_i(x_0,x_1,...,x_{i-1},x_i) \\prod_{j = 0}^{i - 1}(x - x_j)$"
   ]
  },
  {
   "cell_type": "markdown",
   "id": "8b3aa6b1",
   "metadata": {},
   "source": [
    "## Implementación"
   ]
  },
  {
   "cell_type": "markdown",
   "id": "f23f6769",
   "metadata": {},
   "source": [
    "```def diferencias_divididas(x, y):``` función para calcular la tabla de las diferencias divididas\n",
    "\n",
    "Entrada:\n",
    "- ```x``` = arreglo que contiene los coeficientes de x\n",
    "- ```y``` = arreglo que contiene los valores de y para cada x\n",
    "\n",
    "Salida:\n",
    "\n",
    "- ```coef``` = tabla de diferencias divididas"
   ]
  },
  {
   "cell_type": "code",
   "execution_count": 48,
   "id": "5e4c36fc",
   "metadata": {},
   "outputs": [],
   "source": [
    "def diferencias_divididas(x, y):\n",
    "\n",
    "    n = y.shape[0]\n",
    "    coef = zeros((n,n))\n",
    "    coef[:,0] = y\n",
    "    \n",
    "    for j in range(1,n):\n",
    "        for i in range(n-j):\n",
    "            coef[i][j] =(coef[i+1][j-1] - coef[i][j-1]) /(x[i+j] - x[i])\n",
    "    \n",
    "    return coef"
   ]
  },
  {
   "cell_type": "markdown",
   "id": "01e1e671",
   "metadata": {},
   "source": [
    "```def newton_poly(coef, x_data, x_0)``` función para evaluar el polinomio de Newton en $x_0$\n",
    "\n",
    "Entrada:\n",
    "- ```coef``` = tabla de las diferencias divididas\n",
    "- ```x_data``` = valores de x\n",
    "- ```x_0``` = valor en el que evaluar el polinomio"
   ]
  },
  {
   "cell_type": "code",
   "execution_count": 49,
   "id": "4bdfa1ee",
   "metadata": {},
   "outputs": [],
   "source": [
    "def newton_poly(coef, x_data, x0):\n",
    "\n",
    "    n = len(x_data) - 1\n",
    "    p = coef[n]\n",
    "    \n",
    "    for i in range(1, n + 1):\n",
    "        p = coef[n-i] +(x0 - x_data[n-i]) * p\n",
    "    \n",
    "    return p"
   ]
  },
  {
   "cell_type": "markdown",
   "id": "2e73a061",
   "metadata": {},
   "source": [
    "## Inserción de datos:"
   ]
  },
  {
   "cell_type": "code",
   "execution_count": 50,
   "id": "3052d481",
   "metadata": {},
   "outputs": [],
   "source": [
    "x = array([2.0, 2.5, 3.0, 3.5, 4.0, 4.5, 5.0, 5.5, 6.0, 6.5])\n",
    "y = array([3, 14, 34, 64, 107, 165, 240, 336, 451, 591])\n",
    "\n",
    "#numero de diferencia divididas a mostrar\n",
    "n = 5"
   ]
  },
  {
   "cell_type": "markdown",
   "id": "0b85e338",
   "metadata": {},
   "source": [
    "## Salida:"
   ]
  },
  {
   "cell_type": "code",
   "execution_count": 51,
   "id": "1f807258",
   "metadata": {},
   "outputs": [
    {
     "name": "stdout",
     "output_type": "stream",
     "text": [
      "x      \t f(x)   \t dif 1      \t dif 2      \t dif 3      \t dif 4      \t dif 5      \t \n",
      "2.00000\t 3.00000\t 3.00000\t 22.00000\t 18.00000\t 1.33333\t 1.33333\t \n",
      "\n",
      "2.50000\t 14.00000\t 14.00000\t 40.00000\t 20.00000\t 4.00000\t -0.66667\t \n",
      "\n",
      "3.00000\t 34.00000\t 34.00000\t 60.00000\t 26.00000\t 2.66667\t 0.00000\t \n",
      "\n",
      "3.50000\t 64.00000\t 64.00000\t 86.00000\t 30.00000\t 2.66667\t 1.33333\t \n",
      "\n",
      "4.00000\t 107.00000\t 107.00000\t 116.00000\t 34.00000\t 5.33333\t -4.00000\t \n",
      "\n",
      "4.50000\t 165.00000\t 165.00000\t 150.00000\t 42.00000\t -2.66667\t 5.33333\t \n",
      "\n",
      "5.00000\t 240.00000\t 240.00000\t 192.00000\t 38.00000\t 8.00000\t 0.00000\t \n",
      "\n",
      "5.50000\t 336.00000\t 336.00000\t 230.00000\t 50.00000\t 0.00000\t 0.00000\t \n",
      "\n",
      "6.00000\t 451.00000\t 451.00000\t 280.00000\t 0.00000\t 0.00000\t 0.00000\t \n",
      "\n",
      "6.50000\t 591.00000\t 591.00000\t 0.00000\t 0.00000\t 0.00000\t 0.00000\t \n",
      "\n"
     ]
    },
    {
     "data": {
      "text/plain": [
       "[<matplotlib.lines.Line2D at 0x283720af970>]"
      ]
     },
     "execution_count": 51,
     "metadata": {},
     "output_type": "execute_result"
    },
    {
     "data": {
      "image/png": "[encoded data removed]",
      "text/plain": [
       "<Figure size 864x576 with 1 Axes>"
      ]
     },
     "metadata": {
      "needs_background": "light"
     },
     "output_type": "display_data"
    }
   ],
   "source": [
    "a_s = diferencias_divididas(x, y)\n",
    "\n",
    "#encabezado\n",
    "print (\"{:<7}\\t {:<7}\\t \".format(\"x\", \"f(x)\"), end = '')\n",
    "for i in range(n):\n",
    "    print(\"dif {:<7}\\t \".format(i+1), end = '')\n",
    "print()\n",
    "\n",
    "for i in range(a_s.shape[0]):\n",
    "    print(\"{:.5f}\\t {:.5f}\\t \".format(x[i],y[i]), end = '')\n",
    "    for j in range(n):\n",
    "        print(\"{:.5f}\\t \".format(a_s[i][j]), end = '')\n",
    "    print(\"\\n\")\n",
    "\n",
    "x0 = arange(x[0], x[len(x)-1], .1)\n",
    "y0 = newton_poly(a_s[0,:], x, x0)\n",
    "\n",
    "plt.figure( figsize =(12,8) )\n",
    "plt.plot(x ,y, \"bo\")\n",
    "plt.plot(x0,y0)"
   ]
  }
 ],
 "metadata": {
  "interpreter": {
   "hash": "50a1c7f7f999c358e0b5259763df47a04f976b7989cc44fe344baf2ec3d120ee"
  },
  "kernelspec": {
   "display_name": "Python 3 (ipykernel)",
   "language": "python",
   "name": "python3"
  },
  "language_info": {
   "codemirror_mode": {
    "name": "ipython",
    "version": 3
   },
   "file_extension": ".py",
   "mimetype": "text/x-python",
   "name": "python",
   "nbconvert_exporter": "python",
   "pygments_lexer": "ipython3",
   "version": "3.8.5"
  }
 },
 "nbformat": 4,
 "nbformat_minor": 5
}
