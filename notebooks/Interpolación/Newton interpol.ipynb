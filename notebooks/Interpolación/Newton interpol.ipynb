{
 "cells": [
  {
   "cell_type": "code",
   "execution_count": 62,
   "id": "671380b7",
   "metadata": {},
   "outputs": [],
   "source": [
    "from numpy import *\n",
    "import matplotlib.pyplot as plt"
   ]
  },
  {
   "cell_type": "markdown",
   "id": "bb8926a8",
   "metadata": {},
   "source": [
    "## Interpolación de Newton o Diferencias Dividas\n",
    "\n"
   ]
  },
  {
   "cell_type": "code",
   "execution_count": 63,
   "id": "0b989d4c",
   "metadata": {},
   "outputs": [],
   "source": [
    "plt.style.use (\"seaborn-poster\")\n",
    "%matplotlib inline"
   ]
  },
  {
   "cell_type": "code",
   "execution_count": 64,
   "id": "5e4c36fc",
   "metadata": {},
   "outputs": [],
   "source": [
    "def diferencias_divididas(x, y):\n",
    "    '''\n",
    "    Función para calcular la tabla de las diferencias divididas\n",
    "    Entrada: x = arreglo que contiene los coeficientes de x\n",
    "             y = arreglo que contiene los valores de y para cada x\n",
    "    Salida: coef = tabla de diferencias divididas\n",
    "    '''\n",
    "    \n",
    "    n = y.shape[0]\n",
    "    coef = zeros((n,n))\n",
    "    coef[:,0] = y\n",
    "    \n",
    "    for j in range(1,n):\n",
    "        for i in range(n-j):\n",
    "            coef[i][j] =(coef[i+1][j-1] - coef[i][j-1]) /(x[i+j] - x[i])\n",
    "    \n",
    "    return coef"
   ]
  },
  {
   "cell_type": "code",
   "execution_count": 65,
   "id": "4bdfa1ee",
   "metadata": {},
   "outputs": [],
   "source": [
    "def newton_poly(coef, x_data, x0):\n",
    "    '''\n",
    "    Evalúa el polinomio de Newton en x0\n",
    "    Entrada: coef = tabla de diferencias divididas\n",
    "    '''\n",
    "    \n",
    "    n = len(x_data) - 1\n",
    "    p = coef[n]\n",
    "    \n",
    "    for i in range(1, n + 1):\n",
    "        p = coef[n-i] +(x0 - x_data[n-i]) * p\n",
    "    \n",
    "    return p"
   ]
  },
  {
   "cell_type": "code",
   "execution_count": 68,
   "id": "cdeb529c",
   "metadata": {},
   "outputs": [
    {
     "name": "stdout",
     "output_type": "stream",
     "text": [
      "3.0000\t22.0000\t18.0000\t1.3333\t1.3333\t-0.8000\t0.3556\t-0.0762\t-0.0508\t0.0720\t\n",
      "\n",
      "14.0000\t40.0000\t20.0000\t4.0000\t-0.6667\t0.2667\t0.0889\t-0.2794\t0.2730\t\n",
      "\n",
      "34.0000\t60.0000\t26.0000\t2.6667\t0.0000\t0.5333\t-0.8889\t0.8127\t\n",
      "\n",
      "64.0000\t86.0000\t30.0000\t2.6667\t1.3333\t-2.1333\t1.9556\t\n",
      "\n",
      "107.0000\t116.0000\t34.0000\t5.3333\t-4.0000\t3.7333\t\n",
      "\n",
      "165.0000\t150.0000\t42.0000\t-2.6667\t5.3333\t\n",
      "\n",
      "240.0000\t192.0000\t38.0000\t8.0000\t\n",
      "\n",
      "336.0000\t230.0000\t50.0000\t\n",
      "\n",
      "451.0000\t280.0000\t\n",
      "\n",
      "591.0000\t\n",
      "\n"
     ]
    }
   ],
   "source": [
    "x = array([2.0, 2.5, 3.0, 3.5, 4.0, 4.5, 5.0, 5.5, 6.0, 6.5])\n",
    "y = array([3, 14, 34, 64, 107, 165, 240, 336, 451, 591])\n",
    "\n",
    "n = len(x)\n",
    "\n",
    "#tabla de diferencias divididas\n",
    "a = zeros([n,n])\n",
    "\n",
    "for i in range(n):\n",
    "    a[i][0] = y[i]\n",
    "\n",
    "\n",
    "for j in range(1,n):\n",
    "    for i in range(j, n):\n",
    "        a[i][j] = (a[i][j-1] - a[i-1][j-1]) / (x[i] - x[i-j])\n",
    "\n",
    "for i in range(n):\n",
    "    for j in range(n-i):\n",
    "        print(\"%0.4f\\t\"%(a[i+j][j]), end = '')\n",
    "    print(\"\\n\")"
   ]
  },
  {
   "cell_type": "code",
   "execution_count": 67,
   "id": "3052d481",
   "metadata": {},
   "outputs": [
    {
     "data": {
      "text/plain": [
       "[<matplotlib.lines.Line2D at 0x2477b708df0>]"
      ]
     },
     "execution_count": 67,
     "metadata": {},
     "output_type": "execute_result"
    },
    {
     "data": {
      "image/png": "[encoded data removed]",
      "text/plain": [
       "<Figure size 864x576 with 1 Axes>"
      ]
     },
     "metadata": {
      "needs_background": "light"
     },
     "output_type": "display_data"
    }
   ],
   "source": [
    "x = array([2.0, 2.5, 3.0, 3.5, 4.0, 4.5, 5.0, 5.5, 6.0, 6.5])\n",
    "y = array([3, 14, 34, 64, 107, 165, 240, 336, 451, 591])\n",
    "\n",
    "a_s = diferencias_divididas(x, y)[0, :]\n",
    "\n",
    "x0 = arange(-5, 2.1, .1)\n",
    "y0 = newton_poly(a_s, x, x0)\n",
    "\n",
    "plt.figure( figsize =(12,8) )\n",
    "plt.plot(x ,y, \"bo\")\n",
    "plt.plot(x0,y0)\n"
   ]
  },
  {
   "cell_type": "code",
   "execution_count": null,
   "id": "1ca3f586",
   "metadata": {},
   "outputs": [],
   "source": []
  }
 ],
 "metadata": {
  "interpreter": {
   "hash": "50a1c7f7f999c358e0b5259763df47a04f976b7989cc44fe344baf2ec3d120ee"
  },
  "kernelspec": {
   "display_name": "Python 3 (ipykernel)",
   "language": "python",
   "name": "python3"
  },
  "language_info": {
   "codemirror_mode": {
    "name": "ipython",
    "version": 3
   },
   "file_extension": ".py",
   "mimetype": "text/x-python",
   "name": "python",
   "nbconvert_exporter": "python",
   "pygments_lexer": "ipython3",
   "version": "3.8.5"
  }
 },
 "nbformat": 4,
 "nbformat_minor": 5
}
