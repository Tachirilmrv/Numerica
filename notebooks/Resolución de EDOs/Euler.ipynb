{
 "cells": [
  {
   "cell_type": "code",
   "execution_count": 13,
   "metadata": {},
   "outputs": [],
   "source": [
    "from numpy import *"
   ]
  },
  {
   "cell_type": "markdown",
   "metadata": {},
   "source": [
    "# Método de Euler"
   ]
  },
  {
   "cell_type": "markdown",
   "metadata": {},
   "source": [
    "El algoritmo obtiene la solución aproximada del problema de Cauchy:\n",
    "$f' = f(x, y) \\\\\n",
    " y(X_{0} ) = Y_{0} $\n",
    "En un intervalo $x_{0} \\leq x \\leq x_{f} $ con paso $h > 0$"
   ]
  },
  {
   "cell_type": "markdown",
   "metadata": {},
   "source": [
    "## Implementación"
   ]
  },
  {
   "cell_type": "markdown",
   "metadata": {},
   "source": [
    "``` euler(f, x0, y0, xf, h): ``` Implementación del método de euler para la resolución de ecuaciones diferenciales ordinarias\n",
    "\n",
    "### Parámetros\n",
    "\n",
    "- ``` f ``` : define la función\n",
    "- ``` x0 ``` : condición inicial\n",
    "- ``` y0 ``` : condición inicial\n",
    "- ``` xf ``` : valor final\n",
    "- ``` h ``` : paso(x<sub>n</sub>  - x<sub>n - 1</sub>)"
   ]
  },
  {
   "cell_type": "code",
   "execution_count": 14,
   "metadata": {},
   "outputs": [],
   "source": [
    "def euler(f, x0, y0, xf, h):\n",
    "    n = 0\n",
    "    xn = x0\n",
    "    yn = y0\n",
    "    yxn = f(xn, yn)\n",
    "    error = yxn - yn\n",
    "\n",
    "    print(\"{:<5}\\t {:.5f}\\t {:.5f}\\t {:.5f}\\t {:.5f}\\t\".format(n, xn, yn, yxn, error) )\n",
    "\n",
    "    while xn < xf:\n",
    "        xn1 = xn + h\n",
    "        yn1 = yn + h * f(xn, yn)\n",
    "        yxn1 = f(xn1, yn1)\n",
    "\n",
    "        print(\"{:<5}\\t {:.5f}\\t {:.5f}\\t {:.5f}\\t {:.5f}\\t\".format(n, xn, yn, yxn, error) )\n",
    "        \n",
    "        n += 1\n",
    "         \n",
    "        xn = xn1\n",
    "        yn = yn1\n",
    "        yxn = yxn1\n",
    "        error = yxn - yn\n",
    "        "
   ]
  },
  {
   "cell_type": "markdown",
   "metadata": {},
   "source": [
    "## Entrada de datos"
   ]
  },
  {
   "cell_type": "code",
   "execution_count": 15,
   "metadata": {},
   "outputs": [],
   "source": [
    "f = lambda x, y : 1 / 2 * y\n",
    "x0 = 0\n",
    "y0 = 0.5\n",
    "xf = 4\n",
    "h = 0.4"
   ]
  },
  {
   "cell_type": "markdown",
   "metadata": {},
   "source": [
    "## Salida de datos"
   ]
  },
  {
   "cell_type": "code",
   "execution_count": 16,
   "metadata": {},
   "outputs": [
    {
     "name": "stdout",
     "output_type": "stream",
     "text": [
      "n    \t Xn     \t Yn     \t Y(Xn)  \t error  \t\n",
      "----------------------------------------------------------------------\n",
      "0    \t 0.00000\t 0.50000\t 0.25000\t -0.25000\t\n",
      "0    \t 0.00000\t 0.50000\t 0.25000\t -0.25000\t\n",
      "1    \t 0.40000\t 0.60000\t 0.30000\t -0.30000\t\n",
      "2    \t 0.80000\t 0.72000\t 0.36000\t -0.36000\t\n",
      "3    \t 1.20000\t 0.86400\t 0.43200\t -0.43200\t\n",
      "4    \t 1.60000\t 1.03680\t 0.51840\t -0.51840\t\n",
      "5    \t 2.00000\t 1.24416\t 0.62208\t -0.62208\t\n",
      "6    \t 2.40000\t 1.49299\t 0.74650\t -0.74650\t\n",
      "7    \t 2.80000\t 1.79159\t 0.89580\t -0.89580\t\n",
      "8    \t 3.20000\t 2.14991\t 1.07495\t -1.07495\t\n",
      "9    \t 3.60000\t 2.57989\t 1.28995\t -1.28995\t\n",
      "10   \t 4.00000\t 3.09587\t 1.54793\t -1.54793\t\n"
     ]
    }
   ],
   "source": [
    "print(\"{:<5}\\t {:<7}\\t {:<7}\\t {:<7}\\t {:<7}\\t\".format(\"n\", \"Xn\", \"Yn\", \"Y(Xn)\", \"error\") )\n",
    "print('-' * 70)\n",
    "\n",
    "euler(f, x0, y0, xf, h)"
   ]
  }
 ],
 "metadata": {
  "interpreter": {
   "hash": "5f1e2b7debabb81cfddc515bc2208cf2c521bebfebb13da0ee988ea546d02c25"
  },
  "kernelspec": {
   "display_name": "Python 3.8.5 ('base')",
   "language": "python",
   "name": "python3"
  },
  "language_info": {
   "codemirror_mode": {
    "name": "ipython",
    "version": 3
   },
   "file_extension": ".py",
   "mimetype": "text/x-python",
   "name": "python",
   "nbconvert_exporter": "python",
   "pygments_lexer": "ipython3",
   "version": "3.8.5"
  },
  "orig_nbformat": 4
 },
 "nbformat": 4,
 "nbformat_minor": 2
}
