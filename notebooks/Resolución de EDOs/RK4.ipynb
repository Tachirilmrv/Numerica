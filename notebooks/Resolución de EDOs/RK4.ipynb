{
 "cells": [
  {
   "cell_type": "code",
   "execution_count": 9,
   "metadata": {},
   "outputs": [],
   "source": [
    "from numpy import *"
   ]
  },
  {
   "cell_type": "markdown",
   "metadata": {},
   "source": [
    "# Método de Runge-Kutta de orden 4 (RK4)"
   ]
  },
  {
   "cell_type": "markdown",
   "metadata": {},
   "source": [
    "El algoritmo obtiene la solución aproximada del problema de Cauchy:\n",
    "$f' = f(x, y) \\\\\n",
    " y(X_{0} ) = Y_{0} $\n",
    "En un intervalo $x_{0} \\leq x \\leq x_{f} $ con paso $h > 0$"
   ]
  },
  {
   "cell_type": "markdown",
   "metadata": {},
   "source": [
    "## Implementación"
   ]
  },
  {
   "cell_type": "markdown",
   "metadata": {},
   "source": [
    "``` rk4(f, x0, y0, xf, h): ``` Implementación del método de runge-kutta de orden 4 para la resolución de ecuaciones diferenciales ordinarias\n",
    "\n",
    "### Parámetros\n",
    "\n",
    "- ``` f ``` : define la función\n",
    "- ``` x0 ``` : condición inicial\n",
    "- ``` y0 ``` : condición inicial\n",
    "- ``` xf ``` : valor final\n",
    "- ``` h ``` : paso(x<sub>n</sub>  - x<sub>n - 1</sub>)"
   ]
  },
  {
   "cell_type": "code",
   "execution_count": 10,
   "metadata": {},
   "outputs": [],
   "source": [
    "def rk4(f, x0, y0, xf, h):\n",
    "    n = 0\n",
    "    xn = x0\n",
    "    yn = y0\n",
    "    k1 = h * f(xn, yn)\n",
    "    k2 = h * f(xn + 1 / 2 * h, yn + 1 / 2 * k1)\n",
    "    k3 = h * f(xn + 1 / 2 * h, yn + 1 / 2 * k2)\n",
    "    k4 = h * f(xn + h, yn + k3)\n",
    "\n",
    "    print(\"{:<5}\\t {:.5f}\\t {:.5f}\\t {:.5f}\\t {:.5f}\\t {:.5f}\\t {:.5f}\\t\".format(n, xn, yn, k1, k2, k3, k4) )\n",
    "\n",
    "    while xn < xf:\n",
    "        k1 = h * f(xn, yn)\n",
    "        k2 = h * f(xn + 1 / 2 * h, yn + 1 / 2 * k1)\n",
    "        k3 = h * f(xn + 1 / 2 * h, yn + 1 / 2 * k2)\n",
    "        k4 = h * f(xn + h, yn + k3)\n",
    "        xn1 = xn + h\n",
    "        yn1 = yn + 1 / 6 * (k1 + 2 * k2 + 2 * k3 + k4)\n",
    "\n",
    "        n += 1\n",
    "         \n",
    "        xn = xn1\n",
    "        yn = yn1\n",
    "        \n",
    "        print(\"{:<5}\\t {:.5f}\\t {:.5f}\\t {:.5f}\\t {:.5f}\\t {:.5f}\\t {:.5f}\\t\".format(n, xn, yn, k1, k2, k3, k4) )"
   ]
  },
  {
   "cell_type": "markdown",
   "metadata": {},
   "source": [
    "## Entrada de datos"
   ]
  },
  {
   "cell_type": "code",
   "execution_count": 11,
   "metadata": {},
   "outputs": [],
   "source": [
    "f = lambda x, y : x - y\n",
    "x0 = 1\n",
    "y0 = 3\n",
    "xf = 5\n",
    "h = 0.2"
   ]
  },
  {
   "cell_type": "markdown",
   "metadata": {},
   "source": [
    "## Salida de datos"
   ]
  },
  {
   "cell_type": "code",
   "execution_count": 12,
   "metadata": {},
   "outputs": [
    {
     "name": "stdout",
     "output_type": "stream",
     "text": [
      "n    \t Xn     \t Yn     \t K1     \t K2     \t K3     \t K4     \t\n",
      "----------------------------------------------------------------------------------------------------\n",
      "0    \t 1.00000\t 3.00000\t -0.40000\t -0.34000\t -0.34600\t -0.29080\t\n",
      "1    \t 1.20000\t 2.65620\t -0.40000\t -0.34000\t -0.34600\t -0.29080\t\n",
      "2    \t 1.40000\t 2.41097\t -0.29124\t -0.24212\t -0.24703\t -0.20183\t\n",
      "3    \t 1.60000\t 2.24645\t -0.20219\t -0.16198\t -0.16600\t -0.12900\t\n",
      "4    \t 1.80000\t 2.14800\t -0.12929\t -0.09636\t -0.09965\t -0.06936\t\n",
      "5    \t 2.00000\t 2.10366\t -0.06960\t -0.04264\t -0.04534\t -0.02053\t\n",
      "6    \t 2.20000\t 2.10360\t -0.02073\t 0.00134\t -0.00087\t 0.01944\t\n",
      "7    \t 2.40000\t 2.13981\t 0.01928\t 0.03735\t 0.03554\t 0.05217\t\n",
      "8    \t 2.60000\t 2.20570\t 0.05204\t 0.06683\t 0.06536\t 0.07897\t\n",
      "9    \t 2.80000\t 2.29591\t 0.07886\t 0.09097\t 0.08976\t 0.10091\t\n",
      "10   \t 3.00000\t 2.40602\t 0.10082\t 0.11074\t 0.10974\t 0.11887\t\n",
      "11   \t 3.20000\t 2.53242\t 0.11880\t 0.12692\t 0.12610\t 0.13358\t\n",
      "12   \t 3.40000\t 2.67216\t 0.13352\t 0.14016\t 0.13950\t 0.14562\t\n",
      "13   \t 3.60000\t 2.82283\t 0.14557\t 0.15101\t 0.15047\t 0.15547\t\n",
      "14   \t 3.80000\t 2.98244\t 0.15543\t 0.15989\t 0.15944\t 0.16355\t\n",
      "15   \t 4.00000\t 3.14937\t 0.16351\t 0.16716\t 0.16680\t 0.17015\t\n",
      "16   \t 4.20000\t 3.32229\t 0.17013\t 0.17311\t 0.17281\t 0.17556\t\n",
      "17   \t 4.40000\t 3.50013\t 0.17554\t 0.17799\t 0.17774\t 0.17999\t\n",
      "18   \t 4.60000\t 3.68198\t 0.17997\t 0.18198\t 0.18178\t 0.18362\t\n",
      "19   \t 4.80000\t 3.86712\t 0.18360\t 0.18524\t 0.18508\t 0.18659\t\n",
      "20   \t 5.00000\t 4.05495\t 0.18658\t 0.18792\t 0.18778\t 0.18902\t\n"
     ]
    }
   ],
   "source": [
    "print(\"{:<5}\\t {:<7}\\t {:<7}\\t {:<7}\\t {:<7}\\t {:<7}\\t {:<7}\\t\".format(\"n\", \"Xn\", \"Yn\", \"K1\", \"K2\", \"K3\", \"K4\") )\n",
    "print('-' * 100)\n",
    "\n",
    "rk4(f, x0, y0, xf, h)"
   ]
  }
 ],
 "metadata": {
  "interpreter": {
   "hash": "5f1e2b7debabb81cfddc515bc2208cf2c521bebfebb13da0ee988ea546d02c25"
  },
  "kernelspec": {
   "display_name": "Python 3.8.5 ('base')",
   "language": "python",
   "name": "python3"
  },
  "language_info": {
   "codemirror_mode": {
    "name": "ipython",
    "version": 3
   },
   "file_extension": ".py",
   "mimetype": "text/x-python",
   "name": "python",
   "nbconvert_exporter": "python",
   "pygments_lexer": "ipython3",
   "version": "3.8.5"
  },
  "orig_nbformat": 4
 },
 "nbformat": 4,
 "nbformat_minor": 2
}
