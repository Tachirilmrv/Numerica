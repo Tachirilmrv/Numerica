{
 "cells": [
  {
   "cell_type": "code",
   "execution_count": 1,
   "id": "4777f991",
   "metadata": {},
   "outputs": [],
   "source": [
    "import numpy as np"
   ]
  },
  {
   "cell_type": "markdown",
   "id": "ae55f4ab",
   "metadata": {},
   "source": [
    "### Creación de un array."
   ]
  },
  {
   "cell_type": "code",
   "execution_count": 2,
   "id": "d471d4fe",
   "metadata": {},
   "outputs": [
    {
     "data": {
      "text/plain": "array([1, 4, 3])"
     },
     "execution_count": 2,
     "metadata": {},
     "output_type": "execute_result"
    }
   ],
   "source": [
    "x = np.array ( [1, 4, 3] )\n",
    "x"
   ]
  },
  {
   "cell_type": "markdown",
   "id": "9df56e38",
   "metadata": {},
   "source": [
    "### Array multidimensional. Es expresado como una lista de listas que contienen las filas."
   ]
  },
  {
   "cell_type": "code",
   "execution_count": 3,
   "id": "212c4bd7",
   "metadata": {},
   "outputs": [
    {
     "data": {
      "text/plain": "array([[1, 4, 3],\n       [9, 2, 7]])"
     },
     "execution_count": 3,
     "metadata": {},
     "output_type": "execute_result"
    }
   ],
   "source": [
    "y = np.array ( [ [1, 4, 3], \n",
    "                 [9, 2, 7] ] )\n",
    "y"
   ]
  },
  {
   "cell_type": "code",
   "execution_count": 4,
   "id": "944ba9cc",
   "metadata": {},
   "outputs": [
    {
     "data": {
      "text/plain": "(2, 3)"
     },
     "execution_count": 4,
     "metadata": {},
     "output_type": "execute_result"
    }
   ],
   "source": [
    "y.shape"
   ]
  },
  {
   "cell_type": "markdown",
   "id": "b84b3fc2",
   "metadata": {},
   "source": [
    "### Crear elementos en un cierto rango"
   ]
  },
  {
   "cell_type": "code",
   "execution_count": 5,
   "id": "a3ba2ecf",
   "metadata": {},
   "outputs": [
    {
     "name": "stdout",
     "output_type": "stream",
     "text": [
      "[   1    2    3 ... 1997 1998 1999]\n"
     ]
    },
    {
     "data": {
      "text/plain": "numpy.ndarray"
     },
     "execution_count": 5,
     "metadata": {},
     "output_type": "execute_result"
    }
   ],
   "source": [
    "z = np.arange (1, 2000, 1)\n",
    "print (z)\n",
    "type (z)"
   ]
  },
  {
   "cell_type": "code",
   "execution_count": 6,
   "id": "a2b13642",
   "metadata": {},
   "outputs": [
    {
     "data": {
      "text/plain": "array([3.        , 3.66666667, 4.33333333, 5.        , 5.66666667,\n       6.33333333, 7.        , 7.66666667, 8.33333333, 9.        ])"
     },
     "execution_count": 6,
     "metadata": {},
     "output_type": "execute_result"
    }
   ],
   "source": [
    "np.linspace(3, 9, 10)"
   ]
  },
  {
   "cell_type": "markdown",
   "id": "df9ae347",
   "metadata": {},
   "source": [
    "### Indexing"
   ]
  },
  {
   "cell_type": "code",
   "execution_count": 7,
   "id": "016c62b5",
   "metadata": {},
   "outputs": [
    {
     "data": {
      "text/plain": "array([[1, 3],\n       [9, 7]])"
     },
     "execution_count": 7,
     "metadata": {},
     "output_type": "execute_result"
    }
   ],
   "source": [
    "y [:, [0, 2] ] #Obtener las 2 primeras columnas"
   ]
  },
  {
   "cell_type": "markdown",
   "id": "987bc42d",
   "metadata": {},
   "source": [
    "### Operaciones escalares con arrays"
   ]
  },
  {
   "cell_type": "code",
   "execution_count": 8,
   "id": "7bb0a659",
   "metadata": {},
   "outputs": [],
   "source": [
    "b = np.array ( [ [1, 2],\n",
    "                 [3, 4] ] )"
   ]
  },
  {
   "cell_type": "code",
   "execution_count": 9,
   "id": "5098b891",
   "metadata": {},
   "outputs": [
    {
     "data": {
      "text/plain": "array([[3, 4],\n       [5, 6]])"
     },
     "execution_count": 9,
     "metadata": {},
     "output_type": "execute_result"
    }
   ],
   "source": [
    "b + 2"
   ]
  },
  {
   "cell_type": "code",
   "execution_count": 10,
   "id": "afeaaf2c",
   "metadata": {},
   "outputs": [
    {
     "data": {
      "text/plain": "array([[-1,  0],\n       [ 1,  2]])"
     },
     "execution_count": 10,
     "metadata": {},
     "output_type": "execute_result"
    }
   ],
   "source": [
    "b - 2"
   ]
  },
  {
   "cell_type": "code",
   "execution_count": 11,
   "id": "ce2100b6",
   "metadata": {},
   "outputs": [
    {
     "data": {
      "text/plain": "array([[2, 4],\n       [6, 8]])"
     },
     "execution_count": 11,
     "metadata": {},
     "output_type": "execute_result"
    }
   ],
   "source": [
    "b * 2"
   ]
  },
  {
   "cell_type": "code",
   "execution_count": 12,
   "id": "fa3a8086",
   "metadata": {},
   "outputs": [
    {
     "data": {
      "text/plain": "array([[0.5, 1. ],\n       [1.5, 2. ]])"
     },
     "execution_count": 12,
     "metadata": {},
     "output_type": "execute_result"
    }
   ],
   "source": [
    "b / 2"
   ]
  },
  {
   "cell_type": "code",
   "execution_count": 13,
   "id": "15170b94",
   "metadata": {},
   "outputs": [
    {
     "data": {
      "text/plain": "array([[ 1,  4],\n       [ 9, 16]])"
     },
     "execution_count": 13,
     "metadata": {},
     "output_type": "execute_result"
    }
   ],
   "source": [
    "b ** 2"
   ]
  },
  {
   "cell_type": "markdown",
   "id": "9f4aa851",
   "metadata": {},
   "source": [
    "### Operaciones entre arrays"
   ]
  },
  {
   "cell_type": "code",
   "execution_count": 14,
   "id": "41201f5b",
   "metadata": {},
   "outputs": [],
   "source": [
    "d = np.array ( [ [3, 4],\n",
    "                 [5, 6] ] )"
   ]
  },
  {
   "cell_type": "code",
   "execution_count": 15,
   "id": "df842572",
   "metadata": {},
   "outputs": [
    {
     "data": {
      "text/plain": "array([[ 4,  6],\n       [ 8, 10]])"
     },
     "execution_count": 15,
     "metadata": {},
     "output_type": "execute_result"
    }
   ],
   "source": [
    "b + d"
   ]
  },
  {
   "cell_type": "code",
   "execution_count": 16,
   "id": "80e530ac",
   "metadata": {},
   "outputs": [
    {
     "data": {
      "text/plain": "array([[-2, -2],\n       [-2, -2]])"
     },
     "execution_count": 16,
     "metadata": {},
     "output_type": "execute_result"
    }
   ],
   "source": [
    "b - d"
   ]
  },
  {
   "cell_type": "code",
   "execution_count": 17,
   "id": "30641ea6",
   "metadata": {},
   "outputs": [
    {
     "data": {
      "text/plain": "array([[ 3,  8],\n       [15, 24]])"
     },
     "execution_count": 17,
     "metadata": {},
     "output_type": "execute_result"
    }
   ],
   "source": [
    "b * d"
   ]
  },
  {
   "cell_type": "code",
   "execution_count": 18,
   "id": "76d52dd6",
   "metadata": {},
   "outputs": [
    {
     "data": {
      "text/plain": "array([[0.33333333, 0.5       ],\n       [0.6       , 0.66666667]])"
     },
     "execution_count": 18,
     "metadata": {},
     "output_type": "execute_result"
    }
   ],
   "source": [
    "b / d"
   ]
  },
  {
   "cell_type": "code",
   "execution_count": 19,
   "id": "e25d4d45",
   "metadata": {},
   "outputs": [
    {
     "data": {
      "text/plain": "array([[   1,   16],\n       [ 243, 4096]])"
     },
     "execution_count": 19,
     "metadata": {},
     "output_type": "execute_result"
    }
   ],
   "source": [
    "b ** d"
   ]
  },
  {
   "cell_type": "markdown",
   "id": "ee4d0b4c",
   "metadata": {},
   "source": [
    "### Transposición"
   ]
  },
  {
   "cell_type": "code",
   "execution_count": 20,
   "id": "4d52b756",
   "metadata": {},
   "outputs": [
    {
     "data": {
      "text/plain": "array([[1, 3],\n       [2, 4]])"
     },
     "execution_count": 20,
     "metadata": {},
     "output_type": "execute_result"
    }
   ],
   "source": [
    "b.T"
   ]
  },
  {
   "cell_type": "markdown",
   "id": "39418f4e",
   "metadata": {},
   "source": [
    "### Operaciones lógicas"
   ]
  },
  {
   "cell_type": "code",
   "execution_count": 21,
   "id": "1206c1ce",
   "metadata": {},
   "outputs": [
    {
     "data": {
      "text/plain": "array([[False, False],\n       [False,  True]])"
     },
     "execution_count": 21,
     "metadata": {},
     "output_type": "execute_result"
    }
   ],
   "source": [
    "b > 3"
   ]
  },
  {
   "cell_type": "code",
   "execution_count": 22,
   "id": "bfb89ffe",
   "metadata": {},
   "outputs": [
    {
     "data": {
      "text/plain": "array([[False, False],\n       [False, False]])"
     },
     "execution_count": 22,
     "metadata": {},
     "output_type": "execute_result"
    }
   ],
   "source": [
    "b > d"
   ]
  },
  {
   "cell_type": "markdown",
   "id": "d29a2568",
   "metadata": {},
   "source": [
    "### Indexado de un array de acuerdo a una condición"
   ]
  },
  {
   "cell_type": "code",
   "execution_count": 23,
   "id": "bb823a2a",
   "metadata": {},
   "outputs": [
    {
     "data": {
      "text/plain": "array([4])"
     },
     "execution_count": 23,
     "metadata": {},
     "output_type": "execute_result"
    }
   ],
   "source": [
    "bmay3 = b [b > 3] \n",
    "bmay3"
   ]
  },
  {
   "cell_type": "code",
   "execution_count": 24,
   "id": "49effaec",
   "metadata": {
    "pycharm": {
     "name": "#%%\n"
    }
   },
   "outputs": [
    {
     "data": {
      "text/plain": "array([3, 4])"
     },
     "execution_count": 24,
     "metadata": {},
     "output_type": "execute_result"
    }
   ],
   "source": [
    "dmen5 = d [d < 5]\n",
    "dmen5"
   ]
  }
 ],
 "metadata": {
  "kernelspec": {
   "display_name": "Conda (base)",
   "language": "python",
   "name": "base"
  },
  "language_info": {
   "codemirror_mode": {
    "name": "ipython",
    "version": 3
   },
   "file_extension": ".py",
   "mimetype": "text/x-python",
   "name": "python",
   "nbconvert_exporter": "python",
   "pygments_lexer": "ipython3",
   "version": "3.8.5"
  }
 },
 "nbformat": 4,
 "nbformat_minor": 5
}