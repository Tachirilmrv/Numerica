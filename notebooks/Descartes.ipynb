{
 "cells": [
  {
   "cell_type": "code",
   "execution_count": 9,
   "metadata": {},
   "outputs": [
    {
     "ename": "ImportError",
     "evalue": "attempted relative import with no known parent package",
     "output_type": "error",
     "traceback": [
      "\u001b[1;31m---------------------------------------------------------------------------\u001b[0m",
      "\u001b[1;31mImportError\u001b[0m                               Traceback (most recent call last)",
      "\u001b[1;32md:\\Programacion\\Numerica\\Numerica\\notebooks\\Descartes.ipynb Cell 1'\u001b[0m in \u001b[0;36m<module>\u001b[1;34m\u001b[0m\n\u001b[0;32m      <a href='vscode-notebook-cell:/d%3A/Programacion/Numerica/Numerica/notebooks/Descartes.ipynb#ch0000000?line=0'>1</a>\u001b[0m \u001b[39m#from src.complementaryMethods.RootF import *\u001b[39;00m\n\u001b[1;32m----> <a href='vscode-notebook-cell:/d%3A/Programacion/Numerica/Numerica/notebooks/Descartes.ipynb#ch0000000?line=1'>2</a>\u001b[0m \u001b[39mfrom\u001b[39;00m \u001b[39m.\u001b[39;00m\u001b[39m.\u001b[39;00m\u001b[39m.\u001b[39;00m\u001b[39msrc\u001b[39;00m\u001b[39m.\u001b[39;00m\u001b[39mcomplementaryMethods\u001b[39;00m\u001b[39m.\u001b[39;00m\u001b[39mRootF\u001b[39;00m \u001b[39mimport\u001b[39;00m \u001b[39m*\u001b[39m\n",
      "\u001b[1;31mImportError\u001b[0m: attempted relative import with no known parent package"
     ]
    }
   ],
   "source": [
    "#from src.complementaryMethods.RootF import *\n",
    "from ...src.complementaryMethods.RootF import *"
   ]
  },
  {
   "cell_type": "markdown",
   "metadata": {},
   "source": [
    "# Regla de Descartes\n",
    "\n",
    "La ecuación algebraica:</br>\n",
    "$$a_{0} x^{n} + a_{1} x^{n-1} + ... + a_{n} = 0$$\n",
    "\n",
    "Tiene _n_ raices (reales o complejas)\n",
    "\n",
    "El número de raíces reales positivas es menor o igual que _m_ y tiene su misma paridad\n",
    "\n",
    "<pre> Las Raíces complejas se presentan en pares  </pre>\n",
    "\n",
    "_m_: Número de cambios de signo en la sucesión de coeficientes\n",
    "\n",
    "|m|Raíces positivas|\n",
    "|:-:|:-|\n",
    "| 5 | 1, 3 ó 5 |\n",
    "| 4 | 0, 2 ó 4 |\n",
    "| 3 | 1 ó 3 |\n",
    "| 2 | 0 ó 2 |\n",
    "| 1 | 1 |\n",
    "| 0 | 0 |\n",
    "\n"
   ]
  },
  {
   "cell_type": "code",
   "execution_count": null,
   "metadata": {},
   "outputs": [],
   "source": [
    "def positive_max_grade (values):\n",
    "    \n",
    "    coefficients = [i * (-1) for i in values]\n",
    "\n",
    "    return coefficients"
   ]
  },
  {
   "cell_type": "code",
   "execution_count": null,
   "metadata": {},
   "outputs": [],
   "source": [
    "def negative_interval (values):\n",
    "\n",
    "    result = list.copy (values)\n",
    "\n",
    "    if len (values) % 2 == 0:  # si tiene una cantidad par de coeficientes significa que el grado es impar\n",
    "        i = 0\n",
    "        result = positive_max_grade (values)\n",
    "    else:\n",
    "        i = 1\n",
    "\n",
    "    for v in range (i, len (result) - 1, 2):\n",
    "        result[v] = result[v] * (-1)\n",
    "\n",
    "    return result"
   ]
  },
  {
   "cell_type": "code",
   "execution_count": null,
   "metadata": {},
   "outputs": [],
   "source": [
    "def __aux_descartes (values):\n",
    "    value = values[0]\n",
    "    count = 0\n",
    "\n",
    "    for n in values [1:]:\n",
    "        if value * n < 0:\n",
    "            value = n\n",
    "            count = count + 1\n",
    "\n",
    "    return count"
   ]
  },
  {
   "cell_type": "code",
   "execution_count": null,
   "metadata": {},
   "outputs": [],
   "source": [
    "def descartes (values, pos_intv = True):\n",
    "\n",
    "    if not pos_intv:\n",
    "        result = __aux_descartes (negative_interval (values) )\n",
    "    else:\n",
    "        result = __aux_descartes (values)\n",
    "\n",
    "    return result"
   ]
  },
  {
   "cell_type": "code",
   "execution_count": null,
   "metadata": {},
   "outputs": [],
   "source": []
  }
 ],
 "metadata": {
  "interpreter": {
   "hash": "50a1c7f7f999c358e0b5259763df47a04f976b7989cc44fe344baf2ec3d120ee"
  },
  "kernelspec": {
   "display_name": "Python 3.8.5 64-bit",
   "language": "python",
   "name": "python3"
  },
  "language_info": {
   "codemirror_mode": {
    "name": "ipython",
    "version": 3
   },
   "file_extension": ".py",
   "mimetype": "text/x-python",
   "name": "python",
   "nbconvert_exporter": "python",
   "pygments_lexer": "ipython3",
   "version": "3.8.5"
  },
  "orig_nbformat": 4
 },
 "nbformat": 4,
 "nbformat_minor": 2
}
