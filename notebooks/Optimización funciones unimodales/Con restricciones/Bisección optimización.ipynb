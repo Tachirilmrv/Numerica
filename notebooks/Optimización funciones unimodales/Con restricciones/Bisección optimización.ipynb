{
 "cells": [
  {
   "cell_type": "code",
   "execution_count": 43,
   "metadata": {},
   "outputs": [],
   "source": [
    "from utils import *\n",
    "from numpy import *\n",
    "import numpy.polynomial as pol"
   ]
  },
  {
   "cell_type": "markdown",
   "metadata": {},
   "source": [
    "# Método de Bisección"
   ]
  },
  {
   "cell_type": "markdown",
   "metadata": {},
   "source": [
    "## Implementación"
   ]
  },
  {
   "cell_type": "markdown",
   "metadata": {},
   "source": [
    "``` biseccion_opt(a, b, f, d, tol): ``` Implementación del método de bisección para optimización con restricciones en funciones unimodales\n",
    "\n",
    "### Parámetros\n",
    "- ``` a ``` : define el extremo inferior del intervalo\n",
    "- ``` b ``` : define el extremo superior del intervalo\n",
    "- ``` f ``` : define la función a evaluar\n",
    "- ``` d ``` : define la distancia de separación entre *a* y *b*\n",
    "- ``` tol(opcional) ``` : Cota para el error absoluto (por defecto $1.0 * 10^{-6}$) "
   ]
  },
  {
   "cell_type": "code",
   "execution_count": 44,
   "metadata": {},
   "outputs": [],
   "source": [
    "def biseccion_opt(a, b, f, d, tol = 0.0001):\n",
    "    i = 0\n",
    "\n",
    "    x1 = (a + b) / 2 - d / 2\n",
    "    x2 = (a + b) / 2 + d / 2\n",
    "\n",
    "    y1 = f(x1)\n",
    "    y2 = f(x2)\n",
    "\n",
    "    l = b - a\n",
    "\n",
    "    print (\"{}\\t {:.5f}\\t {:.5f}\\t {:.5f}\\t {:.5f}\\t {:.5f}\\t {:.5f}\\t {:.5f}\".format(i, a, b, l, x1, x2, y1, y2) )\n",
    "\n",
    "    while l > tol:\n",
    "        if y1 < y2:\n",
    "            a = x1\n",
    "        else:\n",
    "            b = x2\n",
    "        \n",
    "        x1 = (a + b) / 2 - d / 2\n",
    "        x2 = (a + b) / 2 + d / 2\n",
    "\n",
    "        y1 = f(x1)\n",
    "        y2 = f(x2)\n",
    "\n",
    "        l = b - a\n",
    "        i += 1\n",
    "\n",
    "        print (\"{}\\t {:.5f}\\t {:.5f}\\t {:.5f}\\t {:.5f}\\t {:.5f}\\t {:.5f}\\t {:.5f}\".format(i, a, b, l, x1, x2, y1, y2) )\n",
    "\n",
    "    print(f\"El intervalo obtenido es: [{a}, {b}]\")"
   ]
  },
  {
   "cell_type": "markdown",
   "metadata": {},
   "source": [
    "## Caso para valores expresados en una función polinómica:"
   ]
  },
  {
   "cell_type": "markdown",
   "metadata": {},
   "source": [
    "### Entrada de datos"
   ]
  },
  {
   "cell_type": "code",
   "execution_count": 45,
   "metadata": {},
   "outputs": [],
   "source": [
    "a = 3\n",
    "b = 5\n",
    "f = \"-x^4+8x^3-16x^2\"\n",
    "d = 0.01\n",
    "tol = 0.1"
   ]
  },
  {
   "cell_type": "markdown",
   "metadata": {},
   "source": [
    "### Salida"
   ]
  },
  {
   "cell_type": "code",
   "execution_count": 46,
   "metadata": {},
   "outputs": [
    {
     "name": "stdout",
     "output_type": "stream",
     "text": [
      "i  \t a      \t b      \t l      \t x1     \t x2     \t y1     \t y2     \n",
      "------------------------------------------------------------------------------------------------------------------------\n",
      "0\t 3.00000\t 5.00000\t 2.00000\t 3.99500\t 4.00500\t 0.00040\t 0.00040\n",
      "1\t 3.99500\t 5.00000\t 1.00500\t 4.49250\t 4.50250\t 4.89541\t 5.11893\n",
      "2\t 4.49250\t 5.00000\t 0.50750\t 4.74125\t 4.75125\t 12.35137\t 12.74045\n",
      "3\t 4.74125\t 5.00000\t 0.25875\t 4.86563\t 4.87563\t 17.73932\t 18.22623\n",
      "4\t 4.86563\t 5.00000\t 0.13437\t 4.92781\t 4.93781\t 20.90397\t 21.44377\n",
      "5\t 4.92781\t 5.00000\t 0.07219\t 4.95891\t 4.96891\t 22.61123\t 23.17849\n",
      "El intervalo obtenido es: [4.927812500000001, 5]\n"
     ]
    }
   ],
   "source": [
    "raw_c = poly_coefficients(f)\n",
    "coef = raw_c[::-1]\n",
    "\n",
    "p = pol.Polynomial(coef)\n",
    "\n",
    "print (\"{:<3}\\t {:<7}\\t {:<7}\\t {:<7}\\t {:<7}\\t {:<7}\\t {:<7}\\t {:<7}\".format(\"i\", \"a\", \"b\", \"l\", \"x1\", \"x2\", \"y1\", \"y2\") )\n",
    "print ('-' * 120)\n",
    "\n",
    "biseccion_opt(a, b, p, d, tol)"
   ]
  },
  {
   "cell_type": "markdown",
   "metadata": {},
   "source": [
    "## Caso para valores expresados en una función de tipo _numpy_:"
   ]
  },
  {
   "cell_type": "markdown",
   "metadata": {},
   "source": [
    "### Entrada de datos"
   ]
  },
  {
   "cell_type": "code",
   "execution_count": 47,
   "metadata": {},
   "outputs": [],
   "source": [
    "a = 2\n",
    "b = 2.1\n",
    "f = lambda x : x * sin(x)\n",
    "d = 0.0001\n",
    "tol = 0.001"
   ]
  },
  {
   "cell_type": "markdown",
   "metadata": {},
   "source": [
    "### Salida"
   ]
  },
  {
   "cell_type": "code",
   "execution_count": 48,
   "metadata": {},
   "outputs": [
    {
     "name": "stdout",
     "output_type": "stream",
     "text": [
      "i  \t a      \t b      \t l      \t x1     \t x2     \t y1     \t y2     \n",
      "------------------------------------------------------------------------------------------------------------------------\n",
      "0\t 2.00000\t 2.10000\t 0.10000\t 2.04995\t 2.05005\t 1.81910\t 1.81909\n",
      "1\t 2.00000\t 2.05005\t 0.05005\t 2.02497\t 2.02507\t 1.81969\t 1.81969\n",
      "2\t 2.02497\t 2.05005\t 0.02507\t 2.03746\t 2.03756\t 1.81960\t 1.81960\n",
      "3\t 2.02497\t 2.03756\t 0.01259\t 2.03122\t 2.03132\t 1.81970\t 1.81970\n",
      "4\t 2.02497\t 2.03132\t 0.00634\t 2.02810\t 2.02820\t 1.81971\t 1.81971\n",
      "5\t 2.02810\t 2.03132\t 0.00322\t 2.02966\t 2.02976\t 1.81970\t 1.81970\n",
      "6\t 2.02810\t 2.02976\t 0.00166\t 2.02888\t 2.02898\t 1.81971\t 1.81971\n",
      "7\t 2.02810\t 2.02898\t 0.00088\t 2.02849\t 2.02859\t 1.81971\t 1.81971\n",
      "El intervalo obtenido es: [2.028096875, 2.02897734375]\n"
     ]
    }
   ],
   "source": [
    "print (\"{:<3}\\t {:<7}\\t {:<7}\\t {:<7}\\t {:<7}\\t {:<7}\\t {:<7}\\t {:<7}\".format(\"i\", \"a\", \"b\", \"l\", \"x1\", \"x2\", \"y1\", \"y2\") )\n",
    "print ('-' * 120)\n",
    "\n",
    "biseccion_opt(a, b, f, d, tol)"
   ]
  }
 ],
 "metadata": {
  "interpreter": {
   "hash": "5f1e2b7debabb81cfddc515bc2208cf2c521bebfebb13da0ee988ea546d02c25"
  },
  "kernelspec": {
   "display_name": "Conda (base)",
   "language": "python",
   "name": "python3"
  },
  "language_info": {
   "codemirror_mode": {
    "name": "ipython",
    "version": 3
   },
   "file_extension": ".py",
   "mimetype": "text/x-python",
   "name": "python",
   "nbconvert_exporter": "python",
   "pygments_lexer": "ipython3",
   "version": "3.8.5"
  },
  "orig_nbformat": 4
 },
 "nbformat": 4,
 "nbformat_minor": 2
}
