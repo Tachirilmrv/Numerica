{
 "cells": [
  {
   "cell_type": "code",
   "execution_count": 1,
   "metadata": {},
   "outputs": [],
   "source": [
    "import numpy as np\n",
    "import numpy.polynomial as pol\n",
    "from utils import *"
   ]
  },
  {
   "cell_type": "markdown",
   "metadata": {},
   "source": [
    "# Método de Bisección"
   ]
  },
  {
   "cell_type": "markdown",
   "metadata": {},
   "source": [
    "## Implementación"
   ]
  },
  {
   "cell_type": "markdown",
   "metadata": {},
   "source": [
    "``` biseccion_opt(a, b, f, d, tol): ``` Implementación del método de bisección para optimización con restricciones en funciones unimodales\n",
    "\n",
    "### Parámetros\n",
    "- ``` a ``` : define el extremo inferior del intervalo\n",
    "- ``` b ``` : define el extremo superior del intervalo\n",
    "- ``` f ``` : define la función a evaluar\n",
    "- ``` d ``` : define la distancia de separación entre *a* y *b*\n",
    "- ``` tol(opcional) ``` : Cota para el error absoluto (por defecto $1.0 * 10^{-6}$) "
   ]
  },
  {
   "cell_type": "code",
   "execution_count": 2,
   "metadata": {},
   "outputs": [],
   "source": [
    "def biseccion_opt(a, b, f, d, tol = 1.0e-6):\n",
    "    i = 1\n",
    "\n",
    "    x1 = (a + b) / 2 - d / 2\n",
    "    x2 = (a + b) / 2 + d / 2\n",
    "\n",
    "    y1 = f(x1)\n",
    "    y2 = f(x2)\n",
    "\n",
    "    l = b - a\n",
    "\n",
    "    print (\"{}\\t {:.5f}\\t {:.5f}\\t {:.5f}\\t {:.5f}\\t {:.5f}\\t {:.5f}\\t {:.5f}\".format(i, a, b, l, x1, x2, y1, y2) )\n",
    "\n",
    "    while l > tol:\n",
    "        if y1 < y2:\n",
    "            a = x1\n",
    "        else:\n",
    "            b = x2\n",
    "        \n",
    "        x1 = (a + b) / 2 - d / 2\n",
    "        x2 = (a + b) / 2 + d / 2\n",
    "\n",
    "        y1 = f(x1)\n",
    "        y2 = f(x2)\n",
    "\n",
    "        l = b - a\n",
    "        i += 1\n",
    "\n",
    "        print (\"{}\\t {:.5f}\\t {:.5f}\\t {:.5f}\\t {:.5f}\\t {:.5f}\\t {:.5f}\\t {:.5f}\".format(i, a, b, l, x1, x2, y1, y2) )\n",
    "\n",
    "    print(f\"El intervalo obtenido es: [{a}, {b}]\")"
   ]
  },
  {
   "cell_type": "markdown",
   "metadata": {},
   "source": [
    "## Entrada de datos"
   ]
  },
  {
   "cell_type": "code",
   "execution_count": 3,
   "metadata": {},
   "outputs": [],
   "source": [
    "a = 3\n",
    "b = 5\n",
    "f = \"x^4-8x^3+16x^2\"\n",
    "d = 0.1\n",
    "tol = 0.1"
   ]
  },
  {
   "cell_type": "markdown",
   "metadata": {},
   "source": [
    "## Salida de datos"
   ]
  },
  {
   "cell_type": "code",
   "execution_count": 4,
   "metadata": {},
   "outputs": [
    {
     "name": "stdout",
     "output_type": "stream",
     "text": [
      "i  \t a      \t b      \t l      \t x1     \t x2     \t y1     \t y2     \n",
      "------------------------------------------------------------------------------------------------------------------------\n",
      "1\t 3.00000\t 5.00000\t 2.00000\t 3.95000\t 4.05000\t 0.03901\t 0.04101\n",
      "El intervalo obtenido es: [3, 5]\n"
     ]
    }
   ],
   "source": [
    "raw_c = poly_coefficients(f)\n",
    "coef = raw_c[::-1]\n",
    "\n",
    "p = pol.Polynomial(coef)\n",
    "\n",
    "print (\"{:<3}\\t {:<7}\\t {:<7}\\t {:<7}\\t {:<7}\\t {:<7}\\t {:<7}\\t {:<7}\".format(\"i\", \"a\", \"b\", \"l\", \"x1\", \"x2\", \"y1\", \"y2\") )\n",
    "print ('-' * 120)\n",
    "\n",
    "biseccion_opt(a, b, p, d, tol)"
   ]
  }
 ],
 "metadata": {
  "interpreter": {
   "hash": "5f1e2b7debabb81cfddc515bc2208cf2c521bebfebb13da0ee988ea546d02c25"
  },
  "kernelspec": {
   "display_name": "Conda (base)",
   "language": "python",
   "name": "python3"
  },
  "language_info": {
   "codemirror_mode": {
    "name": "ipython",
    "version": 3
   },
   "file_extension": ".py",
   "mimetype": "text/x-python",
   "name": "python",
   "nbconvert_exporter": "python",
   "pygments_lexer": "ipython3",
   "version": "3.8.5"
  },
  "orig_nbformat": 4
 },
 "nbformat": 4,
 "nbformat_minor": 2
}