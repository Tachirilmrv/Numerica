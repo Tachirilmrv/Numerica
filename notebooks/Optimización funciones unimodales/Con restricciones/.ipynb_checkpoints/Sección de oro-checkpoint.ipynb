{
 "cells": [
  {
   "cell_type": "code",
   "execution_count": 13,
   "metadata": {},
   "outputs": [],
   "source": [
    "from utils import *\n",
    "from numpy import *\n",
    "import numpy.polynomial as pol"
   ]
  },
  {
   "cell_type": "markdown",
   "metadata": {},
   "source": [
    "# Sección de Oro"
   ]
  },
  {
   "cell_type": "markdown",
   "metadata": {},
   "source": [
    "## Implementación"
   ]
  },
  {
   "cell_type": "markdown",
   "metadata": {},
   "source": [
    "``` goldensection_opt(a, b, f, d, tol): ``` Implementación del método de sección de oro para optimización con restricciones en funciones unimodales\n",
    "\n",
    "### Parámetros\n",
    "- ``` a ``` : define el extremo inferior del intervalo\n",
    "- ``` b ``` : define el extremo superior del intervalo\n",
    "- ``` f ``` : define la función a evaluar\n",
    "- ``` d ``` : define la distancia de separación entre *a* y *b*\n",
    "- ``` tol(opcional) ``` : Cota para el error absoluto (por defecto $1.0 * 10^{-6}$) "
   ]
  },
  {
   "cell_type": "code",
   "execution_count": 14,
   "metadata": {},
   "outputs": [],
   "source": [
    "def goldensection_opt(a, b, f, factor = 0.381966, tol = 0.0001):\n",
    "    i = 0\n",
    "\n",
    "    l = b - a\n",
    "\n",
    "    x1 = a + factor * l\n",
    "    x2 = b - factor * l\n",
    "\n",
    "    y1 = f(x1)\n",
    "    y2 = f(x2)\n",
    "\n",
    "    print (\"{}\\t {:.5f}\\t {:.5f}\\t {:.5f}\\t {:.5f}\\t {:.5f}\\t {:.5f}\\t {:.5f}\".format(i, a, b, l, x1, x2, y1, y2) )\n",
    "\n",
    "    while l > tol:\n",
    "        if y1 > y2:\n",
    "            a = x1\n",
    "            x1 = x2\n",
    "            y1 = y2\n",
    "            l = b - a\n",
    "            x2 = b - factor * l\n",
    "            y2 = f(x2) \n",
    "        else:\n",
    "            b = x2\n",
    "            x2 = x1\n",
    "            y2 = y1\n",
    "            l = b - a\n",
    "            x1 = a + factor * l\n",
    "            y1 = f(x1)\n",
    "\n",
    "        i += 1\n",
    "\n",
    "        print (\"{}\\t {:.5f}\\t {:.5f}\\t {:.5f}\\t {:.5f}\\t {:.5f}\\t {:.5f}\\t {:.5f}\".format(i, a, b, l, x1, x2, y1, y2) )\n",
    "\n",
    "    print(f\"El intervalo obtenido es: [{a}, {b}]\")"
   ]
  },
  {
   "cell_type": "markdown",
   "metadata": {},
   "source": [
    "## Caso para valores expresados en una función polinómica:"
   ]
  },
  {
   "cell_type": "markdown",
   "metadata": {},
   "source": [
    "### Entrada de datos"
   ]
  },
  {
   "cell_type": "code",
   "execution_count": 15,
   "metadata": {},
   "outputs": [],
   "source": [
    "a = 3\n",
    "b = 5\n",
    "f = \"-x^4+8x^3-16x^2\"\n",
    "factor = 0.381966\n",
    "tol = 0.1"
   ]
  },
  {
   "cell_type": "markdown",
   "metadata": {},
   "source": [
    "### Salida"
   ]
  },
  {
   "cell_type": "code",
   "execution_count": 16,
   "metadata": {},
   "outputs": [
    {
     "name": "stdout",
     "output_type": "stream",
     "text": [
      "i  \t a      \t b      \t l      \t x1     \t x2     \t y1     \t y2     \n",
      "------------------------------------------------------------------------------------------------------------------------\n",
      "0\t 3.00000\t 5.00000\t 2.00000\t 3.76393\t 4.23607\t 0.78951\t 1.00000\n",
      "1\t 3.00000\t 4.23607\t 1.23607\t 3.47214\t 3.76393\t 3.35921\t 0.78951\n",
      "2\t 3.47214\t 4.23607\t 0.76393\t 3.76393\t 3.94427\t 0.78951\t 0.04831\n",
      "3\t 3.76393\t 4.23607\t 0.47214\t 3.94427\t 4.05573\t 0.04831\t 0.05108\n",
      "4\t 3.76393\t 4.05573\t 0.29180\t 3.87539\t 3.94427\t 0.23321\t 0.04831\n",
      "5\t 3.87539\t 4.05573\t 0.18034\t 3.94427\t 3.98684\t 0.04831\t 0.00275\n",
      "6\t 3.94427\t 4.05573\t 0.11146\t 3.98684\t 4.01316\t 0.00275\t 0.00279\n",
      "7\t 3.94427\t 4.01316\t 0.06888\t 3.97058\t 3.98684\t 0.01364\t 0.00275\n",
      "El intervalo obtenido es: [3.944271930470526, 4.013155633135158]\n"
     ]
    }
   ],
   "source": [
    "raw_c = poly_coefficients(f)\n",
    "coef = raw_c[::-1]\n",
    "\n",
    "p = pol.Polynomial(coef)\n",
    "\n",
    "print (\"{:<3}\\t {:<7}\\t {:<7}\\t {:<7}\\t {:<7}\\t {:<7}\\t {:<7}\\t {:<7}\".format(\"i\", \"a\", \"b\", \"l\", \"x1\", \"x2\", \"y1\", \"y2\") )\n",
    "print ('-' * 120)\n",
    "\n",
    "goldensection_opt(a, b, p, factor, tol)  "
   ]
  },
  {
   "cell_type": "markdown",
   "metadata": {},
   "source": [
    "## Caso para valores expresados en una función de tipo _numpy_:"
   ]
  },
  {
   "cell_type": "markdown",
   "metadata": {},
   "source": [
    "### Entrada de datos"
   ]
  },
  {
   "cell_type": "code",
   "execution_count": 17,
   "metadata": {},
   "outputs": [],
   "source": [
    "a = 2\n",
    "b = 2.1\n",
    "f = lambda x : x * sin(x)\n",
    "factor = 0.381966\n",
    "tol = 0.001"
   ]
  },
  {
   "cell_type": "markdown",
   "metadata": {},
   "source": [
    "### Salida"
   ]
  },
  {
   "cell_type": "code",
   "execution_count": 18,
   "metadata": {},
   "outputs": [
    {
     "name": "stdout",
     "output_type": "stream",
     "text": [
      "i  \t a      \t b      \t l      \t x1     \t x2     \t y1     \t y2     \n",
      "------------------------------------------------------------------------------------------------------------------------\n",
      "0\t 2.00000\t 2.10000\t 0.10000\t 2.03820\t 2.06180\t 1.81959\t 1.81822\n",
      "1\t 2.03820\t 2.10000\t 0.06180\t 2.06180\t 2.07639\t 1.81822\t 1.81661\n",
      "2\t 2.06180\t 2.10000\t 0.03820\t 2.07639\t 2.08541\t 1.81661\t 1.81531\n",
      "3\t 2.07639\t 2.10000\t 0.02361\t 2.08541\t 2.09098\t 1.81531\t 1.81440\n",
      "4\t 2.08541\t 2.10000\t 0.01459\t 2.09098\t 2.09443\t 1.81440\t 1.81379\n",
      "5\t 2.09098\t 2.10000\t 0.00902\t 2.09443\t 2.09656\t 1.81379\t 1.81340\n",
      "6\t 2.09443\t 2.10000\t 0.00557\t 2.09656\t 2.09787\t 1.81340\t 1.81315\n",
      "7\t 2.09656\t 2.10000\t 0.00344\t 2.09787\t 2.09868\t 1.81315\t 1.81300\n",
      "8\t 2.09787\t 2.10000\t 0.00213\t 2.09868\t 2.09919\t 1.81300\t 1.81290\n",
      "9\t 2.09868\t 2.10000\t 0.00132\t 2.09919\t 2.09950\t 1.81290\t 1.81284\n",
      "10\t 2.09919\t 2.10000\t 0.00081\t 2.09950\t 2.09969\t 1.81284\t 1.81280\n",
      "El intervalo obtenido es: [2.099186938244158, 2.1]\n"
     ]
    }
   ],
   "source": [
    "print (\"{:<3}\\t {:<7}\\t {:<7}\\t {:<7}\\t {:<7}\\t {:<7}\\t {:<7}\\t {:<7}\".format(\"i\", \"a\", \"b\", \"l\", \"x1\", \"x2\", \"y1\", \"y2\") )\n",
    "print ('-' * 120)\n",
    "\n",
    "goldensection_opt(a, b, f, factor, tol)"
   ]
  }
 ],
 "metadata": {
  "interpreter": {
   "hash": "5f1e2b7debabb81cfddc515bc2208cf2c521bebfebb13da0ee988ea546d02c25"
  },
  "kernelspec": {
   "display_name": "Python 3.8.5 ('base')",
   "language": "python",
   "name": "python3"
  },
  "language_info": {
   "codemirror_mode": {
    "name": "ipython",
    "version": 3
   },
   "file_extension": ".py",
   "mimetype": "text/x-python",
   "name": "python",
   "nbconvert_exporter": "python",
   "pygments_lexer": "ipython3",
   "version": "3.8.5"
  },
  "orig_nbformat": 4
 },
 "nbformat": 4,
 "nbformat_minor": 2
}
