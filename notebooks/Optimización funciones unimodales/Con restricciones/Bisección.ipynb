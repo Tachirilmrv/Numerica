{
 "cells": [
  {
   "cell_type": "code",
   "execution_count": 1,
   "id": "8f6ade45-0d11-43bf-a2be-2bd8fae791e2",
   "metadata": {},
   "outputs": [],
   "source": [
    "import numpy as np"
   ]
  },
  {
   "cell_type": "code",
   "execution_count": 2,
   "id": "a3df25f1-b16a-4279-bade-d7c28bbdf031",
   "metadata": {},
   "outputs": [],
   "source": [
    "f = lambda r : (-4 + np.pi) * r**2 + 50 * r\n",
    "a = 28.8\n",
    "b = 29.4\n",
    "d = 0.0001\n",
    "tol = 0.001"
   ]
  },
  {
   "cell_type": "code",
   "execution_count": 3,
   "id": "91394e13-9339-4cee-9b16-fe081195f007",
   "metadata": {},
   "outputs": [
    {
     "name": "stdout",
     "output_type": "stream",
     "text": [
      "i  \t a      \t b      \t x1     \t x2     \t f(x1)  \t f(x2)  \n",
      "-------------------------------------------------------------------------------------------------------------------\n",
      "0\t 28.80000\t 29.40000\t 29.09995\t 29.10005\t 728.09207\t 728.09208\n",
      "1\t 29.09995\t 29.40000\t 29.24992\t 29.25003\t 728.07888\t 728.07886\n",
      "2\t 29.09995\t 29.25003\t 29.17494\t 29.17504\t 728.09030\t 728.09030\n",
      "3\t 29.09995\t 29.17504\t 29.13744\t 29.13754\t 728.09240\t 728.09239\n",
      "4\t 29.09995\t 29.13754\t 29.11870\t 29.11880\t 728.09254\t 728.09254\n",
      "5\t 29.11870\t 29.13754\t 29.12807\t 29.12817\t 728.09254\t 728.09254\n",
      "6\t 29.11870\t 29.12817\t 29.12338\t 29.12348\t 728.09256\t 728.09256\n",
      "7\t 29.12338\t 29.12817\t 29.12573\t 29.12583\t 728.09255\t 728.09255\n",
      "8\t 29.12338\t 29.12583\t 29.12456\t 29.12466\t 728.09256\t 728.09256\n",
      "9\t 29.12338\t 29.12466\t 29.12397\t 29.12407\t 728.09256\t 728.09256\n"
     ]
    }
   ],
   "source": [
    "i = 0\n",
    "l = b - a\n",
    "\n",
    "\n",
    "print (\"{:<3}\\t {:<7}\\t {:<7}\\t {:<7}\\t {:<7}\\t {:<7}\\t {:<7}\".format(\"i\", \"a\", \"b\", \"x1\", \"x2\", \"f(x1)\", \"f(x2)\") )\n",
    "print ('-' * 115)\n",
    "\n",
    "\n",
    "while l > tol:\n",
    "    x1 = (a + b) / 2 - d / 2\n",
    "    x2 = (a + b) / 2 + d / 2\n",
    "    \n",
    "    y1 = f(x1)\n",
    "    y2 = f(x2)\n",
    "    \n",
    "    \n",
    "    print (\"{}\\t {:.5f}\\t {:.5f}\\t {:.5f}\\t {:.5f}\\t {:.5f}\\t {:.5f}\".format(i, a, b, x1, x2, y1, y2) )\n",
    "    \n",
    "    \n",
    "    if y1 < y2:\n",
    "        a = x1\n",
    "    else:\n",
    "        b = x2\n",
    "    \n",
    "    \n",
    "    l = b - a\n",
    "    \n",
    "    i += 1"
   ]
  }
 ],
 "metadata": {
  "kernelspec": {
   "display_name": "Python 3 (ipykernel)",
   "language": "python",
   "name": "python3"
  },
  "language_info": {
   "codemirror_mode": {
    "name": "ipython",
    "version": 3
   },
   "file_extension": ".py",
   "mimetype": "text/x-python",
   "name": "python",
   "nbconvert_exporter": "python",
   "pygments_lexer": "ipython3",
   "version": "3.10.9"
  }
 },
 "nbformat": 4,
 "nbformat_minor": 5
}
