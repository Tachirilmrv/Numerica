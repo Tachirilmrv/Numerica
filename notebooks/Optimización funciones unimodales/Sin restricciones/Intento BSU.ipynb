{
 "cells": [
  {
   "cell_type": "code",
   "execution_count": 2,
   "metadata": {},
   "outputs": [],
   "source": [
    "import numpy as np\n",
    "import numpy.polynomial as pol"
   ]
  },
  {
   "cell_type": "markdown",
   "metadata": {},
   "source": [
    "# Definir los parámetros:"
   ]
  },
  {
   "cell_type": "code",
   "execution_count": null,
   "metadata": {},
   "outputs": [],
   "source": [
    "p_coef = []\n",
    "x0 = 0\n",
    "s = 0.1\n",
    "# opt = \"max\""
   ]
  },
  {
   "cell_type": "code",
   "execution_count": null,
   "metadata": {},
   "outputs": [],
   "source": [
    "p = pol.Polynomial (p_coef)\n",
    "x1 = x0\n",
    "x2 = x0 + s\n",
    "x3 = x1 + s\n",
    "\n",
    "y1 = p(x1)\n",
    "y2 = p(x2)\n",
    "y3 = p(x3)"
   ]
  },
  {
   "cell_type": "code",
   "execution_count": null,
   "metadata": {},
   "outputs": [],
   "source": [
    "#if (opt == \"max\"):\n",
    "\n",
    "while (y3 < y2):\n",
    "    x1 = x1 + s\n",
    "    x2 = x2 + s\n",
    "    x3 = x3 + s\n",
    "\n",
    "    y1 = p(x1)\n",
    "    y2 = p(x2)\n",
    "    y3 = p(x3)"
   ]
  }
 ],
 "metadata": {
  "interpreter": {
   "hash": "5f1e2b7debabb81cfddc515bc2208cf2c521bebfebb13da0ee988ea546d02c25"
  },
  "kernelspec": {
   "display_name": "Python 3.8.5 ('base')",
   "language": "python",
   "name": "python3"
  },
  "language_info": {
   "codemirror_mode": {
    "name": "ipython",
    "version": 3
   },
   "file_extension": ".py",
   "mimetype": "text/x-python",
   "name": "python",
   "nbconvert_exporter": "python",
   "pygments_lexer": "ipython3",
   "version": "3.8.5"
  },
  "orig_nbformat": 4
 },
 "nbformat": 4,
 "nbformat_minor": 2
}
