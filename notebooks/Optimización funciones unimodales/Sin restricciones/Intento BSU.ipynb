{
 "cells": [
  {
   "cell_type": "code",
   "execution_count": 21,
   "metadata": {},
   "outputs": [],
   "source": [
    "import numpy as np\n",
    "import numpy.polynomial as pol"
   ]
  },
  {
   "cell_type": "markdown",
   "metadata": {},
   "source": [
    "# Definir los parámetros:"
   ]
  },
  {
   "cell_type": "code",
   "execution_count": 22,
   "metadata": {},
   "outputs": [],
   "source": [
    "raw_coef = [1, -8, 16, 0, 0]\n",
    "p_coef = raw_coef [::-1]\n",
    "\n",
    "x0 = 3\n",
    "s = 0.1"
   ]
  },
  {
   "cell_type": "code",
   "execution_count": 23,
   "metadata": {},
   "outputs": [],
   "source": [
    "p = pol.Polynomial (p_coef)\n",
    "x1 = x0\n",
    "x2 = x1 + s\n",
    "x3 = x2 + s\n",
    "\n",
    "y1 = p(x1)\n",
    "y2 = p(x2)\n",
    "y3 = p(x3)"
   ]
  },
  {
   "cell_type": "code",
   "execution_count": 24,
   "metadata": {},
   "outputs": [
    {
     "name": "stdout",
     "output_type": "stream",
     "text": [
      "i  \t x1     \t x2     \t x3     \t y1     \t y2     \t y3     \n",
      "-----------------------------------------------------------------------------------------------------------------------------\n",
      "1\t 3.00000\t 3.10000\t 3.20000\t 9.00000\t 7.78410\t 6.55360\n",
      "2\t 3.10000\t 3.20000\t 3.30000\t 7.78410\t 6.55360\t 5.33610\n",
      "3\t 3.20000\t 3.30000\t 3.40000\t 6.55360\t 5.33610\t 4.16160\n",
      "4\t 3.30000\t 3.40000\t 3.50000\t 5.33610\t 4.16160\t 3.06250\n",
      "5\t 3.40000\t 3.50000\t 3.60000\t 4.16160\t 3.06250\t 2.07360\n",
      "6\t 3.50000\t 3.60000\t 3.70000\t 3.06250\t 2.07360\t 1.23210\n",
      "7\t 3.60000\t 3.70000\t 3.80000\t 2.07360\t 1.23210\t 0.57760\n",
      "8\t 3.70000\t 3.80000\t 3.90000\t 1.23210\t 0.57760\t 0.15210\n",
      "9\t 3.80000\t 3.90000\t 4.00000\t 0.57760\t 0.15210\t 0.00000\n",
      "10\t 3.90000\t 4.00000\t 4.10000\t 0.15210\t 0.00000\t 0.16810\n"
     ]
    }
   ],
   "source": [
    "i = 1\n",
    "\n",
    "print (\"{:<3}\\t {:<7}\\t {:<7}\\t {:<7}\\t {:<7}\\t {:<7}\\t {:<7}\".format(\"i\", \"x1\", \"x2\", \"x3\", \"y1\", \"y2\", \"y3\") )\n",
    "print ('-' * 125)\n",
    "print (\"{}\\t {:.5f}\\t {:.5f}\\t {:.5f}\\t {:.5f}\\t {:.5f}\\t {:.5f}\".format(i, x1, x2, x3, y1, y2, y3) )\n",
    "\n",
    "\n",
    "while (y3 < y2):\n",
    "    x1 = x1 + s\n",
    "    x2 = x2 + s\n",
    "    x3 = x3 + s\n",
    "\n",
    "    y1 = p(x1)\n",
    "    y2 = p(x2)\n",
    "    y3 = p(x3)\n",
    "\n",
    "    i += 1\n",
    "\n",
    "    print (\"{}\\t {:.5f}\\t {:.5f}\\t {:.5f}\\t {:.5f}\\t {:.5f}\\t {:.5f}\".format(i, x1, x2, x3, y1, y2, y3) )            "
   ]
  }
 ],
 "metadata": {
  "interpreter": {
   "hash": "5f1e2b7debabb81cfddc515bc2208cf2c521bebfebb13da0ee988ea546d02c25"
  },
  "kernelspec": {
   "display_name": "Python 3.8.5 ('base')",
   "language": "python",
   "name": "python3"
  },
  "language_info": {
   "codemirror_mode": {
    "name": "ipython",
    "version": 3
   },
   "file_extension": ".py",
   "mimetype": "text/x-python",
   "name": "python",
   "nbconvert_exporter": "python",
   "pygments_lexer": "ipython3",
   "version": "3.8.5"
  },
  "orig_nbformat": 4
 },
 "nbformat": 4,
 "nbformat_minor": 2
}
