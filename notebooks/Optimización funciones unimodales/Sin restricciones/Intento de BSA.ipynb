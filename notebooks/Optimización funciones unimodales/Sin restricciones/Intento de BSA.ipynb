{
 "cells": [
  {
   "cell_type": "code",
   "execution_count": 7,
   "metadata": {},
   "outputs": [],
   "source": [
    "import numpy as np\n",
    "import numpy.polynomial as pol"
   ]
  },
  {
   "cell_type": "markdown",
   "metadata": {},
   "source": [
    "# Definir los parámetros:"
   ]
  },
  {
   "cell_type": "code",
   "execution_count": 8,
   "metadata": {},
   "outputs": [],
   "source": [
    "raw_coef = [1, -8, 16, 0, 0]\n",
    "p_coef = raw_coef [::-1]\n",
    "\n",
    "x0 = 3\n",
    "s = 0.1"
   ]
  },
  {
   "cell_type": "code",
   "execution_count": 9,
   "metadata": {},
   "outputs": [],
   "source": [
    "p = pol.Polynomial (p_coef)\n",
    "x1 = x0\n",
    "x2 = x1 + s\n",
    "x3 = x2 + s\n",
    "\n",
    "y1 = p(x1)\n",
    "y2 = p(x2)\n",
    "y3 = p(x3)"
   ]
  },
  {
   "cell_type": "code",
   "execution_count": 10,
   "metadata": {},
   "outputs": [
    {
     "name": "stdout",
     "output_type": "stream",
     "text": [
      "i   x1                   x2                   x3                   y1                   y2                   y3                  \n",
      "-----------------------------------------------------------------------------------------------------------------------------\n",
      "1   3                    3.1                  3.2                  9.0                  7.784099999999988    6.5536000000000065  \n",
      "2   3.2                  3.3000000000000003   3.4000000000000004   6.5536000000000065   5.336100000000004    4.161599999999995   \n",
      "3   3.6                  3.7                  3.8000000000000003   2.073599999999979    1.232099999999998    0.5776000000000134  \n",
      "4   4.4                  4.5                  4.6000000000000005   3.0976000000000035   5.0625               7.617600000000027   \n"
     ]
    }
   ],
   "source": [
    "i = 1\n",
    "\n",
    "print (\"{:<3} {:<20} {:<20} {:<20} {:<20} {:<20} {:<20}\".format(\"i\", \"x1\", \"x2\", \"x3\", \"y1\", \"y2\", \"y3\") )\n",
    "print ('-' * 125)\n",
    "print (\"{:<3} {:<20} {:<20} {:<20} {:<20} {:<20} {:<20}\".format(i, x1, x2, x3, y1, y2, y3) )\n",
    "\n",
    "\n",
    "while (y3 < y2):\n",
    "    s = s * 2\n",
    "\n",
    "    x1 = x1 + s\n",
    "    x2 = x2 + s\n",
    "    x3 = x3 + s\n",
    "\n",
    "    y1 = p(x1)\n",
    "    y2 = p(x2)\n",
    "    y3 = p(x3)\n",
    "\n",
    "    i += 1\n",
    "\n",
    "    print (\"{:<3} {:<20} {:<20} {:<20} {:<20} {:<20} {:<20}\".format(i, x1, x2, x3, y1, y2, y3) )            "
   ]
  }
 ],
 "metadata": {
  "interpreter": {
   "hash": "5f1e2b7debabb81cfddc515bc2208cf2c521bebfebb13da0ee988ea546d02c25"
  },
  "kernelspec": {
   "display_name": "Python 3.8.5 ('base')",
   "language": "python",
   "name": "python3"
  },
  "language_info": {
   "codemirror_mode": {
    "name": "ipython",
    "version": 3
   },
   "file_extension": ".py",
   "mimetype": "text/x-python",
   "name": "python",
   "nbconvert_exporter": "python",
   "pygments_lexer": "ipython3",
   "version": "3.8.5"
  },
  "orig_nbformat": 4
 },
 "nbformat": 4,
 "nbformat_minor": 2
}
