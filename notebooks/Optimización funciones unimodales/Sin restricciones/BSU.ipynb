{
 "cells": [
  {
   "cell_type": "code",
   "execution_count": 22,
   "metadata": {},
   "outputs": [],
   "source": [
    "from utils import *\n",
    "from numpy import *\n",
    "import numpy.polynomial as pol"
   ]
  },
  {
   "cell_type": "markdown",
   "metadata": {},
   "source": [
    "# Búsqueda Secuencial Uniforme"
   ]
  },
  {
   "cell_type": "markdown",
   "metadata": {},
   "source": [
    "## Implementación"
   ]
  },
  {
   "cell_type": "markdown",
   "metadata": {},
   "source": [
    "``` bsu(f, x0, s): ``` Implementación del método de búsqueda secuencial uniforme para optimización sin restricciones en funciones unimodales\n",
    "\n",
    "### Parámetros\n",
    "\n",
    "- ``` f ``` : define la función a optimizar\n",
    "- ``` x0 ``` : punto de inicio de la búsqueda\n",
    "- ``` s ``` : paso "
   ]
  },
  {
   "cell_type": "code",
   "execution_count": 23,
   "metadata": {},
   "outputs": [],
   "source": [
    "def bsu(f, x0, s):\n",
    "    i = 1\n",
    "    x1 = x0\n",
    "    x2 = x1 + s\n",
    "    x3 = x2 + s\n",
    "\n",
    "    y1 = f(x1)\n",
    "    y2 = f(x2)\n",
    "    y3 = f(x3)\n",
    "\n",
    "    print (\"{}\\t {:.5f}\\t {:.5f}\\t {:.5f}\\t {:.5f}\\t {:.5f}\\t {:.5f}\".format(i, x1, x2, x3, y1, y2, y3) )\n",
    "\n",
    "    while (y3 < y2):\n",
    "        x1 = x1 + s\n",
    "        x2 = x2 + s\n",
    "        x3 = x3 + s\n",
    "\n",
    "        y1 = f(x1)\n",
    "        y2 = f(x2)\n",
    "        y3 = f(x3)\n",
    "\n",
    "        i += 1\n",
    "\n",
    "        print (\"{}\\t {:.5f}\\t {:.5f}\\t {:.5f}\\t {:.5f}\\t {:.5f}\\t {:.5f}\".format(i, x1, x2, x3, y1, y2, y3) )\n",
    "\n",
    "    print(f\"El punto mínimo es: y = {y2} y se alcanza en x = {x2}\")            "
   ]
  },
  {
   "cell_type": "markdown",
   "metadata": {},
   "source": [
    "## Caso para valores expresados en una función polinómica:"
   ]
  },
  {
   "cell_type": "markdown",
   "metadata": {},
   "source": [
    "### Entrada de datos"
   ]
  },
  {
   "cell_type": "code",
   "execution_count": 24,
   "metadata": {},
   "outputs": [],
   "source": [
    "f = \"x^4-8x^3+16x^2\"\n",
    "x0 = 3\n",
    "s = 0.1"
   ]
  },
  {
   "cell_type": "markdown",
   "metadata": {},
   "source": [
    "### Salida"
   ]
  },
  {
   "cell_type": "code",
   "execution_count": 25,
   "metadata": {},
   "outputs": [
    {
     "name": "stdout",
     "output_type": "stream",
     "text": [
      "i  \t x1     \t x2     \t x3     \t y1     \t y2     \t y3     \n",
      "---------------------------------------------------------------------------------------------------------\n",
      "1\t 3.00000\t 3.10000\t 3.20000\t 9.00000\t 7.78410\t 6.55360\n",
      "2\t 3.10000\t 3.20000\t 3.30000\t 7.78410\t 6.55360\t 5.33610\n",
      "3\t 3.20000\t 3.30000\t 3.40000\t 6.55360\t 5.33610\t 4.16160\n",
      "4\t 3.30000\t 3.40000\t 3.50000\t 5.33610\t 4.16160\t 3.06250\n",
      "5\t 3.40000\t 3.50000\t 3.60000\t 4.16160\t 3.06250\t 2.07360\n",
      "6\t 3.50000\t 3.60000\t 3.70000\t 3.06250\t 2.07360\t 1.23210\n",
      "7\t 3.60000\t 3.70000\t 3.80000\t 2.07360\t 1.23210\t 0.57760\n",
      "8\t 3.70000\t 3.80000\t 3.90000\t 1.23210\t 0.57760\t 0.15210\n",
      "9\t 3.80000\t 3.90000\t 4.00000\t 0.57760\t 0.15210\t 0.00000\n",
      "10\t 3.90000\t 4.00000\t 4.10000\t 0.15210\t 0.00000\t 0.16810\n",
      "El punto mínimo es: y = 0.0 y se alcanza en x = 4.000000000000001\n"
     ]
    }
   ],
   "source": [
    "raw_c = poly_coefficients(f)\n",
    "coef = raw_c[::-1]\n",
    "\n",
    "p = pol.Polynomial(coef)\n",
    "\n",
    "print (\"{:<3}\\t {:<7}\\t {:<7}\\t {:<7}\\t {:<7}\\t {:<7}\\t {:<7}\".format(\"i\", \"x1\", \"x2\", \"x3\", \"y1\", \"y2\", \"y3\") )\n",
    "print ('-' * 105)\n",
    "\n",
    "bsu(p, x0, s)"
   ]
  },
  {
   "cell_type": "markdown",
   "metadata": {},
   "source": [
    "## Caso para valores expresados en una función de tipo _numpy_:"
   ]
  },
  {
   "cell_type": "markdown",
   "metadata": {},
   "source": [
    "### Entrada de datos"
   ]
  },
  {
   "cell_type": "code",
   "execution_count": 26,
   "metadata": {},
   "outputs": [],
   "source": [
    "f = lambda x: -1 * sin(x)\n",
    "x0 = 0\n",
    "s = 0.1"
   ]
  },
  {
   "cell_type": "markdown",
   "metadata": {},
   "source": [
    "### Salida"
   ]
  },
  {
   "cell_type": "code",
   "execution_count": 27,
   "metadata": {},
   "outputs": [
    {
     "name": "stdout",
     "output_type": "stream",
     "text": [
      "i  \t x1     \t x2     \t x3     \t y1     \t y2     \t y3     \n",
      "---------------------------------------------------------------------------------------------------------\n",
      "1\t 0.00000\t 0.10000\t 0.20000\t -0.00000\t -0.09983\t -0.19867\n",
      "2\t 0.10000\t 0.20000\t 0.30000\t -0.09983\t -0.19867\t -0.29552\n",
      "3\t 0.20000\t 0.30000\t 0.40000\t -0.19867\t -0.29552\t -0.38942\n",
      "4\t 0.30000\t 0.40000\t 0.50000\t -0.29552\t -0.38942\t -0.47943\n",
      "5\t 0.40000\t 0.50000\t 0.60000\t -0.38942\t -0.47943\t -0.56464\n",
      "6\t 0.50000\t 0.60000\t 0.70000\t -0.47943\t -0.56464\t -0.64422\n",
      "7\t 0.60000\t 0.70000\t 0.80000\t -0.56464\t -0.64422\t -0.71736\n",
      "8\t 0.70000\t 0.80000\t 0.90000\t -0.64422\t -0.71736\t -0.78333\n",
      "9\t 0.80000\t 0.90000\t 1.00000\t -0.71736\t -0.78333\t -0.84147\n",
      "10\t 0.90000\t 1.00000\t 1.10000\t -0.78333\t -0.84147\t -0.89121\n",
      "11\t 1.00000\t 1.10000\t 1.20000\t -0.84147\t -0.89121\t -0.93204\n",
      "12\t 1.10000\t 1.20000\t 1.30000\t -0.89121\t -0.93204\t -0.96356\n",
      "13\t 1.20000\t 1.30000\t 1.40000\t -0.93204\t -0.96356\t -0.98545\n",
      "14\t 1.30000\t 1.40000\t 1.50000\t -0.96356\t -0.98545\t -0.99749\n",
      "15\t 1.40000\t 1.50000\t 1.60000\t -0.98545\t -0.99749\t -0.99957\n",
      "16\t 1.50000\t 1.60000\t 1.70000\t -0.99749\t -0.99957\t -0.99166\n",
      "El punto mínimo es: y = -0.9995736030415051 y se alcanza en x = 1.6000000000000003\n"
     ]
    }
   ],
   "source": [
    "print (\"{:<3}\\t {:<7}\\t {:<7}\\t {:<7}\\t {:<7}\\t {:<7}\\t {:<7}\".format(\"i\", \"x1\", \"x2\", \"x3\", \"y1\", \"y2\", \"y3\") )\n",
    "print ('-' * 105)\n",
    "\n",
    "bsu(f, x0, s)"
   ]
  }
 ],
 "metadata": {
  "interpreter": {
   "hash": "5f1e2b7debabb81cfddc515bc2208cf2c521bebfebb13da0ee988ea546d02c25"
  },
  "kernelspec": {
   "display_name": "Python 3.8.5 ('base')",
   "language": "python",
   "name": "python3"
  },
  "language_info": {
   "codemirror_mode": {
    "name": "ipython",
    "version": 3
   },
   "file_extension": ".py",
   "mimetype": "text/x-python",
   "name": "python",
   "nbconvert_exporter": "python",
   "pygments_lexer": "ipython3",
   "version": "3.8.5"
  },
  "orig_nbformat": 4
 },
 "nbformat": 4,
 "nbformat_minor": 2
}
