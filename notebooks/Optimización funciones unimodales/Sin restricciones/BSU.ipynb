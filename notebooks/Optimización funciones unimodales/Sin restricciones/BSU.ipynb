{
 "cells": [
  {
   "cell_type": "code",
   "execution_count": 13,
   "metadata": {},
   "outputs": [],
   "source": [
    "import numpy as np\n",
    "import numpy.polynomial as pol\n",
    "from utils import *"
   ]
  },
  {
   "cell_type": "markdown",
   "metadata": {},
   "source": [
    "# Búsqueda Secuencial Uniforme"
   ]
  },
  {
   "cell_type": "markdown",
   "metadata": {},
   "source": [
    "## Implementación"
   ]
  },
  {
   "cell_type": "markdown",
   "metadata": {},
   "source": [
    "``` bsu(f, x0, s): ``` Implementación del método de búsqueda secuencial uniforme para optimización sin restricciones en funciones unimodales\n",
    "\n",
    "### Parámetros\n",
    "\n",
    "- ``` f ``` : define la función a optimizar\n",
    "- ``` x0 ``` : punto de inicio de la búsqueda\n",
    "- ``` s ``` : paso "
   ]
  },
  {
   "cell_type": "code",
   "execution_count": 14,
   "metadata": {},
   "outputs": [],
   "source": [
    "def bsu(f, x0, s):\n",
    "    i = 1\n",
    "    x1 = x0\n",
    "    x2 = x1 + s\n",
    "    x3 = x2 + s\n",
    "\n",
    "    y1 = f(x1)\n",
    "    y2 = f(x2)\n",
    "    y3 = f(x3)\n",
    "\n",
    "    print (\"{}\\t {:.5f}\\t {:.5f}\\t {:.5f}\\t {:.5f}\\t {:.5f}\\t {:.5f}\".format(i, x1, x2, x3, y1, y2, y3) )\n",
    "\n",
    "    while (y3 < y2):\n",
    "        x1 = x1 + s\n",
    "        x2 = x2 + s\n",
    "        x3 = x3 + s\n",
    "\n",
    "        y1 = f(x1)\n",
    "        y2 = f(x2)\n",
    "        y3 = f(x3)\n",
    "\n",
    "        i += 1\n",
    "\n",
    "        print (\"{}\\t {:.5f}\\t {:.5f}\\t {:.5f}\\t {:.5f}\\t {:.5f}\\t {:.5f}\".format(i, x1, x2, x3, y1, y2, y3) )\n",
    "\n",
    "    print(f\"El punto mínimo es: y = {y2} y se alcanza en x = {x2}\")            "
   ]
  },
  {
   "cell_type": "markdown",
   "metadata": {},
   "source": [
    "## Entrada de datos"
   ]
  },
  {
   "cell_type": "code",
   "execution_count": 15,
   "metadata": {},
   "outputs": [],
   "source": [
    "f = \"x^4-8x^3+16x^2\"\n",
    "x0 = 3\n",
    "s = 0.1"
   ]
  },
  {
   "cell_type": "markdown",
   "metadata": {},
   "source": [
    "## Salida de datos"
   ]
  },
  {
   "cell_type": "code",
   "execution_count": 16,
   "metadata": {},
   "outputs": [
    {
     "name": "stdout",
     "output_type": "stream",
     "text": [
      "i  \t x1     \t x2     \t x3     \t y1     \t y2     \t y3     \n",
      "---------------------------------------------------------------------------------------------------------\n",
      "1\t 3.00000\t 3.10000\t 3.20000\t 9.00000\t 7.78410\t 6.55360\n",
      "2\t 3.10000\t 3.20000\t 3.30000\t 7.78410\t 6.55360\t 5.33610\n",
      "3\t 3.20000\t 3.30000\t 3.40000\t 6.55360\t 5.33610\t 4.16160\n",
      "4\t 3.30000\t 3.40000\t 3.50000\t 5.33610\t 4.16160\t 3.06250\n",
      "5\t 3.40000\t 3.50000\t 3.60000\t 4.16160\t 3.06250\t 2.07360\n",
      "6\t 3.50000\t 3.60000\t 3.70000\t 3.06250\t 2.07360\t 1.23210\n",
      "7\t 3.60000\t 3.70000\t 3.80000\t 2.07360\t 1.23210\t 0.57760\n",
      "8\t 3.70000\t 3.80000\t 3.90000\t 1.23210\t 0.57760\t 0.15210\n",
      "9\t 3.80000\t 3.90000\t 4.00000\t 0.57760\t 0.15210\t 0.00000\n",
      "10\t 3.90000\t 4.00000\t 4.10000\t 0.15210\t 0.00000\t 0.16810\n",
      "El punto mínimo es: y = 0.0 y se alcanza en x = 4.000000000000001\n"
     ]
    }
   ],
   "source": [
    "raw_c = poly_coefficients(f)\n",
    "coef = raw_c[::-1]\n",
    "\n",
    "p = pol.Polynomial(coef)\n",
    "\n",
    "print (\"{:<3}\\t {:<7}\\t {:<7}\\t {:<7}\\t {:<7}\\t {:<7}\\t {:<7}\".format(\"i\", \"x1\", \"x2\", \"x3\", \"y1\", \"y2\", \"y3\") )\n",
    "print ('-' * 105)\n",
    "\n",
    "bsu(p, x0, s)"
   ]
  }
 ],
 "metadata": {
  "interpreter": {
   "hash": "5f1e2b7debabb81cfddc515bc2208cf2c521bebfebb13da0ee988ea546d02c25"
  },
  "kernelspec": {
   "display_name": "Python 3.8.5 ('base')",
   "language": "python",
   "name": "python3"
  },
  "language_info": {
   "codemirror_mode": {
    "name": "ipython",
    "version": 3
   },
   "file_extension": ".py",
   "mimetype": "text/x-python",
   "name": "python",
   "nbconvert_exporter": "python",
   "pygments_lexer": "ipython3",
   "version": "3.8.5"
  },
  "orig_nbformat": 4
 },
 "nbformat": 4,
 "nbformat_minor": 2
}
