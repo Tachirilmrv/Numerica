{
 "cells": [
  {
   "cell_type": "code",
   "execution_count": 68,
   "id": "3a943def",
   "metadata": {},
   "outputs": [],
   "source": [
    "import numpy as np"
   ]
  },
  {
   "cell_type": "markdown",
   "id": "c475d4c6",
   "metadata": {},
   "source": [
    "### Inserción de datos"
   ]
  },
  {
   "cell_type": "markdown",
   "id": "e5a52eb2",
   "metadata": {},
   "source": [
    "##### Definir las matrices"
   ]
  },
  {
   "cell_type": "code",
   "execution_count": 92,
   "id": "0696bedb",
   "metadata": {},
   "outputs": [],
   "source": [
    "a = [ [9, -1, 2],\n",
    "      [1, 8, 2],\n",
    "      [1, -1, 11] ] #Matriz sin terminos independientes"
   ]
  },
  {
   "cell_type": "code",
   "execution_count": 93,
   "id": "e449849d",
   "metadata": {},
   "outputs": [],
   "source": [
    "b = [ [9],\n",
    "      [19],\n",
    "      [10] ] #Matriz columna de los términos independientes "
   ]
  },
  {
   "cell_type": "markdown",
   "id": "f54fce51",
   "metadata": {},
   "source": [
    "##### Definir el valor del error"
   ]
  },
  {
   "cell_type": "code",
   "execution_count": 94,
   "id": "92cd5f9c",
   "metadata": {},
   "outputs": [],
   "source": [
    "epsilon = 0.00005 #Valor del error"
   ]
  },
  {
   "cell_type": "markdown",
   "id": "ea07aaf8",
   "metadata": {},
   "source": [
    "##### Auxiliar (no tocar)"
   ]
  },
  {
   "cell_type": "code",
   "execution_count": 95,
   "id": "b3df24b3",
   "metadata": {},
   "outputs": [],
   "source": [
    "diag = np.diag (a) #Valores de la diagonal\n",
    "diag_abs = np.abs (diag) #Valores absolutos de la diagonal"
   ]
  },
  {
   "cell_type": "code",
   "execution_count": 96,
   "id": "f70bb359",
   "metadata": {},
   "outputs": [],
   "source": [
    "no_diag = np.sum (np.abs (a), axis = 1) - diag_abs #Sumatoria de valores que no están en la diagonal"
   ]
  },
  {
   "cell_type": "code",
   "execution_count": 97,
   "id": "aaa3d6e0",
   "metadata": {},
   "outputs": [
    {
     "name": "stdout",
     "output_type": "stream",
     "text": [
      "La matriz tiene diagonal dominante\n"
     ]
    }
   ],
   "source": [
    "#Evalúa si la diagonal es dominante\n",
    "if np.all (diag_abs > no_diag):\n",
    "    print (\"La matriz tiene diagonal dominante\")\n",
    "else:\n",
    "    print (\"La matriz no tiene diagonal dominante\")"
   ]
  },
  {
   "cell_type": "markdown",
   "id": "176da79f",
   "metadata": {},
   "source": [
    "## Método de Gauss-Seidel"
   ]
  },
  {
   "cell_type": "code",
   "execution_count": 98,
   "id": "dd0b6a54",
   "metadata": {},
   "outputs": [],
   "source": [
    "x1, x2, x3 = 0, 0, 0"
   ]
  },
  {
   "cell_type": "code",
   "execution_count": 99,
   "id": "a31ad316",
   "metadata": {},
   "outputs": [],
   "source": [
    "x_old = np.array ( [x1, x2, x3] )"
   ]
  },
  {
   "cell_type": "code",
   "execution_count": 100,
   "id": "69345a07",
   "metadata": {},
   "outputs": [
    {
     "data": {
      "text/plain": [
       "array([1.        , 2.375     , 0.90909091])"
      ]
     },
     "execution_count": 100,
     "metadata": {},
     "output_type": "execute_result"
    }
   ],
   "source": [
    "#Matriz columna de los términos independientes divididos entre la diagonal\n",
    "c_matrix = np.array ( [b [0] [0] / diag [0],\n",
    "                       b [1] [0] / diag [1],\n",
    "                       b [2] [0] / diag [2] ] )\n",
    "c_matrix"
   ]
  },
  {
   "cell_type": "code",
   "execution_count": 101,
   "id": "bbff8ca1",
   "metadata": {},
   "outputs": [
    {
     "data": {
      "text/plain": [
       "array([[-1.        ,  0.11111111, -0.22222222],\n",
       "       [-0.125     , -1.        , -0.25      ],\n",
       "       [-0.09090909,  0.09090909, -1.        ]])"
      ]
     },
     "execution_count": 101,
     "metadata": {},
     "output_type": "execute_result"
    }
   ],
   "source": [
    "#Matriz M\n",
    "f1 = -1 * np.array (a [0] ) / diag [0]\n",
    "f2 = -1 * np.array (a [1] ) / diag [1]\n",
    "f3 = -1 * np.array (a [2] ) / diag [2]\n",
    "m_matrix = np.array ( [f1, f2, f3] )\n",
    "m_matrix"
   ]
  },
  {
   "cell_type": "code",
   "execution_count": 102,
   "id": "9752a702",
   "metadata": {},
   "outputs": [
    {
     "name": "stdout",
     "output_type": "stream",
     "text": [
      "Iteration results\n",
      "i, \t\tx1, \t\tx2, \t\tx3, \t\terror en i\n",
      "1, \t1.00000000, \t2.25000000, \t1.02272727, \t2.66617161\n",
      "2, \t1.02272727, \t1.99147727, \t0.99715909, \t0.26077627\n",
      "3, \t0.99968434, \t2.00074968, \t1.00009685, \t0.02501169\n",
      "4, \t1.00006178, \t1.99996807, \t0.99999148, \t0.00087435\n",
      "5, \t0.99999834, \t2.00000234, \t1.00000036, \t0.00007264\n",
      "6, \t1.00000018, \t1.99999989, \t0.99999997, \t0.00000308\n",
      "Convergio! Estás toh tizah\n"
     ]
    }
   ],
   "source": [
    "converged = False\n",
    "\n",
    "\n",
    "print (\"Iteration results\")\n",
    "print (\"%s, \\t\\t%s, \\t\\t%s, \\t\\t%s, \\t\\t%s\"% (\"i\", \"x1\", \"x2\", \"x3\", \"error en i\") )\n",
    "\n",
    "for i in range (1, 50): #En caso de no converger, modificar el 50 a un número mayor\n",
    "    x1 = (c_matrix [0] + f1 [1] * x2 + f1 [2] * x3)\n",
    "    x2 = (c_matrix [1] + f2 [0] * x1 + f2 [2] * x3)\n",
    "    x3 = (c_matrix [2] + f3 [0] * x1 + f3 [1] * x2)\n",
    "    \n",
    "    x = np.array ( [x1, x2, x3] )\n",
    "    dx = np.sqrt (np.dot (x - x_old, x - x_old) )\n",
    "    \n",
    "    print (\"%d, \\t%.8f, \\t%.8f, \\t%.8f, \\t%.8f\"% (i, x1, x2, x3, dx) )\n",
    "\n",
    "    if dx < epsilon:\n",
    "        converged = True\n",
    "        \n",
    "        print (\"Convergio! Estás toh tizah\")\n",
    "        \n",
    "        break\n",
    "\n",
    "    x_old = x\n",
    "\n",
    "if not converged:\n",
    "    print (\"No convergió, aumenta el # de iteraciones\")\n"
   ]
  }
 ],
 "metadata": {
  "kernelspec": {
   "display_name": "Conda (base)",
   "language": "python",
   "name": "base"
  },
  "language_info": {
   "codemirror_mode": {
    "name": "ipython",
    "version": 3
   },
   "file_extension": ".py",
   "mimetype": "text/x-python",
   "name": "python",
   "nbconvert_exporter": "python",
   "pygments_lexer": "ipython3",
   "version": "3.8.5"
  }
 },
 "nbformat": 4,
 "nbformat_minor": 5
}
