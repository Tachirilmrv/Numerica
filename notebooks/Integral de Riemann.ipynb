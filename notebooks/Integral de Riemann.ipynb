{
 "cells": [
  {
   "cell_type": "code",
   "execution_count": 2,
   "metadata": {},
   "outputs": [],
   "source": [
    "import numpy as np"
   ]
  },
  {
   "cell_type": "code",
   "execution_count": 7,
   "metadata": {},
   "outputs": [],
   "source": [
    "a = 0\n",
    "b = np.pi\n",
    "n = 11\n",
    "h = (b - a) / (n - 1)\n",
    "x = np.linspace (a, b, n)\n",
    "f = np.cos (x)"
   ]
  },
  {
   "cell_type": "code",
   "execution_count": 16,
   "metadata": {},
   "outputs": [],
   "source": [
    "i_riemannL = h * sum (f[:n - 1] )\n",
    "err_riemannL = 2 - i_riemannL\n",
    "\n",
    "i_riemannR = h * sum (f[1 : :] )\n",
    "err_riemannR = 2 - i_riemannR\n",
    "\n",
    "i_mid = h * sum (np.cos ( (x[:n - 1] + x[1:] ) / 2) )\n",
    "err_mid = 2 - i_mid"
   ]
  },
  {
   "cell_type": "code",
   "execution_count": 17,
   "metadata": {},
   "outputs": [
    {
     "name": "stdout",
     "output_type": "stream",
     "text": [
      "0.3141592653589795\n",
      "1.6858407346410205\n",
      "-0.3141592653589791\n",
      "2.3141592653589793\n",
      "3.487868498008632e-17\n",
      "2.0\n"
     ]
    }
   ],
   "source": [
    "print (i_riemannL)\n",
    "print (err_riemannL)\n",
    "print (i_riemannR)\n",
    "print (err_riemannR)\n",
    "print (i_mid)\n",
    "print (err_mid)"
   ]
  }
 ],
 "metadata": {
  "interpreter": {
   "hash": "5f1e2b7debabb81cfddc515bc2208cf2c521bebfebb13da0ee988ea546d02c25"
  },
  "kernelspec": {
   "display_name": "Python 3.8.5 64-bit ('base': conda)",
   "language": "python",
   "name": "python3"
  },
  "language_info": {
   "codemirror_mode": {
    "name": "ipython",
    "version": 3
   },
   "file_extension": ".py",
   "mimetype": "text/x-python",
   "name": "python",
   "nbconvert_exporter": "python",
   "pygments_lexer": "ipython3",
   "version": "3.8.5"
  },
  "orig_nbformat": 4
 },
 "nbformat": 4,
 "nbformat_minor": 2
}
