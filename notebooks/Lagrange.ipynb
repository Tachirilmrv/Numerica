{
 "cells": [
  {
   "cell_type": "code",
   "execution_count": 20,
   "metadata": {},
   "outputs": [],
   "source": [
    "import re\n",
    "import math"
   ]
  },
  {
   "cell_type": "markdown",
   "metadata": {},
   "source": [
    "## Lagrange\n",
    "\n",
    "Aplica la regla de Lagrange para acotar la raíz de un polinomio.\n",
    "\n",
    "En la ecuación:\n",
    "\n",
    "$$ a_0x^n + a_1x^{n-1} + ... + a_n = 0 $$\n",
    "\n",
    "todas las raíces reales positivas (si existen) son menores que:\n",
    "\n",
    "$$ R = 1 + \\Biggl(\\frac{B}{a_0}\\Biggr)^{\\frac{1}{k}} $$\n",
    "\n",
    "#### Donde:\n",
    "\n",
    "- $a_0 > 0$\n",
    "- $a_k$ Primer coeficiente negativo\n",
    "- $B$ Mayor valor absoluto de los coeficientes negativos"
   ]
  },
  {
   "cell_type": "markdown",
   "metadata": {},
   "source": [
    "### Métodos auxiliares [NO TOCAR]"
   ]
  },
  {
   "cell_type": "markdown",
   "metadata": {},
   "source": [
    "```positive_max_grade (values):``` \n",
    "transforma la ecuación para que el coeficiente de mayor grado sea positivo"
   ]
  },
  {
   "cell_type": "code",
   "execution_count": 21,
   "metadata": {},
   "outputs": [],
   "source": [
    "def positive_max_grade (values):\n",
    "    \n",
    "    coefficients = [i * (-1) for i in values]\n",
    "\n",
    "    return coefficients"
   ]
  },
  {
   "cell_type": "markdown",
   "metadata": {},
   "source": [
    "``` negative_interval (values): ``` evalua el polinomio donde $x = -x$ para analizar el intervalo negativo "
   ]
  },
  {
   "cell_type": "code",
   "execution_count": 22,
   "metadata": {},
   "outputs": [],
   "source": [
    "def negative_interval (values):\n",
    "\n",
    "    result = list.copy (values)\n",
    "\n",
    "    if len (values) % 2 == 0:  # si tiene una cantidad par de coeficientes significa que el grado es impar\n",
    "        i = 0\n",
    "        result = positive_max_grade (values)\n",
    "    else:\n",
    "        i = 1\n",
    "\n",
    "    for v in range (i, len (result) - 1, 2):\n",
    "        result[v] = result[v] * (-1)\n",
    "\n",
    "    return result"
   ]
  },
  {
   "cell_type": "markdown",
   "metadata": {},
   "source": [
    "``` poly_coefficients (raw_polynomial): ``` Analiza un polinomio insertado de manera natural y extrae los coeficientes de manera ordenada ascendentemente\n",
    "\n",
    "<strong> Importante: </strong><br>\n",
    "Para el correcto funcionamiento del método cuando el coeficiente es negativo, el símbolo negativo debe estar junto al coeficiente ( -2x ) <br>\n",
    "Se puede utilizar la notación ``` ** ``` o ```^``` indistintamente (```x**2``` = ```x^2```) <br>\n",
    "El método organiza el polinomio de mayor a menor grado ( $x^2 + x^5 -x^3 + 4$ = $x^5  -x^3 + x^2 + 4$ ) <br>\n",
    "El método se encarga de agrupar términos semejantes ( $x^2  -3 + 2x^2$ = $3x^2  -3$)"
   ]
  },
  {
   "cell_type": "code",
   "execution_count": 23,
   "metadata": {},
   "outputs": [],
   "source": [
    "def poly_coefficients (raw_polynomial):\n",
    "\n",
    "    regexp = r\"(-?\\d*)(x?)(?:(?:\\^|\\*\\*)(\\d))?\"\n",
    "    c = {}\n",
    "\n",
    "    for coef, x, exp in re.findall (regexp, raw_polynomial):\n",
    "        if not coef and not x:\n",
    "            continue\n",
    "        if x and not coef:\n",
    "            coef = '1'\n",
    "        if x and coef == \"-\":\n",
    "            coef = \"-1\"\n",
    "        if x and not exp:\n",
    "            exp = '1'\n",
    "        if coef and not x:\n",
    "            exp = '0'\n",
    "\n",
    "        try:\n",
    "            c [int (exp)] = c[int (exp)] + float (coef)\n",
    "        except KeyError:\n",
    "            c [int (exp)] = float (coef)\n",
    "\n",
    "    grade = max (c)\n",
    "    coefficients = [0.0] * (grade + 1)\n",
    "\n",
    "    for g, v in c.items ():\n",
    "        coefficients [g] = v\n",
    "    coefficients.reverse ()\n",
    "\n",
    "    if coefficients [0] < 0:\n",
    "        coefficients = positive_max_grade (coefficients)\n",
    "\n",
    "    return coefficients"
   ]
  },
  {
   "cell_type": "markdown",
   "metadata": {},
   "source": [
    "``` find_k (values): ``` Busca el valor de k en el polinomio"
   ]
  },
  {
   "cell_type": "code",
   "execution_count": 24,
   "metadata": {},
   "outputs": [],
   "source": [
    "def find_k (values: list) -> int:\n",
    "    for i in range (len (values) ):\n",
    "        if values [i] < 0:\n",
    "            return i"
   ]
  },
  {
   "cell_type": "markdown",
   "metadata": {},
   "source": [
    "### Implementación"
   ]
  },
  {
   "cell_type": "markdown",
   "metadata": {},
   "source": [
    "``` aux_larange(values): ``` Implementación del método de Lagrange para aproximar la raíz en un polinomio"
   ]
  },
  {
   "cell_type": "code",
   "execution_count": 25,
   "metadata": {},
   "outputs": [],
   "source": [
    "def aux_lagrange (values):\n",
    "    b = max (max (values), abs (min (values)))\n",
    "    k = find_k (values)\n",
    "\n",
    "    if k is None:\n",
    "        return None\n",
    "\n",
    "    return 1 + math.pow (b / values [0], 1 / k)"
   ]
  },
  {
   "cell_type": "markdown",
   "metadata": {},
   "source": [
    "``` lagrange(values) ``` Método auxiliar de Lagrange para aproximar la raíz tanto en el intervalo negativo como en el intervalo positivo"
   ]
  },
  {
   "cell_type": "code",
   "execution_count": 26,
   "metadata": {},
   "outputs": [],
   "source": [
    "def lagrange (values):\n",
    "    \n",
    "    result_neg = aux_lagrange (negative_interval (values))\n",
    "    result_pos = aux_lagrange (values)\n",
    "\n",
    "    return result_neg, result_pos"
   ]
  },
  {
   "cell_type": "markdown",
   "metadata": {},
   "source": [
    "### Inserción de datos"
   ]
  },
  {
   "cell_type": "code",
   "execution_count": 27,
   "metadata": {},
   "outputs": [
    {
     "name": "stdout",
     "output_type": "stream",
     "text": [
      "Lagrange aplicado en intervalo positivo: [0 , 3.23606797749979]\n",
      "Lagrange aplicado en intervalo negativo: [-3.23606797749979 , 0]\n"
     ]
    }
   ],
   "source": [
    "f = 'x**2 -5'\n",
    "\n",
    "f_coefficients = poly_coefficients(f)\n",
    "\n",
    "pos_interval, neg_interval = lagrange(f_coefficients)\n",
    "\n",
    "print ('Lagrange aplicado en intervalo positivo: [0 , {}]'.format(pos_interval))\n",
    "print ('Lagrange aplicado en intervalo negativo: [-{} , 0]'.format(neg_interval))\n"
   ]
  }
 ],
 "metadata": {
  "interpreter": {
   "hash": "50a1c7f7f999c358e0b5259763df47a04f976b7989cc44fe344baf2ec3d120ee"
  },
  "kernelspec": {
   "display_name": "Python 3.8.5 64-bit",
   "language": "python",
   "name": "python3"
  },
  "language_info": {
   "codemirror_mode": {
    "name": "ipython",
    "version": 3
   },
   "file_extension": ".py",
   "mimetype": "text/x-python",
   "name": "python",
   "nbconvert_exporter": "python",
   "pygments_lexer": "ipython3",
   "version": "3.8.5"
  },
  "orig_nbformat": 4
 },
 "nbformat": 4,
 "nbformat_minor": 2
}
