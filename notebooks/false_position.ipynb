{
 "cells": [
  {
   "cell_type": "code",
   "execution_count": 66,
   "metadata": {},
   "outputs": [],
   "source": [
    "import sympy as sp"
   ]
  },
  {
   "cell_type": "markdown",
   "metadata": {},
   "source": [
    "# Método de Regula-Falsi\n",
    "\n",
    "Método iterativo de intervalos, halla la raíz de la función en el entorno de un valor determinado\n",
    "\n",
    "##### Forma en que converge:\n",
    "- Generalmente, uno de los extremos permanece fijo\n",
    "- Generalmente, la amplitud del intervalo no tiende hacia cero\n",
    "- Generalmente, $X_n$ converge hacia r más rápido que en el método de bisección\n",
    "\n",
    "Hipótesis:\n",
    "- En $[a ,b]$ la ecuación posee una raíz\n",
    "- f(x) es continua en $[a, b]$\n",
    "- $f(a) * f(b) < 0$\n",
    "- Es derivable en $[a, b]$ y $f'(x)$ no cambia de signo en [a, b]\n",
    "- Existe $f''(x)$ en $[a, b]$ y no cambia de signo en $[a, b]$"
   ]
  },
  {
   "cell_type": "markdown",
   "metadata": {},
   "source": [
    "### Métodos y declaraciones auxiliares [NO TOCAR]"
   ]
  },
  {
   "cell_type": "code",
   "execution_count": 85,
   "metadata": {},
   "outputs": [
    {
     "name": "stdout",
     "output_type": "stream",
     "text": [
      "1.09861228866811 - sen(3)\n"
     ]
    }
   ],
   "source": [
    "# Declaración de x como variable de las funciones \n",
    "x = sp.Symbol ('x')\n",
    "\n",
    "f = sp.sympify('ln(x) -sen(x)')\n",
    "f = f.subs (x, 3)\n",
    "print (f.evalf (subs={x: 3}))\n"
   ]
  },
  {
   "cell_type": "markdown",
   "metadata": {},
   "source": [
    "``` declare_function(equation): ``` prepara la función para ser utilizada por el método utilizando la biblioteca sympy"
   ]
  },
  {
   "cell_type": "code",
   "execution_count": 68,
   "metadata": {},
   "outputs": [],
   "source": [
    "def declare_function(equation):\n",
    "    return sp.sympify(equation)"
   ]
  },
  {
   "cell_type": "markdown",
   "metadata": {},
   "source": [
    "### Implementación"
   ]
  },
  {
   "cell_type": "markdown",
   "metadata": {},
   "source": [
    "``` false_position(f, a, b, tol): ``` Implementación del método regula-falsi para aproximar raíces en un intervalo\n",
    "\n",
    "##### Parámetros\n",
    "\n",
    "- ``` f ``` : define la función a evaluar\n",
    "- ``` a ``` : define el extremo inferior del intervalo\n",
    "- ``` b ``` : define el extremo superior del intervalo\n",
    "- ``` tol ``` : define la cota para el error torelable"
   ]
  },
  {
   "cell_type": "code",
   "execution_count": 71,
   "metadata": {},
   "outputs": [],
   "source": [
    "def false_position (f, x0, x1, tol):\n",
    "\n",
    "    step = 1\n",
    "    condition = True\n",
    "\n",
    "    while condition:\n",
    "        x2 = x0 - (x1 - x0) * f.subs (x, x0) / (f.subs (x, x1) - f.subs (x, x0) )\n",
    "        print ('Iteration-%d, x2 = %0.6f and f(x2) = %0.6f' % (step, x2, f.subs (x, x2) ) )\n",
    "\n",
    "        if f.subs (x, x0) * f.subs (x, x2) < 0:\n",
    "            x1 = x2\n",
    "        else:\n",
    "            x0 = x2\n",
    "\n",
    "        step = step + 1\n",
    "        condition = abs (f.subs (x, x2) ) > tol\n",
    "\n",
    "    print ('\\nRequired root is: %0.8f' % x2)\n"
   ]
  },
  {
   "cell_type": "markdown",
   "metadata": {},
   "source": [
    "### Inserción de datos"
   ]
  },
  {
   "cell_type": "code",
   "execution_count": 72,
   "metadata": {},
   "outputs": [
    {
     "ename": "TypeError",
     "evalue": "can't convert expression to float",
     "output_type": "error",
     "traceback": [
      "\u001b[1;31m---------------------------------------------------------------------------\u001b[0m",
      "\u001b[1;31mTypeError\u001b[0m                                 Traceback (most recent call last)",
      "\u001b[1;32md:\\Programacion\\Numerica\\Numerica\\notebooks\\false_position.ipynb Cell 11'\u001b[0m in \u001b[0;36m<module>\u001b[1;34m\u001b[0m\n\u001b[0;32m      <a href='vscode-notebook-cell:/d%3A/Programacion/Numerica/Numerica/notebooks/false_position.ipynb#ch0000010?line=3'>4</a>\u001b[0m tol \u001b[39m=\u001b[39m \u001b[39m10\u001b[39m \n\u001b[0;32m      <a href='vscode-notebook-cell:/d%3A/Programacion/Numerica/Numerica/notebooks/false_position.ipynb#ch0000010?line=5'>6</a>\u001b[0m f \u001b[39m=\u001b[39m declare_function (func)\n\u001b[1;32m----> <a href='vscode-notebook-cell:/d%3A/Programacion/Numerica/Numerica/notebooks/false_position.ipynb#ch0000010?line=6'>7</a>\u001b[0m root \u001b[39m=\u001b[39m false_position (f,a,b,tol)\n\u001b[0;32m      <a href='vscode-notebook-cell:/d%3A/Programacion/Numerica/Numerica/notebooks/false_position.ipynb#ch0000010?line=8'>9</a>\u001b[0m \u001b[39mprint\u001b[39m (\u001b[39m'\u001b[39m\u001b[39mRaíz hallada con método de bisección: \u001b[39m\u001b[39m{}\u001b[39;00m\u001b[39m'\u001b[39m\u001b[39m.\u001b[39mformat(root))\n\u001b[0;32m     <a href='vscode-notebook-cell:/d%3A/Programacion/Numerica/Numerica/notebooks/false_position.ipynb#ch0000010?line=9'>10</a>\u001b[0m \u001b[39mprint\u001b[39m (\u001b[39m'\u001b[39m\u001b[39mTolerancia estimada aplicada: \u001b[39m\u001b[39m{}\u001b[39;00m\u001b[39m'\u001b[39m\u001b[39m.\u001b[39mformat(tol))\n",
      "\u001b[1;32md:\\Programacion\\Numerica\\Numerica\\notebooks\\false_position.ipynb Cell 9'\u001b[0m in \u001b[0;36mfalse_position\u001b[1;34m(f, x0, x1, tol)\u001b[0m\n\u001b[0;32m      <a href='vscode-notebook-cell:/d%3A/Programacion/Numerica/Numerica/notebooks/false_position.ipynb#ch0000008?line=5'>6</a>\u001b[0m \u001b[39mwhile\u001b[39;00m condition:\n\u001b[0;32m      <a href='vscode-notebook-cell:/d%3A/Programacion/Numerica/Numerica/notebooks/false_position.ipynb#ch0000008?line=6'>7</a>\u001b[0m     x2 \u001b[39m=\u001b[39m x0 \u001b[39m-\u001b[39m (x1 \u001b[39m-\u001b[39m x0) \u001b[39m*\u001b[39m f\u001b[39m.\u001b[39msubs (x, x0) \u001b[39m/\u001b[39m (f\u001b[39m.\u001b[39msubs (x, x1) \u001b[39m-\u001b[39m f\u001b[39m.\u001b[39msubs (x, x0) )\n\u001b[1;32m----> <a href='vscode-notebook-cell:/d%3A/Programacion/Numerica/Numerica/notebooks/false_position.ipynb#ch0000008?line=7'>8</a>\u001b[0m     \u001b[39mprint\u001b[39m (\u001b[39m'\u001b[39;49m\u001b[39mIteration-\u001b[39;49m\u001b[39m%d\u001b[39;49;00m\u001b[39m, x2 = \u001b[39;49m\u001b[39m%0.6f\u001b[39;49;00m\u001b[39m and f(x2) = \u001b[39;49m\u001b[39m%0.6f\u001b[39;49;00m\u001b[39m'\u001b[39;49m \u001b[39m%\u001b[39;49m (step, x2, f\u001b[39m.\u001b[39;49msubs (x, x2) ) )\n\u001b[0;32m     <a href='vscode-notebook-cell:/d%3A/Programacion/Numerica/Numerica/notebooks/false_position.ipynb#ch0000008?line=9'>10</a>\u001b[0m     \u001b[39mif\u001b[39;00m f\u001b[39m.\u001b[39msubs (x, x0) \u001b[39m*\u001b[39m f\u001b[39m.\u001b[39msubs (x, x2) \u001b[39m<\u001b[39m \u001b[39m0\u001b[39m:\n\u001b[0;32m     <a href='vscode-notebook-cell:/d%3A/Programacion/Numerica/Numerica/notebooks/false_position.ipynb#ch0000008?line=10'>11</a>\u001b[0m         x1 \u001b[39m=\u001b[39m x2\n",
      "File \u001b[1;32m~\\AppData\\Local\\Programs\\Python\\Python38\\lib\\site-packages\\sympy\\core\\expr.py:359\u001b[0m, in \u001b[0;36mExpr.__float__\u001b[1;34m(self)\u001b[0m\n\u001b[0;32m    <a href='file:///~/AppData/Local/Programs/Python/Python38/lib/site-packages/sympy/core/expr.py?line=356'>357</a>\u001b[0m \u001b[39mif\u001b[39;00m result\u001b[39m.\u001b[39mis_number \u001b[39mand\u001b[39;00m result\u001b[39m.\u001b[39mas_real_imag()[\u001b[39m1\u001b[39m]:\n\u001b[0;32m    <a href='file:///~/AppData/Local/Programs/Python/Python38/lib/site-packages/sympy/core/expr.py?line=357'>358</a>\u001b[0m     \u001b[39mraise\u001b[39;00m \u001b[39mTypeError\u001b[39;00m(\u001b[39m\"\u001b[39m\u001b[39mcan\u001b[39m\u001b[39m'\u001b[39m\u001b[39mt convert complex to float\u001b[39m\u001b[39m\"\u001b[39m)\n\u001b[1;32m--> <a href='file:///~/AppData/Local/Programs/Python/Python38/lib/site-packages/sympy/core/expr.py?line=358'>359</a>\u001b[0m \u001b[39mraise\u001b[39;00m \u001b[39mTypeError\u001b[39;00m(\u001b[39m\"\u001b[39m\u001b[39mcan\u001b[39m\u001b[39m'\u001b[39m\u001b[39mt convert expression to float\u001b[39m\u001b[39m\"\u001b[39m)\n",
      "\u001b[1;31mTypeError\u001b[0m: can't convert expression to float"
     ]
    }
   ],
   "source": [
    "func = 'ln(x) - sen(x)'\n",
    "a = 1.5\n",
    "b = 3\n",
    "tol = 10 \n",
    "\n",
    "f = declare_function (func)\n",
    "root = false_position (f,a,b,tol)\n",
    "\n",
    "print ('Raíz hallada con método de bisección: {}'.format(root))\n",
    "print ('Tolerancia estimada aplicada: {}'.format(tol))"
   ]
  }
 ],
 "metadata": {
  "interpreter": {
   "hash": "50a1c7f7f999c358e0b5259763df47a04f976b7989cc44fe344baf2ec3d120ee"
  },
  "kernelspec": {
   "display_name": "Python 3.8.5 64-bit",
   "language": "python",
   "name": "python3"
  },
  "language_info": {
   "codemirror_mode": {
    "name": "ipython",
    "version": 3
   },
   "file_extension": ".py",
   "mimetype": "text/x-python",
   "name": "python",
   "nbconvert_exporter": "python",
   "pygments_lexer": "ipython3",
   "version": "3.8.5"
  },
  "orig_nbformat": 4
 },
 "nbformat": 4,
 "nbformat_minor": 2
}
