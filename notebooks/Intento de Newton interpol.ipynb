{
 "cells": [
  {
   "cell_type": "code",
   "execution_count": 1,
   "id": "671380b7",
   "metadata": {},
   "outputs": [],
   "source": [
    "import numpy as np\n",
    "import matplotlib.pyplot as plt"
   ]
  },
  {
   "cell_type": "code",
   "execution_count": 2,
   "id": "0b989d4c",
   "metadata": {},
   "outputs": [],
   "source": [
    "plt.style.use (\"seaborn-poster\")\n",
    "%matplotlib inline"
   ]
  },
  {
   "cell_type": "code",
   "execution_count": 3,
   "id": "5e4c36fc",
   "metadata": {},
   "outputs": [],
   "source": [
    "def diferencias_divididas (x, y):\n",
    "    '''\n",
    "    Función para calcular la tabla de las diferencias divididas\n",
    "    Entrada: x = arreglo que contiene los coeficientes de x\n",
    "             y = arreglo que contiene los valores de y para cada x\n",
    "    Salida: coef = tabla de diferencias divididas\n",
    "    '''\n",
    "    \n",
    "    n = len (y)\n",
    "    coef = np.zeros ( [n, n] )\n",
    "    coef [:,0] = y\n",
    "    \n",
    "    for j in range(1,n):\n",
    "        for i in range(n-j):\n",
    "            coef [i][j] = (coef [i+1][j-1] - coef [i][j-1]) / (x [i+j] - x [i] )\n",
    "    \n",
    "    return coef"
   ]
  },
  {
   "cell_type": "code",
   "execution_count": 6,
   "id": "4bdfa1ee",
   "metadata": {},
   "outputs": [],
   "source": [
    "def newton_poly (coef, x_data, x0):\n",
    "    '''\n",
    "    Evalúa el polinomio de Newton en x0\n",
    "    Entrada: coef = tabla de diferencias divididas\n",
    "    '''\n",
    "    \n",
    "    n = len (x_data) - 1\n",
    "    p = coef [n]\n",
    "    \n",
    "    for i in range(1, n + 1):\n",
    "        p = coef [n-i] + (x - x_data [n-i] ) * p\n",
    "    \n",
    "    return p"
   ]
  },
  {
   "cell_type": "code",
   "execution_count": 11,
   "id": "3052d481",
   "metadata": {},
   "outputs": [
    {
     "name": "stdout",
     "output_type": "stream",
     "text": [
      "[-2.  6.  1.  3.]\n"
     ]
    }
   ],
   "source": [
    "x = np.array ( [-5, -1, 0, 2] )\n",
    "y = np.array ( [-2, 6, 1, 3] )\n",
    "a_s = diferencias_divididas (x, y) [0, :]\n",
    "\n",
    "x0 = np.arange (-5, 1.5, .1)\n",
    "pol = newton_poly (a_s, x, x0)\n",
    "\n",
    "print (pol)"
   ]
  },
  {
   "cell_type": "code",
   "execution_count": null,
   "id": "af682f25",
   "metadata": {},
   "outputs": [],
   "source": []
  }
 ],
 "metadata": {
  "kernelspec": {
   "display_name": "Conda (base)",
   "language": "python",
   "name": "base"
  },
  "language_info": {
   "codemirror_mode": {
    "name": "ipython",
    "version": 3
   },
   "file_extension": ".py",
   "mimetype": "text/x-python",
   "name": "python",
   "nbconvert_exporter": "python",
   "pygments_lexer": "ipython3",
   "version": "3.8.5"
  }
 },
 "nbformat": 4,
 "nbformat_minor": 5
}
