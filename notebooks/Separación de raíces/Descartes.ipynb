{
 "cells": [
  {
   "cell_type": "code",
   "execution_count": 86,
   "metadata": {},
   "outputs": [],
   "source": [
    "import re\n",
    "import sympy as sp"
   ]
  },
  {
   "cell_type": "markdown",
   "metadata": {},
   "source": [
    "# Regla de Descartes\n",
    "\n",
    "La ecuación algebraica:</br>\n",
    "$$a_{0} x^{n} + a_{1} x^{n-1} + ... + a_{n} = 0$$\n",
    "\n",
    "Tiene _n_ raices (reales o complejas)\n",
    "\n",
    "El número de raíces reales positivas es menor o igual que _m_ y tiene su misma paridad\n",
    "\n",
    "<pre> Las Raíces complejas se presentan en pares  </pre>\n",
    "\n",
    "_m_: Número de cambios de signo en la sucesión de coeficientes\n",
    "\n",
    "|m|Raíces positivas|\n",
    "|:-:|:-|\n",
    "| 5 | 1, 3 ó 5 |\n",
    "| 4 | 0, 2 ó 4 |\n",
    "| 3 | 1 ó 3 |\n",
    "| 2 | 0 ó 2 |\n",
    "| 1 | 1 |\n",
    "| 0 | 0 |\n",
    "\n"
   ]
  },
  {
   "cell_type": "markdown",
   "metadata": {},
   "source": [
    "### Métodos auxiliares [NO TOCAR]"
   ]
  },
  {
   "cell_type": "markdown",
   "metadata": {},
   "source": [
    "```positive_max_grade (values):``` \n",
    "transforma la ecuación para que el coeficiente de mayor grado sea positivo"
   ]
  },
  {
   "cell_type": "code",
   "execution_count": 87,
   "metadata": {},
   "outputs": [],
   "source": [
    "def positive_max_grade (values):\n",
    "    \n",
    "    coefficients = [i * (-1) for i in values]\n",
    "\n",
    "    return coefficients"
   ]
  },
  {
   "cell_type": "markdown",
   "metadata": {},
   "source": [
    "``` negative_interval (values): ``` evalua el polinomio donde $x = -x$ para analizar el intervalo negativo "
   ]
  },
  {
   "cell_type": "code",
   "execution_count": 88,
   "metadata": {},
   "outputs": [],
   "source": [
    "def negative_interval (values):\n",
    "\n",
    "    result = list.copy (values)\n",
    "\n",
    "    if len (values) % 2 == 0:  # si tiene una cantidad par de coeficientes significa que el grado es impar\n",
    "        i = 0\n",
    "        result = positive_max_grade (values)\n",
    "    else:\n",
    "        i = 1\n",
    "\n",
    "    for v in range (i, len (result) - 1, 2):\n",
    "        result[v] = result[v] * (-1)\n",
    "\n",
    "    return result"
   ]
  },
  {
   "cell_type": "markdown",
   "metadata": {},
   "source": [
    "``` poly_coefficients (raw_polynomial): ``` Analiza un polinomio insertado de manera natural y extrae los coeficientes de manera ordenada ascendentemente\n",
    "\n",
    "<strong> Importante: </strong><br>\n",
    "Para el correcto funcionamiento del método cuando el coeficiente es negativo, el símbolo negativo debe estar junto al coeficiente ( -2x ) <br>\n",
    "Se puede utilizar la notación ``` ** ``` o ```^``` indistintamente (```x**2``` = ```x^2```) <br>\n",
    "El método organiza el polinomio de mayor a menor grado ( $x^2 + x^5 -x^3 + 4$ = $x^5  -x^3 + x^2 + 4$ ) <br>\n",
    "El método se encarga de agrupar términos semejantes ( $x^2  -3 + 2x^2$ = $3x^2  -3$)"
   ]
  },
  {
   "cell_type": "code",
   "execution_count": 89,
   "metadata": {},
   "outputs": [],
   "source": [
    "def poly_coefficients (raw_polynomial):\n",
    "\n",
    "    regexp = r\"(-?\\d*)(x?)(?:(?:\\^|\\*\\*)(\\d))?\"\n",
    "    c = {}\n",
    "\n",
    "    for coef, x, exp in re.findall (regexp, raw_polynomial):\n",
    "        if not coef and not x:\n",
    "            continue\n",
    "        if x and not coef:\n",
    "            coef = '1'\n",
    "        if x and coef == \"-\":\n",
    "            coef = \"-1\"\n",
    "        if x and not exp:\n",
    "            exp = '1'\n",
    "        if coef and not x:\n",
    "            exp = '0'\n",
    "\n",
    "        try:\n",
    "            c [int (exp)] = c[int (exp)] + float (coef)\n",
    "        except KeyError:\n",
    "            c [int (exp)] = float (coef)\n",
    "\n",
    "    grade = max (c)\n",
    "    coefficients = [0.0] * (grade + 1)\n",
    "\n",
    "    for g, v in c.items ():\n",
    "        coefficients [g] = v\n",
    "    coefficients.reverse ()\n",
    "\n",
    "    if coefficients [0] < 0:\n",
    "        coefficients = positive_max_grade (coefficients)\n",
    "\n",
    "    return coefficients"
   ]
  },
  {
   "cell_type": "markdown",
   "metadata": {},
   "source": [
    "### Implementación"
   ]
  },
  {
   "cell_type": "markdown",
   "metadata": {},
   "source": [
    "``` aux_descartes (values): ``` Implementación del método de descartes para buscar máximo número de raíces"
   ]
  },
  {
   "cell_type": "code",
   "execution_count": 90,
   "metadata": {},
   "outputs": [],
   "source": [
    "def aux_descartes (values):\n",
    "    value = values[0]\n",
    "    count = 0\n",
    "\n",
    "    for n in values [1:]:\n",
    "        if value * n < 0:\n",
    "            value = n\n",
    "            count = count + 1\n",
    "\n",
    "    return count"
   ]
  },
  {
   "cell_type": "markdown",
   "metadata": {},
   "source": [
    "``` descartes(values) ``` Método auxiliar de Descartes para calcular la cantidad de raíces tanto en el intervalo positivo como en el negativo"
   ]
  },
  {
   "cell_type": "code",
   "execution_count": 91,
   "metadata": {},
   "outputs": [],
   "source": [
    "def descartes (values):\n",
    "\n",
    "    result_pos = aux_descartes (negative_interval (values) )\n",
    "    result_neg = aux_descartes (values)\n",
    "\n",
    "    return ([i for i in range(result_pos,0,-2)]), ([i for i in range(result_neg,0,-2)]) "
   ]
  },
  {
   "cell_type": "markdown",
   "metadata": {},
   "source": [
    "### Inserción de datos"
   ]
  },
  {
   "cell_type": "code",
   "execution_count": 97,
   "metadata": {},
   "outputs": [
    {
     "name": "stdout",
     "output_type": "stream",
     "text": [
      "Descartes aplicado en intervalo positivo: [1]\n",
      "Descartes aplicado en intervalo negativo: []\n"
     ]
    }
   ],
   "source": [
    "f = 'x**2 + 2x**3 + 6'\n",
    "\n",
    "f_coefficients = poly_coefficients(f)\n",
    "\n",
    "pos_interval, neg_interval = descartes(f_coefficients)\n",
    "\n",
    "print ('Descartes aplicado en intervalo positivo: {}'.format(pos_interval))\n",
    "print ('Descartes aplicado en intervalo negativo: {}'.format(neg_interval))\n"
   ]
  }
 ],
 "metadata": {
  "interpreter": {
   "hash": "50a1c7f7f999c358e0b5259763df47a04f976b7989cc44fe344baf2ec3d120ee"
  },
  "kernelspec": {
   "display_name": "Python 3.8.5 64-bit",
   "language": "python",
   "name": "python3"
  },
  "language_info": {
   "codemirror_mode": {
    "name": "ipython",
    "version": 3
   },
   "file_extension": ".py",
   "mimetype": "text/x-python",
   "name": "python",
   "nbconvert_exporter": "python",
   "pygments_lexer": "ipython3",
   "version": "3.8.5"
  },
  "orig_nbformat": 4
 },
 "nbformat": 4,
 "nbformat_minor": 2
}
