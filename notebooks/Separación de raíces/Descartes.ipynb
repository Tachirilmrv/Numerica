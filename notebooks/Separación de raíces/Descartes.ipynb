{
 "cells": [
  {
   "cell_type": "code",
   "execution_count": 21,
   "metadata": {},
   "outputs": [],
   "source": [
    "import sympy as sp\n",
    "from utils import *"
   ]
  },
  {
   "cell_type": "markdown",
   "metadata": {},
   "source": [
    "# Regla de Descartes\n",
    "\n",
    "La ecuación algebraica:</br>\n",
    "$$a_{0} x^{n} + a_{1} x^{n-1} + ... + a_{n} = 0$$\n",
    "\n",
    "Tiene _n_ raices (reales o complejas)\n",
    "\n",
    "El número de raíces reales positivas es menor o igual que _m_ y tiene su misma paridad\n",
    "\n",
    "<pre>Las Raíces complejas se presentan en pares</pre>\n",
    "\n",
    "_m_: Número de cambios de signo en la sucesión de coeficientes\n",
    "\n",
    "|m|Raíces positivas|\n",
    "|:-:|:-|\n",
    "| 5 | 1, 3 ó 5 |\n",
    "| 4 | 0, 2 ó 4 |\n",
    "| 3 | 1 ó 3 |\n",
    "| 2 | 0 ó 2 |\n",
    "| 1 | 1 |\n",
    "| 0 | 0 |\n",
    "\n"
   ]
  },
  {
   "cell_type": "markdown",
   "metadata": {},
   "source": [
    "## Implementación:"
   ]
  },
  {
   "cell_type": "markdown",
   "metadata": {},
   "source": [
    "``` aux_descartes (values): ``` Implementación del método de descartes para buscar máximo número de raíces"
   ]
  },
  {
   "cell_type": "code",
   "execution_count": 22,
   "metadata": {},
   "outputs": [],
   "source": [
    "def aux_descartes(values):\n",
    "    value = values[0]\n",
    "    count = 0\n",
    "\n",
    "    for n in values[1:]:\n",
    "        if value * n < 0:\n",
    "            value = n\n",
    "            count = count + 1\n",
    "\n",
    "    return count"
   ]
  },
  {
   "cell_type": "markdown",
   "metadata": {},
   "source": [
    "``` descartes(values) ``` Método auxiliar de Descartes para calcular la cantidad de raíces tanto en el intervalo positivo como en el negativo"
   ]
  },
  {
   "cell_type": "code",
   "execution_count": 23,
   "metadata": {},
   "outputs": [],
   "source": [
    "def descartes (values):\n",
    "    result_pos = aux_descartes(negative_interval(values) )\n",
    "    result_neg = aux_descartes(values)\n",
    "\n",
    "    return ( [i for i in range(result_pos, 0, -2) ] ), ( [i for i in range(result_neg, 0, -2) ] ) "
   ]
  },
  {
   "cell_type": "markdown",
   "metadata": {},
   "source": [
    "## Inserción de datos:"
   ]
  },
  {
   "cell_type": "markdown",
   "metadata": {},
   "source": [
    "Insertar la funcion siguiendo la nomenclatura dada"
   ]
  },
  {
   "cell_type": "code",
   "execution_count": 24,
   "metadata": {},
   "outputs": [],
   "source": [
    "f = \"x^2+2x^3-6\""
   ]
  },
  {
   "cell_type": "markdown",
   "metadata": {},
   "source": [
    "## Salida:"
   ]
  },
  {
   "cell_type": "code",
   "execution_count": 25,
   "metadata": {},
   "outputs": [
    {
     "name": "stdout",
     "output_type": "stream",
     "text": [
      "Descartes aplicado en intervalo positivo: [2]\n",
      "Descartes aplicado en intervalo negativo: [1]\n"
     ]
    }
   ],
   "source": [
    "f_coefficients = poly_coefficients(f)\n",
    "\n",
    "pos_interval, neg_interval = descartes(f_coefficients)\n",
    "\n",
    "print('Descartes aplicado en intervalo positivo: {}'.format(pos_interval) )\n",
    "print('Descartes aplicado en intervalo negativo: {}'.format(neg_interval) )"
   ]
  }
 ],
 "metadata": {
  "interpreter": {
   "hash": "50a1c7f7f999c358e0b5259763df47a04f976b7989cc44fe344baf2ec3d120ee"
  },
  "kernelspec": {
   "display_name": "Python 3 (ipykernel)",
   "language": "python",
   "name": "python3"
  },
  "language_info": {
   "codemirror_mode": {
    "name": "ipython",
    "version": 3
   },
   "file_extension": ".py",
   "mimetype": "text/x-python",
   "name": "python",
   "nbconvert_exporter": "python",
   "pygments_lexer": "ipython3",
   "version": "3.8.5"
  }
 },
 "nbformat": 4,
 "nbformat_minor": 2
}
