{
 "cells": [
  {
   "cell_type": "code",
   "execution_count": 1,
   "metadata": {},
   "outputs": [],
   "source": [
    "from utils import *\n",
    "import math"
   ]
  },
  {
   "cell_type": "markdown",
   "metadata": {},
   "source": [
    "# Lagrange\n",
    "\n",
    "Aplica la regla de Lagrange para acotar la raíz de un polinomio.\n",
    "\n",
    "En la ecuación:\n",
    "\n",
    "$$ a_0x^n + a_1x^{n-1} + ... + a_n = 0 $$\n",
    "\n",
    "todas las raíces reales positivas (si existen) son menores que:\n",
    "\n",
    "$$ R = 1 + \\Biggl(\\frac{B}{a_0}\\Biggr)^{\\frac{1}{k}} $$\n",
    "\n",
    "#### Donde:\n",
    "\n",
    "- $a_0 > 0$\n",
    "- $a_k$ Primer coeficiente negativo\n",
    "- $B$ Mayor valor absoluto de los coeficientes negativos"
   ]
  },
  {
   "cell_type": "markdown",
   "metadata": {},
   "source": [
    "## Implementación:"
   ]
  },
  {
   "cell_type": "markdown",
   "metadata": {},
   "source": [
    "``` aux_larange(values): ``` Implementación del método de Lagrange para aproximar la raíz en un polinomio"
   ]
  },
  {
   "cell_type": "code",
   "execution_count": 2,
   "metadata": {},
   "outputs": [],
   "source": [
    "def aux_lagrange(values):\n",
    "    b = max(max(values), abs(min(values) ) )\n",
    "    k = find_k(values)\n",
    "\n",
    "    if k is None:\n",
    "        return None\n",
    "\n",
    "    return 1 + math.pow(b / values[0], 1 / k)"
   ]
  },
  {
   "cell_type": "markdown",
   "metadata": {},
   "source": [
    "``` lagrange(values) ``` Método auxiliar de Lagrange para aproximar la raíz tanto en el intervalo negativo como en el intervalo positivo"
   ]
  },
  {
   "cell_type": "code",
   "execution_count": 3,
   "metadata": {},
   "outputs": [],
   "source": [
    "def lagrange(values):\n",
    "    result_neg = aux_lagrange(negative_interval(values) )\n",
    "    result_pos = aux_lagrange(values)\n",
    "\n",
    "    return result_neg, result_pos"
   ]
  },
  {
   "cell_type": "markdown",
   "metadata": {},
   "source": [
    "## Inserción de datos:"
   ]
  },
  {
   "cell_type": "markdown",
   "metadata": {},
   "source": [
    "Insertar la funcion siguiendo la nomenclatura dada"
   ]
  },
  {
   "cell_type": "code",
   "execution_count": 4,
   "metadata": {},
   "outputs": [],
   "source": [
    "f = 'x^2-5'"
   ]
  },
  {
   "cell_type": "markdown",
   "metadata": {},
   "source": [
    "## Salida:"
   ]
  },
  {
   "cell_type": "code",
   "execution_count": 5,
   "metadata": {},
   "outputs": [
    {
     "name": "stdout",
     "output_type": "stream",
     "text": [
      "Lagrange aplicado en intervalo positivo: [0 , 3.23606797749979]\n",
      "Lagrange aplicado en intervalo negativo: [-3.23606797749979 , 0]\n"
     ]
    }
   ],
   "source": [
    "f_coefficients = poly_coefficients(f)\n",
    "\n",
    "pos_interval, neg_interval = lagrange(f_coefficients)\n",
    "\n",
    "print('Lagrange aplicado en intervalo positivo: [0 , {}]'.format(pos_interval) )\n",
    "print('Lagrange aplicado en intervalo negativo: [-{} , 0]'.format(neg_interval) )"
   ]
  }
 ],
 "metadata": {
  "interpreter": {
   "hash": "50a1c7f7f999c358e0b5259763df47a04f976b7989cc44fe344baf2ec3d120ee"
  },
  "kernelspec": {
   "display_name": "Python 3.8.5 64-bit",
   "language": "python",
   "name": "python3"
  },
  "language_info": {
   "codemirror_mode": {
    "name": "ipython",
    "version": 3
   },
   "file_extension": ".py",
   "mimetype": "text/x-python",
   "name": "python",
   "nbconvert_exporter": "python",
   "pygments_lexer": "ipython3",
   "version": "3.8.5"
  },
  "orig_nbformat": 4
 },
 "nbformat": 4,
 "nbformat_minor": 2
}
