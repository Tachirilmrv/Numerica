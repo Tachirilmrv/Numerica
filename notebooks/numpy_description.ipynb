{
 "cells": [
  {
   "cell_type": "code",
   "execution_count": null,
   "metadata": {},
   "outputs": [],
   "source": [
    "import numpy as np"
   ]
  },
  {
   "cell_type": "markdown",
   "metadata": {},
   "source": [
    "## Creacion de funciones con numpy\n",
    "\n",
    "Descripción | función matemática   | función numpy   |\n",
    "|:-|:-|:-|\n",
    "seno | sen(x) | sin(x) |\n",
    "coseno | cos(x) | cos(x) |\n",
    "tangente | tan(x) | tan(x) |\n",
    "arcoseno | arcsen(x) | asin(x) |\n",
    "arcocoseno | arccos(x) | acos(x) |\n",
    "arcotangente | arctan(x) | atan(x) |\n",
    "seno hiperbólico | senh(x) | sinh(x) |\n",
    "coseno hiperbólico | cosh(x) | cosh(x) |\n",
    "tangente hiperbólico | tanh(x) | tanh(x) |\n",
    "arcoseno hiperbólico | arcsenh(x) | asinh(x) |\n",
    "arcocoseno hiperbólico | arccosh(x) | acosh(x) |\n",
    "arcotangente hiperbólico | arctanh(x) | atanh(x) |\n",
    "exponencial | $a^b$ | power(a,b) |\n",
    "logaritmo natural (base e) | ln(x) | log(x)\n",
    "logaritmo base 10 | $log(x)$ | log10(x) |\n",
    "logaritmo base 2 | $log_{2}(x)$ | log2(x) |\n",
    "raíz cuadrada | $\\sqrt{x}$ | sqrt(x) |\n",
    "raíz cúbica | $\\sqrt[3]{x}$ | cbrt(x) |\n",
    "\n",
    "### Nota\n",
    "Las funciones secante (sec(x)), cosecante (csc(x)) y cotangente (cot(x)) no son representadas ya que son el equivalente de la inversa de el coseno (cos(x)), seno (sec(x)) y tangente (tan(x)) respectivamente:\n",
    "\n",
    "$sec(x) = \\frac{1}{cos(x)}$\n",
    "\n",
    "$csc(x) = \\frac{1}{sen(x)}$\n",
    "\n",
    "$cot(x) = \\frac{1}{tan(x)}$"
   ]
  },
  {
   "cell_type": "markdown",
   "metadata": {},
   "source": [
    "## Ejemplo de funciones complejas\n",
    "\n",
    "|función | código en python con numpy |\n",
    "|:-|:-|\n",
    "|$\\sqrt{5 - x^3}$|  ```sqrt(5 - power(x,3)) ``` | \n",
    "|ln ($\\sqrt[3]{x + 3}$)| ```log(cbrt(x + 3)) ```|\n",
    "|$a^{arcsen(x) * log(x)}$| ```power(a, asin(x) * log10(x)) ```|\n",
    "|$sech(x) + arccsch(x) - arccot(x)$| ```(1/cosh(x)) + (1/asinh(x)) - (1/atan(x)) ```|"
   ]
  }
 ],
 "metadata": {
  "interpreter": {
   "hash": "50a1c7f7f999c358e0b5259763df47a04f976b7989cc44fe344baf2ec3d120ee"
  },
  "kernelspec": {
   "display_name": "Python 3.8.5 64-bit",
   "language": "python",
   "name": "python3"
  },
  "language_info": {
   "codemirror_mode": {
    "name": "ipython",
    "version": 3
   },
   "file_extension": ".py",
   "mimetype": "text/x-python",
   "name": "python",
   "nbconvert_exporter": "python",
   "pygments_lexer": "ipython3",
   "version": "3.8.5"
  },
  "orig_nbformat": 4
 },
 "nbformat": 4,
 "nbformat_minor": 2
}
