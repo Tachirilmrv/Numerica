{
 "cells": [
  {
   "cell_type": "code",
   "execution_count": 38,
   "metadata": {},
   "outputs": [],
   "source": [
    "from numpy import *"
   ]
  },
  {
   "cell_type": "markdown",
   "metadata": {},
   "source": [
    "# Algoritmo de Gauss-Seidel\n",
    "\n",
    "Algoritmo utilizado para hallar solución a sistemas lineales de orden $n$ en la forma $Ax = b$ con error menor que $\\varepsilon$ \n",
    "\n",
    "Hipótesis:\n",
    "- Se supone que la matriz $A$ posee diagonal predominante"
   ]
  },
  {
   "cell_type": "markdown",
   "metadata": {},
   "source": [
    "### Implementación"
   ]
  },
  {
   "cell_type": "markdown",
   "metadata": {},
   "source": [
    "``` gauss_seidel(a, b, x0, f_convergencia, tol, max_iter): ``` Implementación del algoritmo de Jacobi para hallar solución a sistemas de ecuaciones lineales \n",
    "\n",
    "##### Parámetros\n",
    "\n",
    "- ``` a ``` : matriz de los coeficientes\n",
    "- ``` b ``` : matriz de los términos independientes\n",
    "- ``` x0 ``` : matriz columna que representa los valores estimados de solucio (se puede utilizar la matriz trivial)\n",
    "- ``` f_convergencia ``` : factor de convergencia de la matriz de los coeficientes\n",
    "- ``` tol ``` : Cota para el error absoluto\n",
    "- ``` max_iter ``` : máxima cantidad de iteraciones a realizar"
   ]
  },
  {
   "cell_type": "code",
   "execution_count": 39,
   "metadata": {},
   "outputs": [],
   "source": [
    "def gauss_seidel(a, b, max_iter):\n",
    "\n",
    "    count = 1\n",
    "    result = zeros(a.shape[1])\n",
    "    error = zeros(a.shape[1])\n",
    "\n",
    "    condition = True\n",
    "\n",
    "    while condition and max_iter < count:\n",
    "        for i in range(a.shape[0]):\n",
    "            value_temp = 0\n",
    "            for j in range(a.shape[1]):\n",
    "                if i == j:\n",
    "                    value_temp += b[i] / a[i][j]\n",
    "                else:    \n",
    "                    value_temp += -a[i][j] / a[i][i] * result[j] \n",
    "            error[i] = abs(result[i] - value_temp)\n",
    "            result[i] = value_temp\n",
    "\n",
    "        print(\"{:<7}\\t \".format(count), end = '')\n",
    "        for i in range(a.shape[1]):\n",
    "            print(\"{:.5f}\\t \".format(result[i]), end = '')\n",
    "        print(\"{:.5f}\\t \".format(max(error)))\n",
    "        count += 1\n",
    "        condition = max(error) > e\n",
    "\n",
    "     "
   ]
  },
  {
   "cell_type": "markdown",
   "metadata": {},
   "source": [
    "#### Hallar factor de convergencia\n",
    "\n",
    "``` hallar_factor_convergencia(a): ``` Halla el factor de convergencia de la matriz a\n",
    "\n",
    "##### Parámetros\n",
    "``` a ``` : matriz de los coeficientes"
   ]
  },
  {
   "cell_type": "code",
   "execution_count": 40,
   "metadata": {},
   "outputs": [],
   "source": [
    "from numpy import *\n",
    "\n",
    "def hallar_factor_convergencia(a):\n",
    "    \n",
    "    a = absolute(a)\n",
    "    result = []\n",
    "\n",
    "    for i in range(a.shape[0]):\n",
    "        total_fila = sum(a[i])\n",
    "\n",
    "        if total_fila - a[i][i] < 0:\n",
    "            raise Exception(\"El factor de convergencia de la matriz es mayor que 0\")\n",
    "\n",
    "        q=0\n",
    "        p=0\n",
    "        for j in range(a.shape[1]):\n",
    "            if i > j:\n",
    "                p += a[i][j] / a[i][i]\n",
    "            elif i < j:\n",
    "                q += a[i][j] / a[i][i]\n",
    "\n",
    "\n",
    "\n",
    "        result.append(q / (1-p))\n",
    "    \n",
    "    return max(result)"
   ]
  },
  {
   "cell_type": "markdown",
   "metadata": {},
   "source": [
    "### Inserción de datos\n",
    "\n",
    "#### Datos\n",
    "\n",
    "- ```a``` = matriz de los coeficientes\n",
    "- ```b``` = matriz columna de los términos independientes\n",
    "- ```e``` = error tolerado\n",
    "- ```iter_max``` = cantidad máxima de iteraciones a realizar antes de deterner el algoritmo"
   ]
  },
  {
   "cell_type": "code",
   "execution_count": 41,
   "metadata": {},
   "outputs": [],
   "source": [
    "a = array([[9, -1, 2],\n",
    "           [1, 8, 2],\n",
    "           [1, -1, 11]])\n",
    "\n",
    "b = array([9, 19, 10])\n",
    "\n",
    "e = 0.00001\n",
    "\n",
    "iter_max = 200"
   ]
  },
  {
   "cell_type": "markdown",
   "metadata": {},
   "source": [
    "### Salida de datos"
   ]
  },
  {
   "cell_type": "code",
   "execution_count": 42,
   "metadata": {},
   "outputs": [
    {
     "name": "stdout",
     "output_type": "stream",
     "text": [
      "El factor de convergencia del sistema es 0.33333\n",
      "count  \t x1      \t x2      \t x3      \t error  \t \n",
      "1      \t 1.00000\t 2.25000\t 1.02273\t 2.25000\t \n",
      "2      \t 1.02273\t 1.99148\t 0.99716\t 0.25852\t \n",
      "3      \t 0.99968\t 2.00075\t 1.00010\t 0.02304\t \n",
      "4      \t 1.00006\t 1.99997\t 0.99999\t 0.00078\t \n",
      "5      \t 1.00000\t 2.00000\t 1.00000\t 0.00006\t \n",
      "6      \t 1.00000\t 2.00000\t 1.00000\t 0.00000\t \n"
     ]
    }
   ],
   "source": [
    "print(\"El factor de convergencia del sistema es {:.5f}\".format(hallar_factor_convergencia(a)))\n",
    "\n",
    "#encabezado\n",
    "print(\"{:<7}\\t \".format(\"count\"), end = '')\n",
    "for i in range(a.shape[1]):\n",
    "    print(\"x{:<7}\\t \".format(i+1), end = '')\n",
    "print(\"{:<7}\\t \".format(\"error\"))\n",
    "\n",
    "\n",
    "gauss_seidel(a,b, iter_max)"
   ]
  }
 ],
 "metadata": {
  "interpreter": {
   "hash": "50a1c7f7f999c358e0b5259763df47a04f976b7989cc44fe344baf2ec3d120ee"
  },
  "kernelspec": {
   "display_name": "Python 3.8.5 64-bit",
   "language": "python",
   "name": "python3"
  },
  "language_info": {
   "codemirror_mode": {
    "name": "ipython",
    "version": 3
   },
   "file_extension": ".py",
   "mimetype": "text/x-python",
   "name": "python",
   "nbconvert_exporter": "python",
   "pygments_lexer": "ipython3",
   "version": "3.8.5"
  },
  "orig_nbformat": 4
 },
 "nbformat": 4,
 "nbformat_minor": 2
}
