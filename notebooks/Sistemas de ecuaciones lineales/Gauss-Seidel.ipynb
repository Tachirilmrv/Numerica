{
 "cells": [
  {
   "cell_type": "code",
   "execution_count": 1,
   "metadata": {},
   "outputs": [],
   "source": [
    "from numpy import *"
   ]
  },
  {
   "cell_type": "markdown",
   "metadata": {},
   "source": [
    "# Algoritmo de Gauss-Seidel\n",
    "\n",
    "Algoritmo utilizado para hallar solución a sistemas lineales de orden $n$ en la forma $Ax = b$ con error menor que $\\varepsilon$ \n",
    "\n",
    "### Hipótesis:\n",
    "- El sistema es cuadrado, es decir, con igual cantidad de ecuaciones e incógnitas\n",
    "- El sistema es determinado, es decir, con solución única\n",
    "- Se supone que la matriz $A$ posee diagonal predominante"
   ]
  },
  {
   "cell_type": "markdown",
   "metadata": {},
   "source": [
    "## Implementación"
   ]
  },
  {
   "cell_type": "markdown",
   "metadata": {},
   "source": [
    "``` gauss_seidel(a, b, x0, beta, tol): ``` Implementación del algoritmo de Jacobi para hallar solución a sistemas de ecuaciones lineales \n",
    "\n",
    "### Parámetros\n",
    "- ``` a ``` : matriz de los coeficientes\n",
    "- ``` b ``` : matriz de los términos independientes\n",
    "- ``` x0 ``` : matriz columna que representa los valores estimados de solucio (se puede utilizar la matriz trivial)\n",
    "- ``` beta ``` : factor de convergencia del sistema\n",
    "- ``` tol ``` : cota para el error absoluto"
   ]
  },
  {
   "cell_type": "code",
   "execution_count": 2,
   "metadata": {},
   "outputs": [],
   "source": [
    "def gauss_seidel(a, b, x0, beta, tol):\n",
    "    x = copy(x0)\n",
    "    condicion = True\n",
    "    iter = 0\n",
    "\n",
    "    while condicion:\n",
    "        error = 0\n",
    "        \n",
    "        for i in range(a.shape[0] ):\n",
    "            temp = b[i]\n",
    "            \n",
    "            for j in range(a.shape[1] ):\n",
    "                if j != i:\n",
    "                    temp -= a[i][j] * x[j]   \n",
    "                \n",
    "            temp /= a[i][i]\n",
    "\n",
    "            if abs(temp - x[i] ) > error:\n",
    "                error = abs(temp - x[i] )\n",
    "            \n",
    "            x[i] = temp\n",
    "        \n",
    "        error *= beta / (1 - beta)\n",
    "        \n",
    "        print(str(iter) + '\\t ', end = '')\n",
    "        \n",
    "        for i in range(len(x) ):\n",
    "            print(\"{:.5f}\\t \".format(x[i]), end = '')\n",
    "        \n",
    "        print('{:.5f}'.format(error) )\n",
    "        \n",
    "        iter += 1\n",
    "        condicion = error > tol"
   ]
  },
  {
   "cell_type": "markdown",
   "metadata": {},
   "source": [
    "### Verificar que A tenga diagonal predominante\n",
    "``` diag_pred(a): ``` Determina si la matriz A de los coeficientes tiene diagonal predominante, codición suficiente para asegurar la convergencia del método\n",
    "\n",
    "#### Parámetros\n",
    "``` a ``` : matriz A de los coeficientes"
   ]
  },
  {
   "cell_type": "code",
   "execution_count": 3,
   "metadata": {},
   "outputs": [],
   "source": [
    "def diag_pred(a):\n",
    "    result = [abs(a[i][j] / a[i][i] )  for i in range(len(a) ) for j in range(len(a[i, ] ) ) if j != i]\n",
    "\n",
    "    if all(array(result) < 1):\n",
    "        print(\"El sistema es diagonal predominante. La convergencia del método está asegurada\")\n",
    "    else:\n",
    "        print(\"El sistema NO es diagonal predominante. NO se asegura la convergencia del método\")"
   ]
  },
  {
   "cell_type": "markdown",
   "metadata": {},
   "source": [
    "### Hallar factor de convergencia\n",
    "``` factor_converg(m): ``` Halla el factor de convergencia del método\n",
    "\n",
    "#### Parámetros\n",
    "``` m ``` : matriz M"
   ]
  },
  {
   "cell_type": "code",
   "execution_count": 4,
   "metadata": {},
   "outputs": [],
   "source": [
    "def factor_converg(m):\n",
    "    m = absolute(m)\n",
    "    result = []\n",
    "\n",
    "    for i in range(a.shape[0] ):\n",
    "        total_fila = __builtin__.sum(m[i] )\n",
    "        q = 0\n",
    "        p = 0\n",
    "        \n",
    "        for j in range(m.shape[1] ):\n",
    "            if i > j:\n",
    "                p += m[i][j]\n",
    "            elif i < j:\n",
    "                q += m[i][j]\n",
    "\n",
    "        result.append(q / (1 - p) )\n",
    "    \n",
    "    beta = max(result)\n",
    "\n",
    "    print(f\"El factor de convergencia del sistema es {beta}\")\n",
    "    \n",
    "    if beta > 1:\n",
    "        print(\"El factor de convergencia del sistema es mayor que 1. NO se asegura la convergencia del método\")\n",
    "\n",
    "    return beta"
   ]
  },
  {
   "cell_type": "markdown",
   "metadata": {},
   "source": [
    "## Inserción de datos"
   ]
  },
  {
   "cell_type": "code",
   "execution_count": 5,
   "metadata": {},
   "outputs": [
    {
     "name": "stdout",
     "output_type": "stream",
     "text": [
      "El sistema es diagonal predominante. La convergencia del método está asegurada\n",
      "El factor de convergencia del sistema es 0.3333333333333333\n"
     ]
    }
   ],
   "source": [
    "a = array( [ [9, -1, 2],\n",
    "             [1, 8, 2],\n",
    "             [1, -1, 11] ] )\n",
    "b = array( [9, 19, 10] )\n",
    "m = array( [ [0, 1/9, -2/9],\n",
    "             [-1/8, 0, -1/4],\n",
    "             [-1/11, 1/11, 0] ] )\n",
    "x0 = ( [0, 0, 0] )\n",
    "tol = 0.00005\n",
    "\n",
    "diag_pred(a)\n",
    "beta = factor_converg(m)"
   ]
  },
  {
   "cell_type": "markdown",
   "metadata": {},
   "source": [
    "## Salida de datos"
   ]
  },
  {
   "cell_type": "code",
   "execution_count": 6,
   "metadata": {},
   "outputs": [
    {
     "name": "stdout",
     "output_type": "stream",
     "text": [
      "iter \t x1     \t x2     \t x3     \t error  \n",
      "----------------------------------------------------------------------\n",
      "0\t 1.00000\t 2.00000\t 1.00000\t 1.12500\n",
      "1\t 1.00000\t 2.00000\t 1.00000\t 0.00000\n"
     ]
    }
   ],
   "source": [
    "print (\"{:<5}\\t {:<7}\\t {:<7}\\t {:<7}\\t {:<7}\".format(\"iter\", \"x1\", \"x2\", \"x3\", \"error\") )\n",
    "print ('-' * 70)\n",
    "\n",
    "root = gauss_seidel(a, b, x0, beta, tol)"
   ]
  }
 ],
 "metadata": {
  "interpreter": {
   "hash": "50a1c7f7f999c358e0b5259763df47a04f976b7989cc44fe344baf2ec3d120ee"
  },
  "kernelspec": {
   "display_name": "Python 3.8.5 64-bit",
   "language": "python",
   "name": "python3"
  },
  "language_info": {
   "codemirror_mode": {
    "name": "ipython",
    "version": 3
   },
   "file_extension": ".py",
   "mimetype": "text/x-python",
   "name": "python",
   "nbconvert_exporter": "python",
   "pygments_lexer": "ipython3",
   "version": "3.8.5"
  },
  "orig_nbformat": 4
 },
 "nbformat": 4,
 "nbformat_minor": 2
}
