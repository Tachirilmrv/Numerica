{
 "cells": [
  {
   "cell_type": "code",
   "execution_count": 63,
   "id": "3a943def",
   "metadata": {},
   "outputs": [],
   "source": [
    "import numpy as np"
   ]
  },
  {
   "cell_type": "markdown",
   "id": "c475d4c6",
   "metadata": {},
   "source": [
    "### Inserción de datos"
   ]
  },
  {
   "cell_type": "markdown",
   "id": "e5a52eb2",
   "metadata": {},
   "source": [
    "##### Definir las matrices"
   ]
  },
  {
   "cell_type": "code",
   "execution_count": 64,
   "id": "0696bedb",
   "metadata": {},
   "outputs": [],
   "source": [
    "a = [ [9, -1, 2],\n",
    "      [1, 8, 2],\n",
    "      [1, -1, 11] ] #Matriz sin terminos independientes"
   ]
  },
  {
   "cell_type": "code",
   "execution_count": 65,
   "id": "e449849d",
   "metadata": {},
   "outputs": [],
   "source": [
    "b = [ [9],\n",
    "      [19],\n",
    "      [10] ] #Matriz columna de los términos independientes "
   ]
  },
  {
   "cell_type": "markdown",
   "id": "f54fce51",
   "metadata": {},
   "source": [
    "##### Definir el valor del error"
   ]
  },
  {
   "cell_type": "code",
   "execution_count": 66,
   "id": "92cd5f9c",
   "metadata": {},
   "outputs": [],
   "source": [
    "epsilon = 0.00005 #Valor del error"
   ]
  },
  {
   "cell_type": "markdown",
   "id": "ea07aaf8",
   "metadata": {},
   "source": [
    "##### Auxiliar (no tocar)"
   ]
  },
  {
   "cell_type": "code",
   "execution_count": 67,
   "id": "b3df24b3",
   "metadata": {},
   "outputs": [],
   "source": [
    "diag = np.diag (a) #Valores de la diagonal\n",
    "diag_abs = np.abs (diag) #Valores absolutos de la diagonal"
   ]
  },
  {
   "cell_type": "code",
   "execution_count": 68,
   "id": "f70bb359",
   "metadata": {},
   "outputs": [],
   "source": [
    "no_diag = np.sum (np.abs (a), axis = 1) - diag_abs #Sumatoria de valores que no están en la diagonal"
   ]
  },
  {
   "cell_type": "code",
   "execution_count": 69,
   "id": "aaa3d6e0",
   "metadata": {},
   "outputs": [
    {
     "name": "stdout",
     "output_type": "stream",
     "text": [
      "La matriz tiene diagonal dominante\n"
     ]
    }
   ],
   "source": [
    "#Evalúa si la diagonal es dominante\n",
    "if np.all (diag_abs > no_diag):\n",
    "    print (\"La matriz tiene diagonal dominante\")\n",
    "else:\n",
    "    print (\"La matriz no tiene diagonal dominante\")"
   ]
  },
  {
   "cell_type": "markdown",
   "id": "176da79f",
   "metadata": {},
   "source": [
    "## Método de Gauss-Seidel"
   ]
  },
  {
   "cell_type": "code",
   "execution_count": 70,
   "id": "dd0b6a54",
   "metadata": {},
   "outputs": [],
   "source": [
    "x1, x2, x3 = 0, 0, 0"
   ]
  },
  {
   "cell_type": "code",
   "execution_count": 71,
   "id": "a31ad316",
   "metadata": {},
   "outputs": [],
   "source": [
    "x_old = np.array ( [x1, x2, x3] )"
   ]
  },
  {
   "cell_type": "code",
   "execution_count": 72,
   "id": "69345a07",
   "metadata": {},
   "outputs": [
    {
     "data": {
      "text/plain": [
       "array([1.        , 2.375     , 0.90909091])"
      ]
     },
     "execution_count": 72,
     "metadata": {},
     "output_type": "execute_result"
    }
   ],
   "source": [
    "#Matriz columna de los términos independientes divididos entre la diagonal\n",
    "c_matrix = np.array ( [b [0] [0] / diag [0],\n",
    "                       b [1] [0] / diag [1],\n",
    "                       b [2] [0] / diag [2] ] )\n",
    "c_matrix"
   ]
  },
  {
   "cell_type": "code",
   "execution_count": 73,
   "id": "bbff8ca1",
   "metadata": {},
   "outputs": [
    {
     "data": {
      "text/plain": [
       "array([[-1.        ,  0.11111111, -0.22222222],\n",
       "       [-0.125     , -1.        , -0.25      ],\n",
       "       [-0.09090909,  0.09090909, -1.        ]])"
      ]
     },
     "execution_count": 73,
     "metadata": {},
     "output_type": "execute_result"
    }
   ],
   "source": [
    "#Matriz M\n",
    "f1 = -1 * np.array (a [0] ) / diag [0]\n",
    "f2 = -1 * np.array (a [1] ) / diag [1]\n",
    "f3 = -1 * np.array (a [2] ) / diag [2]\n",
    "m_matrix = np.array ( [f1, f2, f3] )\n",
    "m_matrix"
   ]
  },
  {
   "cell_type": "code",
   "execution_count": 74,
   "id": "9752a702",
   "metadata": {},
   "outputs": [
    {
     "name": "stdout",
     "output_type": "stream",
     "text": [
      "i   x1                   x2                   x3                   error en i          \n",
      "------------------------------------------------------------------------------------------\n",
      "1   1.0                  2.25                 1.0227272727272727   2.6661716138276184  \n",
      "2   1.0227272727272727   1.9914772727272727   0.9971590909090909   0.2607762668718846  \n",
      "3   0.9996843434343435   2.0007496843434343   1.0000968491735536   0.0250116898909066  \n",
      "4   1.0000617762218142   1.999968065678885    0.9999914808597337   0.0008743487447163028\n",
      "5   0.9999983448843798   2.000002336674519    1.0000003628900127   7.26424543388102e-05\n",
      "6   1.000000178988277    1.9999998869039621   0.9999999734468804   3.08496010375523e-06\n",
      "Convergio! Estás toh tizah\n"
     ]
    }
   ],
   "source": [
    "converged = False\n",
    "\n",
    "\n",
    "print (\"{:<3} {:<20} {:<20} {:<20} {:<20}\".format(\"i\", \"x1\", \"x2\", \"x3\", \"error en i\") )\n",
    "print ('-' * 90)\n",
    "\n",
    "\n",
    "for i in range (1, 50): #En caso de no converger, modificar el 50 a un número mayor\n",
    "    x1 = (c_matrix [0] + f1 [1] * x2 + f1 [2] * x3)\n",
    "    x2 = (c_matrix [1] + f2 [0] * x1 + f2 [2] * x3)\n",
    "    x3 = (c_matrix [2] + f3 [0] * x1 + f3 [1] * x2)\n",
    "    \n",
    "    x = np.array ( [x1, x2, x3] )\n",
    "    dx = np.sqrt (np.dot (x - x_old, x - x_old) )\n",
    "    \n",
    "\n",
    "    print (\"{:<3} {:<20} {:<20} {:<20} {:<20}\".format(i, x1, x2, x3, dx) )\n",
    "    \n",
    "    if dx < epsilon:\n",
    "        converged = True\n",
    "        \n",
    "        break\n",
    "\n",
    "    x_old = x\n",
    "\n",
    "if not converged:\n",
    "    print (\"No convergió, aumenta el # de iteraciones\")\n"
   ]
  }
 ],
 "metadata": {
  "interpreter": {
   "hash": "5f1e2b7debabb81cfddc515bc2208cf2c521bebfebb13da0ee988ea546d02c25"
  },
  "kernelspec": {
   "display_name": "Conda (base)",
   "language": "python",
   "name": "python3"
  },
  "language_info": {
   "codemirror_mode": {
    "name": "ipython",
    "version": 3
   },
   "file_extension": ".py",
   "mimetype": "text/x-python",
   "name": "python",
   "nbconvert_exporter": "python",
   "pygments_lexer": "ipython3",
   "version": "3.8.5"
  }
 },
 "nbformat": 4,
 "nbformat_minor": 5
}
