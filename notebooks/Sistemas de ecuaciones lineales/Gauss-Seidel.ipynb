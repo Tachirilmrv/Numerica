{
 "cells": [
  {
   "cell_type": "code",
   "execution_count": 1,
   "metadata": {},
   "outputs": [],
   "source": [
    "from numpy import *"
   ]
  },
  {
   "cell_type": "markdown",
   "metadata": {},
   "source": [
    "# Algoritmo de Gauss-Seidel\n",
    "\n",
    "Algoritmo utilizado para hallar solución a sistemas lineales de orden $n$ en la forma $Ax = b$ con error menor que $\\varepsilon$ \n",
    "\n",
    "Hipótesis:\n",
    "- Se supone que la matriz $A$ posee diagonal predominante"
   ]
  },
  {
   "cell_type": "markdown",
   "metadata": {},
   "source": [
    "### Implementación"
   ]
  },
  {
   "cell_type": "markdown",
   "metadata": {},
   "source": [
    "``` gauss_seidel(a, b, x0, f_convergencia, tol, max_iter): ``` Implementación del algoritmo de Jacobi para hallar solución a sistemas de ecuaciones lineales \n",
    "\n",
    "##### Parámetros\n",
    "\n",
    "- ``` a ``` : matriz de los coeficientes\n",
    "- ``` b ``` : matriz de los términos independientes\n",
    "- ``` x0 ``` : matriz columna que representa los valores estimados de solucio (se puede utilizar la matriz trivial)\n",
    "- ``` f_convergencia ``` : factor de convergencia de la matriz de los coeficientes\n",
    "- ``` tol ``` : Cota para el error absoluto\n",
    "- ``` max_iter ``` : máxima cantidad de iteraciones a realizar"
   ]
  },
  {
   "cell_type": "code",
   "execution_count": 9,
   "metadata": {},
   "outputs": [
    {
     "name": "stdout",
     "output_type": "stream",
     "text": [
      "\n",
      "Count\tx\ty\tz\terror\n",
      "\n",
      "1\t1.0000\t2.2500\t1.0227\t2.2500\n",
      "\n",
      "2\t1.0227\t1.9915\t0.9972\t0.2585\n",
      "\n",
      "3\t0.9997\t2.0007\t1.0001\t0.0230\n",
      "\n",
      "4\t1.0001\t2.0000\t1.0000\t0.0008\n",
      "\n",
      "5\t1.0000\t2.0000\t1.0000\t0.0001\n",
      "\n",
      "6\t1.0000\t2.0000\t1.0000\t0.0000\n",
      "\n",
      "\n",
      "Solution: x = 1.000, y = 2.000 and z = 1.000\n",
      "\n"
     ]
    },
    {
     "data": {
      "text/plain": [
       "'\\ndef gauss_seidel(a, b, x0, f_convergencia, tol, max_iter):\\n    #x = zeros(a.shape[0])\\n    k = 0\\n    step = 1\\n    error = []\\n\\n    while k < max_iter:\\n        suma = 0\\n        k = k + 1\\n        for r in range(a.shape[0]):\\n            suma = 0\\n            for c in range(a.shape[1]):\\n                if c != r:\\n                    suma = suma + a[r,c] * x0[c]\\n            x0[r] = (b[r]-suma)/a[r,r]\\n            \\n            del error[:]\\n            \\n            comp[r] = suma\\n            dif = abs(comp[r] - vector[r])\\n            error.append(dif)\\n\\n        print(str(step) + \\'\\t \\', end = \\'\\')\\n        for i in range(len(x0)):\\n            print(\"{:.5f}\\t \".format(x0[i]), end = \\'\\')\\n        print(\\'{:.5f}\\'.format(error))\\n        \\ndef gauss_seidel(a, b, x0, f_convergencia, tol, max_iter):\\n    x = copy(x0)\\n    step = 1\\n    condicion = True\\n\\n    while condicion:\\n        error = 0\\n        for i in range(a.shape[0]):\\n            temp = b[i]\\n            for j in range(a.shape[1]):\\n                if j != i:\\n                    temp -= a[i][j] * x[j]   \\n            temp /= a[i][i]\\n\\n            if abs(temp - x[i]) > error:\\n                error = abs(temp - x[i])\\n            \\n            x[i] = temp\\n        error *= f_convergencia / (1 - f_convergencia)\\n        \\n        print(str(step) + \\'\\t \\', end = \\'\\')\\n        for i in range(len(x)):\\n            print(\"{:.5f}\\t \".format(x[i]), end = \\'\\')\\n        print(\\'{:.5f}\\'.format(error))\\n        step += 1\\n        max_iter -= 1\\n\\n        if max_iter == 0:\\n            raise Exception(\\'Se alcanzó el número máximo de iteraciones a realizar y no se encontró solución\\')\\n\\n        condicion = error > tol\\n'"
      ]
     },
     "execution_count": 9,
     "metadata": {},
     "output_type": "execute_result"
    }
   ],
   "source": [
    "a = [[9, -1, 2],\n",
    "     [1, 8, 2],\n",
    "     [1, -1, 11]]\n",
    "\n",
    "b = [9, 19, 10]\n",
    "\n",
    "x0 = 0\n",
    "y0 = 0\n",
    "z0 = 0\n",
    "count = 1\n",
    "\n",
    "e = 0.00001\n",
    "\n",
    "print(\"\\nCount\\tx\\ty\\tz\\terror\\n\")\n",
    "\n",
    "condition = True\n",
    "\n",
    "while condition:\n",
    "    x1 = \n",
    "\n",
    "\n",
    "\"\"\"\n",
    "f1 = lambda x,y,z : (9+y-2*z)/9\n",
    "f2 = lambda x,y,z : (19-x-2*z)/8\n",
    "f3 = lambda x,y,z : (10-x+y)/11\n",
    "\n",
    "#initial setup\n",
    "x0 = 0\n",
    "y0 = 0\n",
    "z0 = 0\n",
    "count = 1\n",
    "\n",
    "#reading torelable error\n",
    "e = float(input(\"entre el error\"))\n",
    "\n",
    "#implementation of gauss seidel Iteration\n",
    "print(\"\\nCount\\tx\\ty\\tz\\terror\\n\")\n",
    "\n",
    "condition = True\n",
    "\n",
    "while condition:\n",
    "    x1 = f1(x0,y0,z0)\n",
    "    y1 = f2(x1,y0,z0)\n",
    "    z1 = f3(x1,y1,z0)\n",
    "\n",
    "    e1 = abs(x0-x1)\n",
    "    e2 = abs(y0-y1)\n",
    "    e3 = abs(z0-z1)\n",
    "\n",
    "    print(\"%d\\t%0.4f\\t%0.4f\\t%0.4f\\t%0.4f\\n\"%(count,x1,y1,z1, max(e1,e2,e3)))\n",
    "\n",
    "    count += 1\n",
    "    x0 = x1\n",
    "    y0 = y1\n",
    "    z0 = z1\n",
    "\n",
    "    condition = e1 > e and e2 > e and e3 > e\n",
    "\n",
    "print(\"\\nSolution: x = %0.3f, y = %0.3f and z = %0.3f\\n\"%(x1,y1,z1))\n",
    "\n",
    "def gauss_seidel(a, b, x0, f_convergencia, tol, max_iter):\n",
    "    #x = zeros(a.shape[0])\n",
    "    k = 0\n",
    "    step = 1\n",
    "    error = []\n",
    "\n",
    "    while k < max_iter:\n",
    "        suma = 0\n",
    "        k = k + 1\n",
    "        for r in range(a.shape[0]):\n",
    "            suma = 0\n",
    "            for c in range(a.shape[1]):\n",
    "                if c != r:\n",
    "                    suma = suma + a[r,c] * x0[c]\n",
    "            x0[r] = (b[r]-suma)/a[r,r]\n",
    "            \n",
    "            del error[:]\n",
    "            \n",
    "            comp[r] = suma\n",
    "            dif = abs(comp[r] - vector[r])\n",
    "            error.append(dif)\n",
    "\n",
    "        print(str(step) + '\\t ', end = '')\n",
    "        for i in range(len(x0)):\n",
    "            print(\"{:.5f}\\t \".format(x0[i]), end = '')\n",
    "        print('{:.5f}'.format(error))\n",
    "        \n",
    "def gauss_seidel(a, b, x0, f_convergencia, tol, max_iter):\n",
    "    x = copy(x0)\n",
    "    step = 1\n",
    "    condicion = True\n",
    "\n",
    "    while condicion:\n",
    "        error = 0\n",
    "        for i in range(a.shape[0]):\n",
    "            temp = b[i]\n",
    "            for j in range(a.shape[1]):\n",
    "                if j != i:\n",
    "                    temp -= a[i][j] * x[j]   \n",
    "            temp /= a[i][i]\n",
    "\n",
    "            if abs(temp - x[i]) > error:\n",
    "                error = abs(temp - x[i])\n",
    "            \n",
    "            x[i] = temp\n",
    "        error *= f_convergencia / (1 - f_convergencia)\n",
    "        \n",
    "        print(str(step) + '\\t ', end = '')\n",
    "        for i in range(len(x)):\n",
    "            print(\"{:.5f}\\t \".format(x[i]), end = '')\n",
    "        print('{:.5f}'.format(error))\n",
    "        step += 1\n",
    "        max_iter -= 1\n",
    "\n",
    "        if max_iter == 0:\n",
    "            raise Exception('Se alcanzó el número máximo de iteraciones a realizar y no se encontró solución')\n",
    "\n",
    "        condicion = error > tol\n",
    "\"\"\"\n",
    "     "
   ]
  },
  {
   "cell_type": "markdown",
   "metadata": {},
   "source": [
    "#### Hallar factor de convergencia\n",
    "\n",
    "``` hallar_factor_convergencia(a): ``` Halla el factor de convergencia de la matriz a\n",
    "\n",
    "##### Parámetros\n",
    "``` a ``` : matriz de los coeficientes"
   ]
  },
  {
   "cell_type": "code",
   "execution_count": null,
   "metadata": {},
   "outputs": [],
   "source": [
    "from numpy import *\n",
    "\n",
    "def hallar_factor_convergencia(a):\n",
    "    \n",
    "    a = absolute(a)\n",
    "    result = []\n",
    "\n",
    "    for i in range(a.shape[0]):\n",
    "        total_fila = sum(a[i])\n",
    "\n",
    "        if total_fila - a[i][i] < 0:\n",
    "            raise Exception(\"El factor de convergencia de la matriz es mayor que 0\")\n",
    "\n",
    "        q=0\n",
    "        p=0\n",
    "        for j in range(a.shape[1]):\n",
    "            if i > j:\n",
    "                p += a[i][j] / a[i][i]\n",
    "            elif i < j:\n",
    "                q += a[i][j] / a[i][i]\n",
    "\n",
    "\n",
    "\n",
    "        result.append(q / (1-p))\n",
    "    \n",
    "    return max(result)"
   ]
  },
  {
   "cell_type": "markdown",
   "metadata": {},
   "source": [
    "### Inserción de datos"
   ]
  },
  {
   "cell_type": "code",
   "execution_count": null,
   "metadata": {},
   "outputs": [],
   "source": [
    "a = array([[7, 1, -2],\n",
    "           [-3, -5, 1],\n",
    "           [2, 2, -6]])\n",
    "\n",
    "b = array([5,-20,-8])\n",
    "\n",
    "x0 = array([0,0,0])\n",
    "\n",
    "f_convergencia = hallar_factor_convergencia(a)\n",
    "\n",
    "tol = 0.0001\n",
    "\n",
    "iteraciones_max = 200"
   ]
  },
  {
   "cell_type": "markdown",
   "metadata": {},
   "source": [
    "### Salida de datos"
   ]
  },
  {
   "cell_type": "code",
   "execution_count": null,
   "metadata": {},
   "outputs": [
    {
     "name": "stdout",
     "output_type": "stream",
     "text": [
      "iter   \t x1     \t x2     \t x3     \t error  \n",
      "----------------------------------------------------------------------\n"
     ]
    }
   ],
   "source": [
    "print (\"{:<7}\\t {:<7}\\t {:<7}\\t {:<7}\\t {:<7}\".format(\"iter\", \"x1\", \"x2\", \"x3\", \"error\"))\n",
    "print ('-' * 70)\n",
    "\n",
    "root = gauss_seidel(a,b,x0,f_convergencia,tol, iteraciones_max)"
   ]
  }
 ],
 "metadata": {
  "interpreter": {
   "hash": "50a1c7f7f999c358e0b5259763df47a04f976b7989cc44fe344baf2ec3d120ee"
  },
  "kernelspec": {
   "display_name": "Python 3.8.5 64-bit",
   "language": "python",
   "name": "python3"
  },
  "language_info": {
   "codemirror_mode": {
    "name": "ipython",
    "version": 3
   },
   "file_extension": ".py",
   "mimetype": "text/x-python",
   "name": "python",
   "nbconvert_exporter": "python",
   "pygments_lexer": "ipython3",
   "version": "3.8.5"
  },
  "orig_nbformat": 4
 },
 "nbformat": 4,
 "nbformat_minor": 2
}
