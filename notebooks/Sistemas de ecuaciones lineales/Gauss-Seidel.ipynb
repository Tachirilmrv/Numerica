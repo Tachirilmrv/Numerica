{
 "cells": [
  {
   "cell_type": "code",
   "execution_count": null,
   "metadata": {},
   "outputs": [],
   "source": [
    "from numpy import *"
   ]
  },
  {
   "cell_type": "markdown",
   "metadata": {},
   "source": [
    "# Algoritmo de Gauss-Seidel\n",
    "\n",
    "Algoritmo utilizado para hallar solución a sistemas lineales de orden $n$ en la forma $Ax = b$ con error menor que $\\varepsilon$ \n",
    "\n",
    "Hipótesis:\n",
    "- Se supone que la matriz $A$ posee diagonal predominante"
   ]
  },
  {
   "cell_type": "markdown",
   "metadata": {},
   "source": [
    "### Implementación"
   ]
  },
  {
   "cell_type": "markdown",
   "metadata": {},
   "source": [
    "``` gauss_seidel(a, b, x0, f_convergencia, tol, max_iter): ``` Implementación del algoritmo de Jacobi para hallar solución a sistemas de ecuaciones lineales \n",
    "\n",
    "##### Parámetros\n",
    "\n",
    "- ``` a ``` : matriz de los coeficientes\n",
    "- ``` b ``` : matriz de los términos independientes\n",
    "- ``` x0 ``` : matriz columna que representa los valores estimados de solucio (se puede utilizar la matriz trivial)\n",
    "- ``` f_convergencia ``` : factor de convergencia de la matriz de los coeficientes\n",
    "- ``` tol ``` : Cota para el error absoluto\n",
    "- ``` max_iter ``` : máxima cantidad de iteraciones a realizar"
   ]
  },
  {
   "cell_type": "code",
   "execution_count": null,
   "metadata": {},
   "outputs": [],
   "source": [
    "def gauss_seidel(a, b, x0, f_convergencia, tol, max_iter):\n",
    "    x = copy(x0)\n",
    "    step = 1\n",
    "    condicion = True\n",
    "\n",
    "    while condicion > 0:\n",
    "        error = 0\n",
    "        \n",
    "        for i in range(a.shape[0]):\n",
    "            temp = b[i]\n",
    "            for j in range(a.shape[1]):\n",
    "                if j != i:\n",
    "                    temp -= a[i][j] * x[j]   \n",
    "            temp /= a[i][i]\n",
    "\n",
    "            if abs(temp - x[i]) > error:\n",
    "                error = abs(temp - x[i])\n",
    "            \n",
    "            x[i] = temp\n",
    "        \n",
    "        error *= f_convergencia / (1 - f_convergencia)\n",
    "        \n",
    "        print(str(step) + '\\t ', end = '')\n",
    "        \n",
    "        for i in range(len(x)):\n",
    "            print(\"{:.5f}\\t \".format(x[i]), end = '')\n",
    "        \n",
    "        print('{:.5f}'.format(error))\n",
    "        \n",
    "        step += 1\n",
    "        max_iter -= 1\n",
    "\n",
    "        if max_iter == 0:\n",
    "            raise Exception('Se alcanzó el número máximo de iteraciones a realizar y no se encontró solución')\n",
    "\n",
    "        condicion = error > tol"
   ]
  },
  {
   "cell_type": "markdown",
   "metadata": {},
   "source": [
    "#### Hallar factor de convergencia\n",
    "\n",
    "``` hallar_factor_convergencia(a): ``` Halla el factor de convergencia de la matriz a\n",
    "\n",
    "##### Parámetros\n",
    "``` a ``` : matriz de los coeficientes"
   ]
  },
  {
   "cell_type": "code",
   "execution_count": null,
   "metadata": {},
   "outputs": [],
   "source": [
    "from numpy import *\n",
    "\n",
    "def hallar_factor_convergencia(a):\n",
    "    \n",
    "    a = absolute(a)\n",
    "    result = []\n",
    "\n",
    "    for i in range(a.shape[0]):\n",
    "        total_fila = sum(a[i])\n",
    "\n",
    "        if total_fila - a[i][i] < 0:\n",
    "            raise Exception(\"El factor de convergencia de la matriz es mayor que 0\")\n",
    "\n",
    "        q=0\n",
    "        p=0\n",
    "        for j in range(a.shape[1]):\n",
    "            if i > j:\n",
    "                p += a[i][j] / a[i][i]\n",
    "            elif i < j:\n",
    "                q += a[i][j] / a[i][i]\n",
    "\n",
    "\n",
    "\n",
    "        result.append(q / (1-p))\n",
    "    \n",
    "    return max(result)"
   ]
  },
  {
   "cell_type": "markdown",
   "metadata": {},
   "source": [
    "### Inserción de datos"
   ]
  },
  {
   "cell_type": "code",
   "execution_count": null,
   "metadata": {},
   "outputs": [],
   "source": [
    "a = array([ [7, 3, 1],\n",
    "            [2, -6, 3],\n",
    "            [-1, 2, 5] ])\n",
    "\n",
    "b = array([14 ,19 ,11])\n",
    "\n",
    "x0 = array([100, 1000, 1000])\n",
    "\n",
    "f_convergencia = hallar_factor_convergencia(a)\n",
    "\n",
    "tol = 0.0001\n",
    "\n",
    "iteraciones_max = 100"
   ]
  },
  {
   "cell_type": "markdown",
   "metadata": {},
   "source": [
    "### Salida de datos"
   ]
  },
  {
   "cell_type": "code",
   "execution_count": null,
   "metadata": {},
   "outputs": [],
   "source": [
    "print (\"{:<5}\\t {:<7}\\t {:<7}\\t {:<7}\\t {:<7}\".format(\"iter\", \"x1\", \"x2\", \"x3\", \"error\") )\n",
    "print ('-' * 70)\n",
    "\n",
    "root = gauss_seidel(a,b,x0,f_convergencia,tol, iteraciones_max)"
   ]
  }
 ],
 "metadata": {
  "interpreter": {
   "hash": "50a1c7f7f999c358e0b5259763df47a04f976b7989cc44fe344baf2ec3d120ee"
  },
  "kernelspec": {
   "display_name": "Python 3.8.5 64-bit",
   "language": "python",
   "name": "python3"
  },
  "language_info": {
   "codemirror_mode": {
    "name": "ipython",
    "version": 3
   },
   "file_extension": ".py",
   "mimetype": "text/x-python",
   "name": "python",
   "nbconvert_exporter": "python",
   "pygments_lexer": "ipython3",
   "version": "3.8.5"
  },
  "orig_nbformat": 4
 },
 "nbformat": 4,
 "nbformat_minor": 2
}
