{
 "cells": [
  {
   "cell_type": "code",
   "execution_count": 11,
   "metadata": {},
   "outputs": [],
   "source": [
    "from numpy import *"
   ]
  },
  {
   "cell_type": "markdown",
   "metadata": {},
   "source": [
    "# Algoritmo de Jacobi\n",
    "\n",
    "Algoritmo utilizado para hallar solución a sistemas lineales de orden $n$ en la forma $Ax = b$ con error menor que $\\varepsilon$ \n",
    "\n",
    "Hipótesis:\n",
    "- Se supone que la matriz $A$ posee diagonal predominante"
   ]
  },
  {
   "cell_type": "markdown",
   "metadata": {},
   "source": [
    "### Implementación"
   ]
  },
  {
   "cell_type": "markdown",
   "metadata": {},
   "source": [
    "``` Jacobi(a, b, x0, f_convergencia, tol): ``` Implementación del algoritmo de Jacobi para hallar solución a sistemas de ecuaciones lineales \n",
    "\n",
    "##### Parámetros\n",
    "\n",
    "- ``` a ``` : matriz de los coeficientes\n",
    "- ``` b ``` : matriz de los términos independientes\n",
    "- ``` x0 ``` : matriz columna que representa los valores estimados de solucio (se puede utilizar la matriz trivial)\n",
    "- ``` f_convergencia ``` : define el factor de convergencia de la matriz A\n",
    "- ``` tol ``` : Cota para el error absoluto "
   ]
  },
  {
   "cell_type": "code",
   "execution_count": 12,
   "metadata": {},
   "outputs": [],
   "source": [
    "def jacobi(a, b, x0, f_convergencia, tol):\n",
    "\n",
    "    xv = copy(x0)\n",
    "    xa = copy(b)\n",
    "    condition = True\n",
    "    step = 1\n",
    "\n",
    "    while condition:\n",
    "        error = 0\n",
    "        for i in range(len(a)):\n",
    "            xa[i] = b[i]\n",
    "            for j in range(len(a[1])):\n",
    "                if j != i:\n",
    "                    xa[i] -= -a[i][j] * xv[j]\n",
    "            xa[i] /= a[i][i]\n",
    "            if abs(xa[i] - xv[i]) > error:\n",
    "                error = abs(xa[i] - xv[i])\n",
    "        error *= abs(f_convergencia / (1 - f_convergencia)) \n",
    "\n",
    "        print(str(step) + '\\t ', end = '')\n",
    "        for i in range(len(xv)):\n",
    "            print(\"{:.5f}\\t \".format(xv[i]), end = '')\n",
    "        print('{:.5f}'.format(error))\n",
    "\n",
    "        xv = xa\n",
    "        step += 1\n",
    "\n",
    "        condition = error > tol\n"
   ]
  },
  {
   "cell_type": "markdown",
   "metadata": {},
   "source": [
    "#### Hallar factor de convergencia\n",
    "\n",
    "``` hallar_factor_convergencia(a): ``` Halla el factor de convergencia de la matriz a\n",
    "\n",
    "##### Parámetros\n",
    "``` a ``` : matriz de los coeficientes"
   ]
  },
  {
   "cell_type": "code",
   "execution_count": 13,
   "metadata": {},
   "outputs": [],
   "source": [
    "def hallar_factor_convergencia(a):\n",
    "    \n",
    "    a = absolute(a)\n",
    "    result = []\n",
    "\n",
    "    for i in range(len(a)):\n",
    "        total_fila = sum(a[i])\n",
    "\n",
    "        if total_fila - a[i][i] < 0:\n",
    "            raise Exception(\"El factor de convergencia de la matriz es mayor que 0\")\n",
    "\n",
    "        result.append((total_fila - a[i][i]) / a[i][i])\n",
    "    \n",
    "    return max(result)"
   ]
  },
  {
   "cell_type": "markdown",
   "metadata": {},
   "source": [
    "### Inserción de datos"
   ]
  },
  {
   "cell_type": "code",
   "execution_count": 14,
   "metadata": {},
   "outputs": [],
   "source": [
    "a = [[7, 3, 1],\n",
    "     [2, -6, 3],\n",
    "     [-1, 2, 5]]\n",
    "     \n",
    "term_ind = [3,-1,2]     \n",
    "\n",
    "x0 = [0,0,0]\n",
    "\n",
    "f_convergencia = hallar_factor_convergencia(a)\n",
    "\n",
    "tol = 0.005 "
   ]
  },
  {
   "cell_type": "markdown",
   "metadata": {},
   "source": [
    "### Salida de datos"
   ]
  },
  {
   "cell_type": "code",
   "execution_count": 15,
   "metadata": {},
   "outputs": [
    {
     "name": "stdout",
     "output_type": "stream",
     "text": [
      "iter   \t x1     \t x2     \t x3     \t error  \n",
      "----------------------------------------------------------------------\n",
      "[3, -1, 2]\n",
      "1\t 0.00000\t 0.00000\t 0.00000\t 0.00000\n"
     ]
    }
   ],
   "source": [
    "print (\"{:<7}\\t {:<7}\\t {:<7}\\t {:<7}\\t {:<7}\".format(\"iter\", \"x1\", \"x2\", \"x3\", \"error\"))\n",
    "print ('-' * 70)\n",
    "\n",
    "#CUANDO DEBUGUEO EL ARRAY DE LOS TERMINOS INDEPENDIENTES TOMA VALORES [-0.12448979591836735, 0.0248299319727891, 0.07482993197278912]\n",
    "#CUANDO CORRE EL PROGRAMA ME MUESTRA EL VALOR CORRECTO PERO TOMA LOS VALORES DEL DEBUGUEO Y POR TANTO NO DA LOS VALORES CORRECTOS DEL METODO\n",
    "\n",
    "print(term_ind)\n",
    "root = jacobi(a,term_ind,x0,f_convergencia,tol)"
   ]
  }
 ],
 "metadata": {
  "interpreter": {
   "hash": "50a1c7f7f999c358e0b5259763df47a04f976b7989cc44fe344baf2ec3d120ee"
  },
  "kernelspec": {
   "display_name": "Python 3.8.5 64-bit",
   "language": "python",
   "name": "python3"
  },
  "language_info": {
   "codemirror_mode": {
    "name": "ipython",
    "version": 3
   },
   "file_extension": ".py",
   "mimetype": "text/x-python",
   "name": "python",
   "nbconvert_exporter": "python",
   "pygments_lexer": "ipython3",
   "version": "3.8.5"
  },
  "orig_nbformat": 4
 },
 "nbformat": 4,
 "nbformat_minor": 2
}
