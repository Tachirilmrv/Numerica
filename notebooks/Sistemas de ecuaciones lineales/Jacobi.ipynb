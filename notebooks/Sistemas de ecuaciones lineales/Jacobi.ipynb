{
 "cells": [
  {
   "cell_type": "code",
   "execution_count": 1,
   "metadata": {},
   "outputs": [],
   "source": [
    "from numpy import *"
   ]
  },
  {
   "cell_type": "markdown",
   "metadata": {},
   "source": [
    "# Algoritmo de Jacobi\n",
    "\n",
    "Algoritmo utilizado para hallar solución a sistemas lineales de orden $n$ en la forma $Ax = b$ con error menor que $\\varepsilon$ \n",
    "\n",
    "Hipótesis:\n",
    "- Se supone que la matriz $A$ posee diagonal predominante"
   ]
  },
  {
   "cell_type": "markdown",
   "metadata": {},
   "source": [
    "### Implementación"
   ]
  },
  {
   "cell_type": "markdown",
   "metadata": {},
   "source": [
    "``` Jacobi(a, b, x0, f_convergencia, tol): ``` Implementación del algoritmo de Jacobi para hallar solución a sistemas de ecuaciones lineales \n",
    "\n",
    "##### Parámetros\n",
    "\n",
    "- ``` a ``` : matriz de los coeficientes\n",
    "- ``` b ``` : matriz de los términos independientes\n",
    "- ``` x0 ``` : matriz columna que representa los valores estimados de solucio (se puede utilizar la matriz trivial)\n",
    "- ``` f_convergencia ``` : define el factor de convergencia de la matriz A\n",
    "- ``` tol ``` : Cota para el error absoluto "
   ]
  },
  {
   "cell_type": "code",
   "execution_count": 2,
   "metadata": {},
   "outputs": [],
   "source": [
    "def jacobi(a, b, x0, f_convergencia, tol):\n",
    "\n",
    "    xv = copy(x0)\n",
    "    xa = zeros(b.shape[0])\n",
    "    condition = True\n",
    "    step = 1\n",
    "\n",
    "    while condition:\n",
    "        error = 0\n",
    "        for i in range(a.shape[0]):\n",
    "            xa[i] = b[i]\n",
    "            for j in range(a.shape[1]):\n",
    "                if j != i:\n",
    "                    xa[i] -= a[i][j] * xv[j]\n",
    "            xa[i] /= a[i][i]\n",
    "            if abs(xa[i] - xv[i]) > error:\n",
    "                error = abs(xa[i] - xv[i])\n",
    "        error *= abs(f_convergencia / (1 - f_convergencia)) \n",
    "\n",
    "        print(str(step) + '\\t ', end = '')\n",
    "        for i in range(len(xv)):\n",
    "            print(\"{:.5f}\\t \".format(xv[i]), end = '')\n",
    "        print('{:.5f}'.format(error))\n",
    "\n",
    "        xv = copy(xa)\n",
    "        step += 1\n",
    "\n",
    "        condition = error > tol\n"
   ]
  },
  {
   "cell_type": "markdown",
   "metadata": {},
   "source": [
    "#### Hallar factor de convergencia\n",
    "\n",
    "``` hallar_factor_convergencia(a): ``` Halla el factor de convergencia de la matriz a\n",
    "\n",
    "##### Parámetros\n",
    "``` a ``` : matriz de los coeficientes"
   ]
  },
  {
   "cell_type": "code",
   "execution_count": 3,
   "metadata": {},
   "outputs": [],
   "source": [
    "def hallar_factor_convergencia(a):\n",
    "    \n",
    "    a = absolute(a)\n",
    "    result = []\n",
    "\n",
    "    for i in range(len(a)):\n",
    "        total_fila = sum(a[i])\n",
    "\n",
    "        if total_fila - a[i][i] < 0:\n",
    "            raise Exception(\"El factor de convergencia de la matriz es mayor que 0\")\n",
    "\n",
    "        result.append((total_fila - a[i][i]) / a[i][i])\n",
    "    \n",
    "    return max(result)"
   ]
  },
  {
   "cell_type": "markdown",
   "metadata": {},
   "source": [
    "### Inserción de datos"
   ]
  },
  {
   "cell_type": "code",
   "execution_count": 4,
   "metadata": {},
   "outputs": [],
   "source": [
    "a = array([[7, 3, 1],\n",
    "          [2, -6, 3],\n",
    "          [-1, 2, 5]])\n",
    "     \n",
    "b = array([14,19,11])     \n",
    "\n",
    "x0 = ([100,100,100])\n",
    "\n",
    "f_convergencia = hallar_factor_convergencia(a)\n",
    "\n",
    "tol = 0.0001 "
   ]
  },
  {
   "cell_type": "markdown",
   "metadata": {},
   "source": [
    "### Salida de datos"
   ]
  },
  {
   "cell_type": "code",
   "execution_count": 5,
   "metadata": {},
   "outputs": [
    {
     "name": "stdout",
     "output_type": "stream",
     "text": [
      "iter   \t x1     \t x2     \t x3     \t error  \n",
      "----------------------------------------------------------------------\n",
      "1\t 100.00000\t 100.00000\t 100.00000\t 775.71429\n",
      "2\t -55.14286\t 80.16667\t -17.80000\t 553.07143\n",
      "3\t -29.81429\t -30.44762\t -40.89524\t 253.52721\n",
      "4\t 20.89116\t -33.55238\t 8.41619\t 207.78764\n",
      "5\t 15.17728\t 8.00515\t 19.79918\t 97.18256\n",
      "6\t -4.25923\t 11.79202\t 2.03340\t 76.80865\n",
      "7\t -3.34421\t -3.56971\t -3.36865\t 36.77660\n",
      "8\t 4.01111\t -5.96573\t 2.95904\t 28.07811\n",
      "9\t 4.13402\t -0.35011\t 5.38851\t 13.76881\n",
      "10\t 1.38026\t 0.90560\t 3.16685\t 10.14377\n",
      "11\t 1.15948\t -1.12316\t 2.11381\t 5.09950\n",
      "12\t 2.17938\t -1.72327\t 2.88116\t 3.61820\n",
      "13\t 2.32695\t -0.99963\t 3.32518\t 1.86782\n",
      "14\t 1.95339\t -0.72843\t 3.06524\t 1.27246\n",
      "15\t 1.87429\t -0.98292\t 2.88205\t 0.67619\n",
      "16\t 2.00953\t -1.10088\t 2.96803\t 0.44034\n",
      "17\t 2.04780\t -1.01281\t 3.04226\t 0.24937\n",
      "18\t 1.99945\t -0.96294\t 3.01468\t 0.14951\n",
      "19\t 1.98202\t -0.99284\t 2.98507\t 0.10311\n",
      "20\t 1.99906\t -1.01346\t 2.99354\t 0.05829\n",
      "21\t 2.00669\t -1.00354\t 3.00520\t 0.04186\n",
      "22\t 2.00078\t -0.99517\t 3.00276\t 0.02266\n",
      "23\t 1.99754\t -0.99836\t 2.99822\t 0.01673\n",
      "24\t 1.99955\t -1.00171\t 2.99885\t 0.00871\n",
      "25\t 2.00090\t -1.00072\t 3.00059\t 0.00659\n",
      "26\t 2.00022\t -0.99940\t 3.00047\t 0.00331\n",
      "27\t 1.99968\t -0.99969\t 2.99981\t 0.00257\n",
      "28\t 1.99990\t -1.00020\t 2.99981\t 0.00124\n",
      "29\t 2.00011\t -1.00013\t 3.00006\t 0.00099\n",
      "30\t 2.00005\t -0.99993\t 3.00007\t 0.00046\n",
      "31\t 1.99996\t -0.99995\t 2.99998\t 0.00038\n",
      "32\t 1.99998\t -1.00002\t 2.99997\t 0.00017\n",
      "33\t 2.00001\t -1.00002\t 3.00000\t 0.00014\n",
      "34\t 2.00001\t -0.99999\t 3.00001\t 0.00007\n"
     ]
    }
   ],
   "source": [
    "print (\"{:<7}\\t {:<7}\\t {:<7}\\t {:<7}\\t {:<7}\".format(\"iter\", \"x1\", \"x2\", \"x3\", \"error\"))\n",
    "print ('-' * 70)\n",
    "\n",
    "root = jacobi(a,b,x0,f_convergencia,tol)"
   ]
  }
 ],
 "metadata": {
  "interpreter": {
   "hash": "50a1c7f7f999c358e0b5259763df47a04f976b7989cc44fe344baf2ec3d120ee"
  },
  "kernelspec": {
   "display_name": "Python 3.8.5 64-bit",
   "language": "python",
   "name": "python3"
  },
  "language_info": {
   "codemirror_mode": {
    "name": "ipython",
    "version": 3
   },
   "file_extension": ".py",
   "mimetype": "text/x-python",
   "name": "python",
   "nbconvert_exporter": "python",
   "pygments_lexer": "ipython3",
   "version": "3.8.5"
  },
  "orig_nbformat": 4
 },
 "nbformat": 4,
 "nbformat_minor": 2
}
