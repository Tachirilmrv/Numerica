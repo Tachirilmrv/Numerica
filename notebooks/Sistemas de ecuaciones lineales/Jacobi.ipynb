{
 "cells": [
  {
   "cell_type": "code",
   "execution_count": 19,
   "metadata": {},
   "outputs": [],
   "source": [
    "from numpy import *"
   ]
  },
  {
   "cell_type": "markdown",
   "metadata": {},
   "source": [
    "# Algoritmo de Jacobi\n",
    "\n",
    "Algoritmo utilizado para hallar solución a sistemas lineales de orden $n$ en la forma $Ax = b$ con error menor que $\\varepsilon$ \n",
    "\n",
    "### Hipótesis:\n",
    "- El sistema es cuadrado, es decir, con igual cantidad de ecuaciones e incógnitas\n",
    "- El sistema es determinado, es decir, con solución única\n",
    "- Se supone que la matriz $A$ posee diagonal predominante"
   ]
  },
  {
   "cell_type": "markdown",
   "metadata": {},
   "source": [
    "## Implementación"
   ]
  },
  {
   "cell_type": "markdown",
   "metadata": {},
   "source": [
    "``` jacobi(a, b, x0, alpha, tol): ``` Implementación del algoritmo de Jacobi para hallar solución a sistemas de ecuaciones lineales \n",
    "\n",
    "### Parámetros\n",
    "- ``` a ``` : matriz de los coeficientes\n",
    "- ``` b ``` : matriz de los términos independientes\n",
    "- ``` x0 ``` : matriz columna que representa los valores estimados de solución (se puede utilizar la matriz trivial)\n",
    "- ``` alpha ``` : define el factor de convergencia del sistema\n",
    "- ``` tol ``` : cota para el error absoluto "
   ]
  },
  {
   "cell_type": "code",
   "execution_count": 20,
   "metadata": {},
   "outputs": [],
   "source": [
    "def jacobi(a, b, x0, alpha, tol):\n",
    "    xv = copy(x0)\n",
    "    xa = zeros(b.shape[0] )\n",
    "    condition = True\n",
    "    iter = 0\n",
    "\n",
    "    while condition:\n",
    "        error = 0\n",
    "        \n",
    "        for i in range(a.shape[0] ):\n",
    "            xa[i] = b[i]\n",
    "            \n",
    "            for j in range(a.shape[1] ):\n",
    "                if j != i:\n",
    "                    xa[i] -= a[i][j] * xv[j]\n",
    "            \n",
    "            xa[i] /= a[i][i]\n",
    "            \n",
    "            if abs(xa[i] - xv[i] ) > error:\n",
    "                error = abs(xa[i] - xv[i] )\n",
    "        \n",
    "        error *= abs(alpha / (1 - alpha) ) \n",
    "\n",
    "        print(str(iter) + '\\t ', end = '')\n",
    "        \n",
    "        for i in range(len(xv) ):\n",
    "            print(\"{:.5f}\\t \".format(xv[i] ), end = '')\n",
    "        \n",
    "        print('{:.5f}'.format(error) )\n",
    "\n",
    "        xv = copy(xa)\n",
    "        iter += 1\n",
    "        condition = error > tol"
   ]
  },
  {
   "cell_type": "markdown",
   "metadata": {},
   "source": [
    "### Verificar que A tenga diagonal predominante\n",
    "``` diag_pred(a): ``` Determina si la matriz A de los coeficientes tiene diagonal predominante, codición suficiente para asegurar la convergencia del método\n",
    "\n",
    "#### Parámetros\n",
    "``` a ``` : matriz A de los coeficientes"
   ]
  },
  {
   "cell_type": "code",
   "execution_count": 21,
   "metadata": {},
   "outputs": [],
   "source": [
    "def diag_pred(a):\n",
    "    result = [abs(a[i][j] / a[i][i] )  for i in range(len(a) ) for j in range(len(a[i, ] ) ) if j != i]\n",
    "\n",
    "    if all(array(result) < 1):\n",
    "        print(\"El sistema es diagonal predominante. La convergencia del método está asegurada\")\n",
    "    else:\n",
    "        print(\"El sistema NO es diagonal predominante. NO se asegura la convergencia del método\")"
   ]
  },
  {
   "cell_type": "markdown",
   "metadata": {},
   "source": [
    "### Hallar factor de convergencia\n",
    "``` factor_converg(m): ``` Halla el factor de convergencia del método de Jacobi\n",
    "\n",
    "#### Parámetros\n",
    "``` m ``` : matriz M"
   ]
  },
  {
   "cell_type": "code",
   "execution_count": 22,
   "metadata": {},
   "outputs": [],
   "source": [
    "def factor_converg(m):\n",
    "    result = [__builtin__.sum(abs(m[:, i] ) for i in range (len(m) ) ) ]\n",
    "    alpha = max(result[0] )\n",
    "\n",
    "    print(f\"El factor de convergencia del sistema es {alpha}\")\n",
    "\n",
    "    if alpha > 1:\n",
    "        print(\"El factor de convergencia del sistema es mayor que 1. NO se asegura la convergencia del método\")\n",
    "\n",
    "    return alpha"
   ]
  },
  {
   "cell_type": "markdown",
   "metadata": {},
   "source": [
    "## Inserción de datos"
   ]
  },
  {
   "cell_type": "code",
   "execution_count": 23,
   "metadata": {},
   "outputs": [
    {
     "name": "stdout",
     "output_type": "stream",
     "text": [
      "El sistema es diagonal predominante. La convergencia del método está asegurada\n",
      "El factor de convergencia del sistema es 0.2\n"
     ]
    }
   ],
   "source": [
    "a = array( [ [10, 1, 0],\n",
    "             [1, 10, 1],\n",
    "             [0, 1, 10] ] )\n",
    "b = array( [11, 12, 11] )\n",
    "m = array( [ [0, -0.1, 0],\n",
    "             [-0.1, 0, 0.1],\n",
    "             [0, -0.1, 0] ] )\n",
    "x0 = ( [0, 0, 0] )\n",
    "tol = 0.005 \n",
    "\n",
    "diag_pred(a)\n",
    "alpha = factor_converg(m)"
   ]
  },
  {
   "cell_type": "markdown",
   "metadata": {},
   "source": [
    "## Salida de datos"
   ]
  },
  {
   "cell_type": "code",
   "execution_count": 24,
   "metadata": {},
   "outputs": [
    {
     "name": "stdout",
     "output_type": "stream",
     "text": [
      "iter \t x1     \t x2     \t x3     \t error  \n",
      "----------------------------------------------------------------------\n",
      "0\t 0.00000\t 0.00000\t 0.00000\t 0.30000\n",
      "1\t 1.10000\t 1.20000\t 1.10000\t 0.05500\n",
      "2\t 0.98000\t 0.98000\t 0.98000\t 0.00600\n",
      "3\t 1.00200\t 1.00400\t 1.00200\t 0.00110\n"
     ]
    }
   ],
   "source": [
    "print(\"{:<5}\\t {:<7}\\t {:<7}\\t {:<7}\\t {:<7}\".format(\"iter\", \"x1\", \"x2\", \"x3\", \"error\") )\n",
    "print('-' * 70)\n",
    "\n",
    "root = jacobi(a, b, x0, alpha, tol)"
   ]
  }
 ],
 "metadata": {
  "interpreter": {
   "hash": "50a1c7f7f999c358e0b5259763df47a04f976b7989cc44fe344baf2ec3d120ee"
  },
  "kernelspec": {
   "display_name": "Python 3.8.5 64-bit",
   "language": "python",
   "name": "python3"
  },
  "language_info": {
   "codemirror_mode": {
    "name": "ipython",
    "version": 3
   },
   "file_extension": ".py",
   "mimetype": "text/x-python",
   "name": "python",
   "nbconvert_exporter": "python",
   "pygments_lexer": "ipython3",
   "version": "3.8.5"
  },
  "orig_nbformat": 4
 },
 "nbformat": 4,
 "nbformat_minor": 2
}
