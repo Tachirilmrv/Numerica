{
 "cells": [
  {
   "cell_type": "code",
   "execution_count": 1,
   "metadata": {},
   "outputs": [],
   "source": [
    "from numpy import *"
   ]
  },
  {
   "cell_type": "markdown",
   "metadata": {},
   "source": [
    "# Algoritmo de Jacobi\n",
    "\n",
    "Algoritmo utilizado para hallar solución a sistemas lineales de orden $n$ en la forma $Ax = b$ con error menor que $\\varepsilon$ \n",
    "\n",
    "Hipótesis:\n",
    "- Se supone que la matriz $A$ posee diagonal predominante"
   ]
  },
  {
   "cell_type": "markdown",
   "metadata": {},
   "source": [
    "### Implementación"
   ]
  },
  {
   "cell_type": "markdown",
   "metadata": {},
   "source": [
    "``` Jacobi(a, b, x0, f_convergencia, tol): ``` Implementación del algoritmo de Jacobi para hallar solución a sistemas de ecuaciones lineales \n",
    "\n",
    "##### Parámetros\n",
    "\n",
    "- ``` a ``` : matriz de los coeficientes\n",
    "- ``` b ``` : matriz de los términos independientes\n",
    "- ``` x0 ``` : matriz columna que representa los valores estimados de solucio (se puede utilizar la matriz trivial)\n",
    "- ``` f_convergencia ``` : define el factor de convergencia de la matriz A\n",
    "- ``` tol ``` : Cota para el error absoluto "
   ]
  },
  {
   "cell_type": "code",
   "execution_count": 2,
   "metadata": {},
   "outputs": [],
   "source": [
    "def jacobi(a, b, x0, f_convergencia, tol):\n",
    "\n",
    "    xv = copy(x0)\n",
    "    xa = zeros(b.shape[0])\n",
    "    condition = True\n",
    "    step = 1\n",
    "\n",
    "    while condition:\n",
    "        error = 0\n",
    "        for i in range(a.shape[0]):\n",
    "            xa[i] = b[i]\n",
    "            for j in range(a.shape[1]):\n",
    "                if j != i:\n",
    "                    xa[i] -= a[i][j] * xv[j]\n",
    "            xa[i] /= a[i][i]\n",
    "            if abs(xa[i] - xv[i]) > error:\n",
    "                error = abs(xa[i] - xv[i])\n",
    "        error *= abs(f_convergencia / (1 - f_convergencia)) \n",
    "\n",
    "        print(str(step) + '\\t ', end = '')\n",
    "        for i in range(len(xv)):\n",
    "            print(\"{:.5f}\\t \".format(xv[i]), end = '')\n",
    "        print('{:.5f}'.format(error))\n",
    "\n",
    "        xv = copy(xa)\n",
    "        step += 1\n",
    "\n",
    "        condition = error > tol\n"
   ]
  },
  {
   "cell_type": "markdown",
   "metadata": {},
   "source": [
    "#### Hallar factor de convergencia\n",
    "\n",
    "``` hallar_factor_convergencia(a): ``` Halla el factor de convergencia de la matriz a\n",
    "\n",
    "##### Parámetros\n",
    "``` a ``` : matriz de los coeficientes"
   ]
  },
  {
   "cell_type": "code",
   "execution_count": 3,
   "metadata": {},
   "outputs": [],
   "source": [
    "def hallar_factor_convergencia(a):\n",
    "    \n",
    "    a = absolute(a)\n",
    "    result = []\n",
    "\n",
    "    for i in range(len(a)):\n",
    "        total_fila = sum(a[i])\n",
    "\n",
    "        if total_fila - a[i][i] < 0:\n",
    "            raise Exception(\"El factor de convergencia de la matriz es mayor que 0\")\n",
    "\n",
    "        result.append((total_fila - a[i][i]) / a[i][i])\n",
    "    \n",
    "    return max(result)"
   ]
  },
  {
   "cell_type": "markdown",
   "metadata": {},
   "source": [
    "### Inserción de datos"
   ]
  },
  {
   "cell_type": "code",
   "execution_count": 4,
   "metadata": {},
   "outputs": [],
   "source": [
    "a = array([[7, 3, 1],\n",
    "          [2, -6, 3],\n",
    "          [-1, 2, 5]])\n",
    "     \n",
    "b = array([14,19,11])     \n",
    "\n",
    "x0 = ([10,10,10])\n",
    "\n",
    "f_convergencia = hallar_factor_convergencia(a)\n",
    "\n",
    "tol = 0.0001 "
   ]
  },
  {
   "cell_type": "markdown",
   "metadata": {},
   "source": [
    "### Salida de datos"
   ]
  },
  {
   "cell_type": "code",
   "execution_count": 5,
   "metadata": {},
   "outputs": [
    {
     "name": "stdout",
     "output_type": "stream",
     "text": [
      "iter   \t x1     \t x2     \t x3     \t error  \n",
      "----------------------------------------------------------------------\n",
      "1\t 10.00000\t 10.00000\t 10.00000\t 68.57143\n",
      "2\t -3.71429\t 5.16667\t 0.20000\t 47.35714\n",
      "3\t -0.24286\t -4.30476\t -0.60952\t 22.41429\n",
      "4\t 3.93197\t -3.55238\t 3.87333\t 18.16519\n",
      "5\t 2.96912\t 0.08066\t 4.40735\t 8.22893\n",
      "6\t 1.33581\t 0.02671\t 2.76156\t 6.83664\n",
      "7\t 1.59404\t -1.34062\t 2.45648\t 3.14791\n",
      "8\t 2.22362\t -1.40708\t 3.05506\t 2.54575\n",
      "9\t 2.16660\t -0.89793\t 3.20756\t 1.19996\n",
      "10\t 1.92661\t -0.84069\t 2.99249\t 0.93765\n",
      "11\t 1.93280\t -1.02822\t 2.92160\t 0.45249\n",
      "12\t 2.02329\t -1.06160\t 2.99785\t 0.34146\n",
      "13\t 2.02671\t -0.99331\t 3.02930\t 0.16880\n",
      "14\t 1.99295\t -0.97645\t 3.00267\t 0.12285\n",
      "15\t 1.98952\t -1.00102\t 2.98917\t 0.06229\n",
      "16\t 2.00198\t -1.00891\t 2.99831\t 0.04362\n",
      "17\t 2.00406\t -1.00018\t 3.00396\t 0.02273\n",
      "18\t 1.99951\t -0.99667\t 3.00088\t 0.01526\n",
      "19\t 1.99845\t -0.99972\t 2.99857\t 0.00820\n",
      "20\t 2.00008\t -1.00123\t 2.99958\t 0.00525\n",
      "21\t 2.00059\t -1.00018\t 3.00051\t 0.00317\n",
      "22\t 2.00001\t -0.99955\t 3.00019\t 0.00185\n",
      "23\t 1.99978\t -0.99990\t 2.99982\t 0.00130\n",
      "24\t 1.99998\t -1.00016\t 2.99992\t 0.00073\n",
      "25\t 2.00008\t -1.00005\t 3.00006\t 0.00053\n",
      "26\t 2.00001\t -0.99994\t 3.00004\t 0.00028\n",
      "27\t 1.99997\t -0.99998\t 2.99998\t 0.00021\n",
      "28\t 1.99999\t -1.00002\t 2.99999\t 0.00011\n",
      "29\t 2.00001\t -1.00001\t 3.00001\t 0.00008\n"
     ]
    }
   ],
   "source": [
    "print (\"{:<7}\\t {:<7}\\t {:<7}\\t {:<7}\\t {:<7}\".format(\"iter\", \"x1\", \"x2\", \"x3\", \"error\"))\n",
    "print ('-' * 70)\n",
    "\n",
    "#CUANDO DEBUGUEO EL ARRAY DE LOS TERMINOS INDEPENDIENTES TOMA VALORES [-0.12448979591836735, 0.0248299319727891, 0.07482993197278912]\n",
    "#CUANDO CORRE EL PROGRAMA ME MUESTRA EL VALOR CORRECTO PERO TOMA LOS VALORES DEL DEBUGUEO Y POR TANTO NO DA LOS VALORES CORRECTOS DEL METODO\n",
    "\n",
    "root = jacobi(a,b,x0,f_convergencia,tol)"
   ]
  }
 ],
 "metadata": {
  "interpreter": {
   "hash": "50a1c7f7f999c358e0b5259763df47a04f976b7989cc44fe344baf2ec3d120ee"
  },
  "kernelspec": {
   "display_name": "Python 3.8.5 64-bit",
   "language": "python",
   "name": "python3"
  },
  "language_info": {
   "codemirror_mode": {
    "name": "ipython",
    "version": 3
   },
   "file_extension": ".py",
   "mimetype": "text/x-python",
   "name": "python",
   "nbconvert_exporter": "python",
   "pygments_lexer": "ipython3",
   "version": "3.8.5"
  },
  "orig_nbformat": 4
 },
 "nbformat": 4,
 "nbformat_minor": 2
}
