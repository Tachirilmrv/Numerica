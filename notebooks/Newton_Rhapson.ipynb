{
 "cells": [
  {
   "cell_type": "code",
   "execution_count": 2,
   "metadata": {},
   "outputs": [],
   "source": [
    "import sympy as sp"
   ]
  },
  {
   "cell_type": "markdown",
   "metadata": {},
   "source": [
    "# Método de Newton-Rhapson\n",
    "\n",
    "Método iterativo de puntos, halla la raíz de la función en el entorno de un valor determinado\n",
    "\n",
    "Hipótesis:\n",
    "- En $[a ,b]$ la ecuación posee una raíz\n",
    "- f(x) es continua en $[a, b]$\n",
    "- $f(a) * f(b) < 0$"
   ]
  },
  {
   "cell_type": "markdown",
   "metadata": {},
   "source": [
    "### Métodos y declaraciones auxiliares [NO TOCAR]"
   ]
  },
  {
   "cell_type": "code",
   "execution_count": 3,
   "metadata": {},
   "outputs": [],
   "source": [
    "# Declaración de x como variable de las funciones \n",
    "x = sp.Symbol ('x')"
   ]
  },
  {
   "cell_type": "markdown",
   "metadata": {},
   "source": [
    "``` declare_function(equation): ``` prepara la función para ser utilizada por el método utilizando la biblioteca sympy"
   ]
  },
  {
   "cell_type": "code",
   "execution_count": 4,
   "metadata": {},
   "outputs": [],
   "source": [
    "def declare_function(equation):\n",
    "    return sp.sympify(equation)"
   ]
  },
  {
   "cell_type": "markdown",
   "metadata": {},
   "source": [
    "### Implementación"
   ]
  },
  {
   "cell_type": "markdown",
   "metadata": {},
   "source": [
    "``` newton_rhapson(f, x_0, es): ``` Implementación del método newton_rhapson para aproximar raíces\n",
    "\n",
    "##### Parámetros\n",
    "\n",
    "- ``` f ``` : define la función a evaluar\n",
    "- ``` x_0 ``` : define el punto de partida del método\n",
    "- ``` es ``` : define la tolerancia estimada"
   ]
  },
  {
   "cell_type": "code",
   "execution_count": 5,
   "metadata": {},
   "outputs": [],
   "source": [
    "def newton_rhapson(equation,x_0,es):\n",
    "\n",
    "    equation = declare_function (equation)\n",
    "    derivate = sp.diff (equation)\n",
    "    f_NR=x-(equation/derivate)#formula de Newton Rhapson\n",
    "    ea=100 #error aproximado 100%\n",
    "    x_r=float(x_0)\n",
    "\n",
    "    while ea>es:\n",
    "        x_anterior=x_r\n",
    "        x_r=f_NR.subs(x,x_anterior)\n",
    "        if x_r !=0:\n",
    "            ea=abs((x_r-x_anterior)/x_r)*100\n",
    "            \n",
    "    return x_r"
   ]
  },
  {
   "cell_type": "markdown",
   "metadata": {},
   "source": [
    "### Inserción de datos"
   ]
  },
  {
   "cell_type": "code",
   "execution_count": 6,
   "metadata": {},
   "outputs": [
    {
     "name": "stdout",
     "output_type": "stream",
     "text": [
      "Raíz hallada con método de bisección: -2.23809523809524\n",
      "Tolerancia estimada aplicada: 10\n"
     ]
    }
   ],
   "source": [
    "func = 'x**2 - 5'\n",
    "x_0 = -3\n",
    "es = 10 \n",
    "\n",
    "f = declare_function (func)\n",
    "root = newton_rhapson (f,x_0,es)\n",
    "\n",
    "print ('Raíz hallada con método de bisección: {}'.format(root))\n",
    "print ('Tolerancia estimada aplicada: {}'.format(es))"
   ]
  }
 ],
 "metadata": {
  "interpreter": {
   "hash": "50a1c7f7f999c358e0b5259763df47a04f976b7989cc44fe344baf2ec3d120ee"
  },
  "kernelspec": {
   "display_name": "Python 3.8.5 64-bit",
   "language": "python",
   "name": "python3"
  },
  "language_info": {
   "codemirror_mode": {
    "name": "ipython",
    "version": 3
   },
   "file_extension": ".py",
   "mimetype": "text/x-python",
   "name": "python",
   "nbconvert_exporter": "python",
   "pygments_lexer": "ipython3",
   "version": "3.8.5"
  },
  "orig_nbformat": 4
 },
 "nbformat": 4,
 "nbformat_minor": 2
}
