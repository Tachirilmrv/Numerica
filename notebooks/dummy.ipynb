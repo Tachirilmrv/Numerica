{
 "cells": [
  {
   "cell_type": "markdown",
   "id": "89569b50",
   "metadata": {
    "slideshow": {
     "slide_type": "slide"
    }
   },
   "source": [
    "Hello bitches. I'll print some shit."
   ]
  },
  {
   "cell_type": "code",
   "execution_count": 2,
   "id": "a416dd81",
   "metadata": {
    "slideshow": {
     "slide_type": "subslide"
    }
   },
   "outputs": [
    {
     "name": "stdout",
     "output_type": "stream",
     "text": [
      "Hello bitches\n"
     ]
    }
   ],
   "source": [
    "print (\"Hello bitches\")"
   ]
  },
  {
   "cell_type": "code",
   "execution_count": 5,
   "id": "2d249500",
   "metadata": {},
   "outputs": [
    {
     "name": "stdout",
     "output_type": "stream",
     "text": [
      "CUJAE es una universidad toh tizah en Cuba\n",
      "CUJAE es una universidad toh tizah en Cuba\n"
     ]
    }
   ],
   "source": [
    "name = \"CUJAE\"\n",
    "country = \"Cuba\"\n",
    "\n",
    "print (\"%s es una universidad toh tizah en %s\" %(name, country) )\n",
    "print (\"{} es una universidad toh tizah en {}\".format (name, country) )"
   ]
  },
  {
   "cell_type": "code",
   "execution_count": 5,
   "id": "36379ca0",
   "metadata": {},
   "outputs": [
    {
     "data": {
      "text/plain": [
       "True"
      ]
     },
     "execution_count": 5,
     "metadata": {},
     "output_type": "execute_result"
    }
   ],
   "source": [
    "round (4.9 - 4.845, 5) == round (0.055, 5)"
   ]
  },
  {
   "cell_type": "code",
   "execution_count": null,
   "id": "faf1fbba",
   "metadata": {},
   "outputs": [],
   "source": []
  }
 ],
 "metadata": {
  "celltoolbar": "Raw Cell Format",
  "kernelspec": {
   "display_name": "Python 3 (ipykernel)",
   "language": "python",
   "name": "python3"
  },
  "language_info": {
   "codemirror_mode": {
    "name": "ipython",
    "version": 3
   },
   "file_extension": ".py",
   "mimetype": "text/x-python",
   "name": "python",
   "nbconvert_exporter": "python",
   "pygments_lexer": "ipython3",
   "version": "3.8.5"
  }
 },
 "nbformat": 4,
 "nbformat_minor": 5
}
