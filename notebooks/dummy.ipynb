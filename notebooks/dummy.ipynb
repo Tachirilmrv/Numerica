{
 "cells": [
  {
   "cell_type": "code",
   "execution_count": 35,
   "id": "8eaf9064",
   "metadata": {},
   "outputs": [],
   "source": [
    "import numpy as np"
   ]
  },
  {
   "cell_type": "code",
   "execution_count": 36,
   "id": "280ccfa7",
   "metadata": {},
   "outputs": [],
   "source": [
    "a = np.array( [ [7, 3, 1],\n",
    "             [2, -6, 3],\n",
    "             [-1, 2, 5] ] )\n",
    "\n",
    "m = np.array( [ [0, 0.1, -0.2],\n",
    "                [0.2, 0, 0.2],\n",
    "                [-0.25, 0.125, 0] ] ) "
   ]
  },
  {
   "cell_type": "code",
   "execution_count": 37,
   "id": "024651bb",
   "metadata": {},
   "outputs": [],
   "source": [
    "def factor_converg(a):\n",
    "    a = np.absolute(a)\n",
    "    result = []\n",
    "\n",
    "    for i in range(len(a) ):\n",
    "        total_fila = sum(a[i] )\n",
    "\n",
    "        if total_fila - a[i][i] < 0:\n",
    "            raise Exception(\"El factor de convergencia de la matriz es mayor que 0\")\n",
    "\n",
    "        result.append( (total_fila - a[i][i]) / a[i][i] )\n",
    "    \n",
    "    return max(result)"
   ]
  },
  {
   "cell_type": "code",
   "execution_count": 38,
   "id": "88ba2dfa",
   "metadata": {},
   "outputs": [],
   "source": [
    "def io(m):\n",
    "    result = [sum(abs(m[i, ] ) for i in range (len(m) ) ) ]\n",
    "\n",
    "    print(result[0] )\n",
    "\n",
    "    return max(result[0] )  "
   ]
  },
  {
   "cell_type": "code",
   "execution_count": 39,
   "id": "f84635e5",
   "metadata": {},
   "outputs": [
    {
     "name": "stdout",
     "output_type": "stream",
     "text": [
      "[0.45  0.225 0.4  ]\n",
      "0.45\n"
     ]
    }
   ],
   "source": [
    "#print(factor_converg(m) )\n",
    "print(io(m) )"
   ]
  }
 ],
 "metadata": {
  "celltoolbar": "Raw Cell Format",
  "kernelspec": {
   "display_name": "Python 3 (ipykernel)",
   "language": "python",
   "name": "python3"
  },
  "language_info": {
   "codemirror_mode": {
    "name": "ipython",
    "version": 3
   },
   "file_extension": ".py",
   "mimetype": "text/x-python",
   "name": "python",
   "nbconvert_exporter": "python",
   "pygments_lexer": "ipython3",
   "version": "3.8.5"
  }
 },
 "nbformat": 4,
 "nbformat_minor": 5
}
