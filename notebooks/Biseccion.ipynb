{
 "cells": [
  {
   "cell_type": "code",
   "execution_count": 56,
   "metadata": {},
   "outputs": [],
   "source": [
    "import sympy as sp"
   ]
  },
  {
   "cell_type": "markdown",
   "metadata": {},
   "source": [
    "# Método de Bisección\n",
    "\n",
    "Hipótesis:\n",
    "- En $[a ,b]$ la ecuación posee una raíz\n",
    "- f(x) es continua en $[a, b]$\n",
    "- $f(a) * f(b) < 0$"
   ]
  },
  {
   "cell_type": "markdown",
   "metadata": {},
   "source": [
    "### Métodos y declaraciones auxiliares [NO TOCAR]"
   ]
  },
  {
   "cell_type": "code",
   "execution_count": 57,
   "metadata": {},
   "outputs": [],
   "source": [
    "# Declaración de x como variable de las funciones \n",
    "x = sp.Symbol ('x')"
   ]
  },
  {
   "cell_type": "markdown",
   "metadata": {},
   "source": [
    "``` declare_function(equation): ``` prepara la función para ser utilizada por el método utilizando la biblioteca sympy"
   ]
  },
  {
   "cell_type": "code",
   "execution_count": 58,
   "metadata": {},
   "outputs": [],
   "source": [
    "def declare_function(equation):\n",
    "    return sp.sympify(equation)"
   ]
  },
  {
   "cell_type": "markdown",
   "metadata": {},
   "source": [
    "### Implementación"
   ]
  },
  {
   "cell_type": "markdown",
   "metadata": {},
   "source": [
    "``` biseccion(f, a, b, tol): ``` Implementación del método de biseción para aproximar raíces\n",
    "\n",
    "##### Parámetros\n",
    "\n",
    "- ``` f ``` : define la función a evaluar\n",
    "- ``` a ``` : define el extremo inferior del intervalo\n",
    "- ``` b ``` : define el extremo superior del intervalo\n",
    "- ``` tol(opcional) ``` : Cota para el error absoluto (por defecto $1.0 * 10^{-6}$) "
   ]
  },
  {
   "cell_type": "code",
   "execution_count": 59,
   "metadata": {},
   "outputs": [],
   "source": [
    "def biseccion (f, a, b, tol = 1.0e-6):\n",
    "\n",
    "    if a > b:\n",
    "        raise ValueError (\"Intervalo mal definido\")\n",
    "    if f.subs (x, a) * f.subs (x, b) >= 0.0:\n",
    "        raise ValueError (\"La función debe cambiar de signo en el intervalo\")\n",
    "    if tol <= 0:\n",
    "        raise ValueError (\"La cota de error debe ser un número positivo\")\n",
    "\n",
    "    half = (a + b) / 2.0\n",
    "\n",
    "    while True:\n",
    "        if b - a < tol:\n",
    "            return half\n",
    "        elif f.subs (x, a) * f.subs (x, half) > 0:\n",
    "            a = half\n",
    "        else:\n",
    "            b = half\n",
    "        half = (a + b) / 2.0"
   ]
  },
  {
   "cell_type": "markdown",
   "metadata": {},
   "source": [
    "### Inserción de datos"
   ]
  },
  {
   "cell_type": "code",
   "execution_count": 60,
   "metadata": {},
   "outputs": [
    {
     "name": "stdout",
     "output_type": "stream",
     "text": [
      "4\n",
      "-5\n",
      "Raíz hallada con método de bisección: -2.2360678911209106\n",
      "Tolerancia aplicada: 0.005\n"
     ]
    }
   ],
   "source": [
    "func = 'x**2 - 5'\n",
    "a = -3\n",
    "b = 0\n",
    "tol = 0.005 \n",
    "\n",
    "f = declare_function(func)\n",
    "root = biseccion(f,a,b)\n",
    "\n",
    "print (f.subs (x, a))\n",
    "print (f.subs (x, b))\n",
    "\n",
    "print ('Raíz hallada con método de bisección: {}'.format(root))\n",
    "print ('Tolerancia aplicada: {}'.format(tol))"
   ]
  }
 ],
 "metadata": {
  "interpreter": {
   "hash": "50a1c7f7f999c358e0b5259763df47a04f976b7989cc44fe344baf2ec3d120ee"
  },
  "kernelspec": {
   "display_name": "Python 3.8.5 64-bit",
   "language": "python",
   "name": "python3"
  },
  "language_info": {
   "codemirror_mode": {
    "name": "ipython",
    "version": 3
   },
   "file_extension": ".py",
   "mimetype": "text/x-python",
   "name": "python",
   "nbconvert_exporter": "python",
   "pygments_lexer": "ipython3",
   "version": "3.8.5"
  },
  "orig_nbformat": 4
 },
 "nbformat": 4,
 "nbformat_minor": 2
}
