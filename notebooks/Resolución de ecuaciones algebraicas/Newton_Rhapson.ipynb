{
 "cells": [
  {
   "cell_type": "code",
   "execution_count": 8,
   "metadata": {},
   "outputs": [],
   "source": [
    "import sympy as sp\n",
    "from utils import *\n",
    "\n",
    "# Declaración de x como variable de las funciones \n",
    "x = sp.Symbol ('x')"
   ]
  },
  {
   "cell_type": "markdown",
   "metadata": {},
   "source": [
    "# Método de Newton-Rhapson\n",
    "\n",
    "Método iterativo de puntos, halla la raíz de la función en el entorno de un valor determinado\n",
    "\n",
    "Hipótesis:\n",
    "- En $[a ,b]$ la ecuación posee una raíz\n",
    "- f(x) es continua en $[a, b]$\n",
    "- $f(a) * f(b) < 0$\n",
    "- Es derivable en $[a, b]$ y $f'(x)$ no cambia de signo en [a, b]"
   ]
  },
  {
   "cell_type": "markdown",
   "metadata": {},
   "source": [
    "### Implementación"
   ]
  },
  {
   "cell_type": "markdown",
   "metadata": {},
   "source": [
    "``` newton_rhapson(f, x_0, es): ``` Implementación del método newton_rhapson para aproximar raíces\n",
    "\n",
    "##### Parámetros\n",
    "\n",
    "- ``` f ``` : define la función a evaluar\n",
    "- ``` x_0 ``` : define el punto de partida del método\n",
    "- ``` es ``` : define la tolerancia estimada"
   ]
  },
  {
   "cell_type": "code",
   "execution_count": 9,
   "metadata": {},
   "outputs": [],
   "source": [
    "def newton_rhapson(equation,x_0,es):\n",
    "\n",
    "    derivate = sp.diff(equation)\n",
    "    f_NR=x-(equation/derivate) #formula de Newton Rhapson\n",
    "    x_anterior = float(x_0)\n",
    "    condition = True\n",
    "\n",
    "    while condition:\n",
    "        x_r=f_NR.subs(x,x_anterior)\n",
    "        error = abs(x_r - x_anterior)\n",
    "\n",
    "        print(\"{:<7}\\t {:<7}\\t {:<7}\".format(N(x_anterior, 5), N(x_r,5), N(error,5)))\n",
    "        \n",
    "        x_anterior=x_r\n",
    "\n",
    "        condition = error > es\n",
    "\n",
    "            \n",
    "    return x_r"
   ]
  },
  {
   "cell_type": "markdown",
   "metadata": {},
   "source": [
    "### Inserción de datos"
   ]
  },
  {
   "cell_type": "code",
   "execution_count": 10,
   "metadata": {},
   "outputs": [],
   "source": [
    "func = '2*e**(-2*x) * cos(3*x) -1'\n",
    "x_0 = 0\n",
    "es = 0.2 "
   ]
  },
  {
   "cell_type": "code",
   "execution_count": 11,
   "metadata": {},
   "outputs": [
    {
     "name": "stdout",
     "output_type": "stream",
     "text": [
      "n      \t tn     \t error  \n",
      "--------------------------------------------------\n"
     ]
    },
    {
     "ename": "ValueError",
     "evalue": "\nSince there is more than one variable in the expression, the\nvariable(s) of differentiation must be supplied to differentiate -1 +\n2*cos(3*x)/e**(2*x)",
     "output_type": "error",
     "traceback": [
      "\u001b[1;31m---------------------------------------------------------------------------\u001b[0m",
      "\u001b[1;31mValueError\u001b[0m                                Traceback (most recent call last)",
      "\u001b[1;32md:\\Programacion\\Numerica\\Numerica\\notebooks\\Resolución de ecuaciones algebraicas\\Newton_Rhapson.ipynb Cell 8'\u001b[0m in \u001b[0;36m<module>\u001b[1;34m\u001b[0m\n\u001b[0;32m      <a href='vscode-notebook-cell:/d%3A/Programacion/Numerica/Numerica/notebooks/Resoluci%C3%B3n%20de%20ecuaciones%20algebraicas/Newton_Rhapson.ipynb#ch0000007?line=1'>2</a>\u001b[0m \u001b[39mprint\u001b[39m(\u001b[39m'\u001b[39m\u001b[39m-\u001b[39m\u001b[39m'\u001b[39m \u001b[39m*\u001b[39m \u001b[39m50\u001b[39m)\n\u001b[0;32m      <a href='vscode-notebook-cell:/d%3A/Programacion/Numerica/Numerica/notebooks/Resoluci%C3%B3n%20de%20ecuaciones%20algebraicas/Newton_Rhapson.ipynb#ch0000007?line=3'>4</a>\u001b[0m f \u001b[39m=\u001b[39m declare_function(func)\n\u001b[1;32m----> <a href='vscode-notebook-cell:/d%3A/Programacion/Numerica/Numerica/notebooks/Resoluci%C3%B3n%20de%20ecuaciones%20algebraicas/Newton_Rhapson.ipynb#ch0000007?line=4'>5</a>\u001b[0m root \u001b[39m=\u001b[39m newton_rhapson(f,x_0,es)\n\u001b[0;32m      <a href='vscode-notebook-cell:/d%3A/Programacion/Numerica/Numerica/notebooks/Resoluci%C3%B3n%20de%20ecuaciones%20algebraicas/Newton_Rhapson.ipynb#ch0000007?line=6'>7</a>\u001b[0m \u001b[39mprint\u001b[39m(\u001b[39m'\u001b[39m\u001b[39mRaíz hallada con método de Newton-Rhapson: \u001b[39m\u001b[39m{}\u001b[39;00m\u001b[39m'\u001b[39m\u001b[39m.\u001b[39mformat(root))\n\u001b[0;32m      <a href='vscode-notebook-cell:/d%3A/Programacion/Numerica/Numerica/notebooks/Resoluci%C3%B3n%20de%20ecuaciones%20algebraicas/Newton_Rhapson.ipynb#ch0000007?line=7'>8</a>\u001b[0m \u001b[39mprint\u001b[39m(\u001b[39m'\u001b[39m\u001b[39mTolerancia estimada aplicada: \u001b[39m\u001b[39m{}\u001b[39;00m\u001b[39m'\u001b[39m\u001b[39m.\u001b[39mformat(es))\n",
      "\u001b[1;32md:\\Programacion\\Numerica\\Numerica\\notebooks\\Resolución de ecuaciones algebraicas\\Newton_Rhapson.ipynb Cell 5'\u001b[0m in \u001b[0;36mnewton_rhapson\u001b[1;34m(equation, x_0, es)\u001b[0m\n\u001b[0;32m      <a href='vscode-notebook-cell:/d%3A/Programacion/Numerica/Numerica/notebooks/Resoluci%C3%B3n%20de%20ecuaciones%20algebraicas/Newton_Rhapson.ipynb#ch0000004?line=0'>1</a>\u001b[0m \u001b[39mdef\u001b[39;00m \u001b[39mnewton_rhapson\u001b[39m(equation,x_0,es):\n\u001b[1;32m----> <a href='vscode-notebook-cell:/d%3A/Programacion/Numerica/Numerica/notebooks/Resoluci%C3%B3n%20de%20ecuaciones%20algebraicas/Newton_Rhapson.ipynb#ch0000004?line=2'>3</a>\u001b[0m     derivate \u001b[39m=\u001b[39m sp\u001b[39m.\u001b[39;49mdiff(equation)\n\u001b[0;32m      <a href='vscode-notebook-cell:/d%3A/Programacion/Numerica/Numerica/notebooks/Resoluci%C3%B3n%20de%20ecuaciones%20algebraicas/Newton_Rhapson.ipynb#ch0000004?line=3'>4</a>\u001b[0m     f_NR\u001b[39m=\u001b[39mx\u001b[39m-\u001b[39m(equation\u001b[39m/\u001b[39mderivate) \u001b[39m#formula de Newton Rhapson\u001b[39;00m\n\u001b[0;32m      <a href='vscode-notebook-cell:/d%3A/Programacion/Numerica/Numerica/notebooks/Resoluci%C3%B3n%20de%20ecuaciones%20algebraicas/Newton_Rhapson.ipynb#ch0000004?line=4'>5</a>\u001b[0m     x_anterior \u001b[39m=\u001b[39m \u001b[39mfloat\u001b[39m(x_0)\n",
      "File \u001b[1;32m~\\AppData\\Local\\Programs\\Python\\Python38\\lib\\site-packages\\sympy\\core\\function.py:2491\u001b[0m, in \u001b[0;36mdiff\u001b[1;34m(f, *symbols, **kwargs)\u001b[0m\n\u001b[0;32m   <a href='file:///~/AppData/Local/Programs/Python/Python38/lib/site-packages/sympy/core/function.py?line=2426'>2427</a>\u001b[0m \u001b[39m\"\"\"\u001b[39;00m\n\u001b[0;32m   <a href='file:///~/AppData/Local/Programs/Python/Python38/lib/site-packages/sympy/core/function.py?line=2427'>2428</a>\u001b[0m \u001b[39mDifferentiate f with respect to symbols.\u001b[39;00m\n\u001b[0;32m   <a href='file:///~/AppData/Local/Programs/Python/Python38/lib/site-packages/sympy/core/function.py?line=2428'>2429</a>\u001b[0m \n\u001b[1;32m   (...)\u001b[0m\n\u001b[0;32m   <a href='file:///~/AppData/Local/Programs/Python/Python38/lib/site-packages/sympy/core/function.py?line=2487'>2488</a>\u001b[0m \n\u001b[0;32m   <a href='file:///~/AppData/Local/Programs/Python/Python38/lib/site-packages/sympy/core/function.py?line=2488'>2489</a>\u001b[0m \u001b[39m\"\"\"\u001b[39;00m\n\u001b[0;32m   <a href='file:///~/AppData/Local/Programs/Python/Python38/lib/site-packages/sympy/core/function.py?line=2489'>2490</a>\u001b[0m \u001b[39mif\u001b[39;00m \u001b[39mhasattr\u001b[39m(f, \u001b[39m'\u001b[39m\u001b[39mdiff\u001b[39m\u001b[39m'\u001b[39m):\n\u001b[1;32m-> <a href='file:///~/AppData/Local/Programs/Python/Python38/lib/site-packages/sympy/core/function.py?line=2490'>2491</a>\u001b[0m     \u001b[39mreturn\u001b[39;00m f\u001b[39m.\u001b[39;49mdiff(\u001b[39m*\u001b[39;49msymbols, \u001b[39m*\u001b[39;49m\u001b[39m*\u001b[39;49mkwargs)\n\u001b[0;32m   <a href='file:///~/AppData/Local/Programs/Python/Python38/lib/site-packages/sympy/core/function.py?line=2491'>2492</a>\u001b[0m kwargs\u001b[39m.\u001b[39msetdefault(\u001b[39m'\u001b[39m\u001b[39mevaluate\u001b[39m\u001b[39m'\u001b[39m, \u001b[39mTrue\u001b[39;00m)\n\u001b[0;32m   <a href='file:///~/AppData/Local/Programs/Python/Python38/lib/site-packages/sympy/core/function.py?line=2492'>2493</a>\u001b[0m \u001b[39mreturn\u001b[39;00m _derivative_dispatch(f, \u001b[39m*\u001b[39msymbols, \u001b[39m*\u001b[39m\u001b[39m*\u001b[39mkwargs)\n",
      "File \u001b[1;32m~\\AppData\\Local\\Programs\\Python\\Python38\\lib\\site-packages\\sympy\\core\\expr.py:3526\u001b[0m, in \u001b[0;36mExpr.diff\u001b[1;34m(self, *symbols, **assumptions)\u001b[0m\n\u001b[0;32m   <a href='file:///~/AppData/Local/Programs/Python/Python38/lib/site-packages/sympy/core/expr.py?line=3523'>3524</a>\u001b[0m \u001b[39mdef\u001b[39;00m \u001b[39mdiff\u001b[39m(\u001b[39mself\u001b[39m, \u001b[39m*\u001b[39msymbols, \u001b[39m*\u001b[39m\u001b[39m*\u001b[39massumptions):\n\u001b[0;32m   <a href='file:///~/AppData/Local/Programs/Python/Python38/lib/site-packages/sympy/core/expr.py?line=3524'>3525</a>\u001b[0m     assumptions\u001b[39m.\u001b[39msetdefault(\u001b[39m\"\u001b[39m\u001b[39mevaluate\u001b[39m\u001b[39m\"\u001b[39m, \u001b[39mTrue\u001b[39;00m)\n\u001b[1;32m-> <a href='file:///~/AppData/Local/Programs/Python/Python38/lib/site-packages/sympy/core/expr.py?line=3525'>3526</a>\u001b[0m     \u001b[39mreturn\u001b[39;00m _derivative_dispatch(\u001b[39mself\u001b[39;49m, \u001b[39m*\u001b[39;49msymbols, \u001b[39m*\u001b[39;49m\u001b[39m*\u001b[39;49massumptions)\n",
      "File \u001b[1;32m~\\AppData\\Local\\Programs\\Python\\Python38\\lib\\site-packages\\sympy\\core\\function.py:1919\u001b[0m, in \u001b[0;36m_derivative_dispatch\u001b[1;34m(expr, *variables, **kwargs)\u001b[0m\n\u001b[0;32m   <a href='file:///~/AppData/Local/Programs/Python/Python38/lib/site-packages/sympy/core/function.py?line=1916'>1917</a>\u001b[0m     \u001b[39mfrom\u001b[39;00m \u001b[39msympy\u001b[39;00m\u001b[39m.\u001b[39;00m\u001b[39mtensor\u001b[39;00m\u001b[39m.\u001b[39;00m\u001b[39marray\u001b[39;00m\u001b[39m.\u001b[39;00m\u001b[39marray_derivatives\u001b[39;00m \u001b[39mimport\u001b[39;00m ArrayDerivative\n\u001b[0;32m   <a href='file:///~/AppData/Local/Programs/Python/Python38/lib/site-packages/sympy/core/function.py?line=1917'>1918</a>\u001b[0m     \u001b[39mreturn\u001b[39;00m ArrayDerivative(expr, \u001b[39m*\u001b[39mvariables, \u001b[39m*\u001b[39m\u001b[39m*\u001b[39mkwargs)\n\u001b[1;32m-> <a href='file:///~/AppData/Local/Programs/Python/Python38/lib/site-packages/sympy/core/function.py?line=1918'>1919</a>\u001b[0m \u001b[39mreturn\u001b[39;00m Derivative(expr, \u001b[39m*\u001b[39;49mvariables, \u001b[39m*\u001b[39;49m\u001b[39m*\u001b[39;49mkwargs)\n",
      "File \u001b[1;32m~\\AppData\\Local\\Programs\\Python\\Python38\\lib\\site-packages\\sympy\\core\\function.py:1269\u001b[0m, in \u001b[0;36mDerivative.__new__\u001b[1;34m(cls, expr, *variables, **kwargs)\u001b[0m\n\u001b[0;32m   <a href='file:///~/AppData/Local/Programs/Python/Python38/lib/site-packages/sympy/core/function.py?line=1263'>1264</a>\u001b[0m             \u001b[39mraise\u001b[39;00m \u001b[39mValueError\u001b[39;00m(filldedent(\u001b[39m'''\u001b[39m\n\u001b[0;32m   <a href='file:///~/AppData/Local/Programs/Python/Python38/lib/site-packages/sympy/core/function.py?line=1264'>1265</a>\u001b[0m \u001b[39m                Since there are no variables in the expression,\u001b[39m\n\u001b[0;32m   <a href='file:///~/AppData/Local/Programs/Python/Python38/lib/site-packages/sympy/core/function.py?line=1265'>1266</a>\u001b[0m \u001b[39m                the variable(s) of differentiation must be supplied\u001b[39m\n\u001b[0;32m   <a href='file:///~/AppData/Local/Programs/Python/Python38/lib/site-packages/sympy/core/function.py?line=1266'>1267</a>\u001b[0m \u001b[39m                to differentiate \u001b[39m\u001b[39m%s\u001b[39;00m\u001b[39m'''\u001b[39m \u001b[39m%\u001b[39m expr))\n\u001b[0;32m   <a href='file:///~/AppData/Local/Programs/Python/Python38/lib/site-packages/sympy/core/function.py?line=1267'>1268</a>\u001b[0m         \u001b[39melse\u001b[39;00m:\n\u001b[1;32m-> <a href='file:///~/AppData/Local/Programs/Python/Python38/lib/site-packages/sympy/core/function.py?line=1268'>1269</a>\u001b[0m             \u001b[39mraise\u001b[39;00m \u001b[39mValueError\u001b[39;00m(filldedent(\u001b[39m'''\u001b[39m\n\u001b[0;32m   <a href='file:///~/AppData/Local/Programs/Python/Python38/lib/site-packages/sympy/core/function.py?line=1269'>1270</a>\u001b[0m \u001b[39m                Since there is more than one variable in the\u001b[39m\n\u001b[0;32m   <a href='file:///~/AppData/Local/Programs/Python/Python38/lib/site-packages/sympy/core/function.py?line=1270'>1271</a>\u001b[0m \u001b[39m                expression, the variable(s) of differentiation\u001b[39m\n\u001b[0;32m   <a href='file:///~/AppData/Local/Programs/Python/Python38/lib/site-packages/sympy/core/function.py?line=1271'>1272</a>\u001b[0m \u001b[39m                must be supplied to differentiate \u001b[39m\u001b[39m%s\u001b[39;00m\u001b[39m'''\u001b[39m \u001b[39m%\u001b[39m expr))\n\u001b[0;32m   <a href='file:///~/AppData/Local/Programs/Python/Python38/lib/site-packages/sympy/core/function.py?line=1273'>1274</a>\u001b[0m \u001b[39m# Standardize the variables by sympifying them:\u001b[39;00m\n\u001b[0;32m   <a href='file:///~/AppData/Local/Programs/Python/Python38/lib/site-packages/sympy/core/function.py?line=1274'>1275</a>\u001b[0m variables \u001b[39m=\u001b[39m \u001b[39mlist\u001b[39m(sympify(variables))\n",
      "\u001b[1;31mValueError\u001b[0m: \nSince there is more than one variable in the expression, the\nvariable(s) of differentiation must be supplied to differentiate -1 +\n2*cos(3*x)/e**(2*x)"
     ]
    }
   ],
   "source": [
    "print(\"{:<7}\\t {:<7}\\t {:<7}\".format(\"n\", \"tn\", \"error\") )\n",
    "print('-' * 50)\n",
    "\n",
    "f = declare_function(func)\n",
    "root = newton_rhapson(f,x_0,es)\n",
    "\n",
    "print('Raíz hallada con método de Newton-Rhapson: {}'.format(root))\n",
    "print('Tolerancia estimada aplicada: {}'.format(es))"
   ]
  },
  {
   "cell_type": "code",
   "execution_count": 12,
   "metadata": {},
   "outputs": [
    {
     "name": "stdout",
     "output_type": "stream",
     "text": [
      "-6*exp(-2*x)*sin(3*x) - 4*exp(-2*x)*cos(3*x)\n"
     ]
    },
    {
     "data": {
      "text/latex": [
       "$\\displaystyle - 6.0 e^{- 2 x} \\sin{\\left(3 x \\right)} - 4.0 e^{- 2 x} \\cos{\\left(3 x \\right)}$"
      ],
      "text/plain": [
       "-6.0*exp(-2*x)*sin(3*x) - 4.0*exp(-2*x)*cos(3*x)"
      ]
     },
     "execution_count": 12,
     "metadata": {},
     "output_type": "execute_result"
    }
   ],
   "source": [
    "from sympy import *\n",
    "\n",
    "x = Symbol('x')\n",
    "\n",
    "equation = sympify('x*e**2')\n",
    "\n",
    "equation = diff(equation)\n",
    "\n",
    "print(equation)\n",
    "\n",
    "equation.subs(x, 1)\n",
    "equation.evalf()"
   ]
  }
 ],
 "metadata": {
  "interpreter": {
   "hash": "50a1c7f7f999c358e0b5259763df47a04f976b7989cc44fe344baf2ec3d120ee"
  },
  "kernelspec": {
   "display_name": "Python 3.8.5 64-bit",
   "language": "python",
   "name": "python3"
  },
  "language_info": {
   "codemirror_mode": {
    "name": "ipython",
    "version": 3
   },
   "file_extension": ".py",
   "mimetype": "text/x-python",
   "name": "python",
   "nbconvert_exporter": "python",
   "pygments_lexer": "ipython3",
   "version": "3.8.5"
  },
  "orig_nbformat": 4
 },
 "nbformat": 4,
 "nbformat_minor": 2
}
