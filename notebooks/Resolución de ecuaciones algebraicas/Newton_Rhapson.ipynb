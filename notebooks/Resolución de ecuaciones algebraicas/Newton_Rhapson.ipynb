{
 "cells": [
  {
   "cell_type": "code",
   "execution_count": 1,
   "metadata": {},
   "outputs": [],
   "source": [
    "from numpy import *"
   ]
  },
  {
   "cell_type": "markdown",
   "metadata": {},
   "source": [
    "# Método de Newton-Rhapson\n",
    "\n",
    "Método iterativo de puntos, halla la raíz de la función en el entorno de un valor determinado\n",
    "\n",
    "Hipótesis:\n",
    "- En $[a ,b]$ la ecuación posee una raíz\n",
    "- f(x) es continua en $[a, b]$\n",
    "- $f(a) * f(b) < 0$\n",
    "- Es derivable en $[a, b]$ y $f'(x)$ no cambia de signo en [a, b]"
   ]
  },
  {
   "cell_type": "markdown",
   "metadata": {},
   "source": [
    "### Implementación"
   ]
  },
  {
   "cell_type": "markdown",
   "metadata": {},
   "source": [
    "``` newton_rhapson(f, x_0, es): ``` Implementación del método newton_rhapson para aproximar raíces\n",
    "\n",
    "##### Parámetros\n",
    "\n",
    "- ``` f ``` : define la función a evaluar\n",
    "- ``` x_0 ``` : define el punto de partida del método\n",
    "- ``` es ``` : define la tolerancia estimada"
   ]
  },
  {
   "cell_type": "code",
   "execution_count": 2,
   "metadata": {},
   "outputs": [],
   "source": [
    "def newton_rhapson(equation, derivate, x_0,es):\n",
    "\n",
    "    x_anterior = x_0\n",
    "    condition = True\n",
    "\n",
    "    step = 1\n",
    "    while condition:\n",
    "        x_r= x_anterior - equation(x_anterior) / derivate(x_anterior) #formula de Newton\n",
    "        error = abs(x_r - x_anterior)\n",
    "\n",
    "        print(\"{}\\t {:.5f}\\t {:.5f}\".format(step, x_r, error))\n",
    "        \n",
    "        x_anterior=x_r\n",
    "\n",
    "        condition = error > es\n",
    "\n",
    "        step += 1\n",
    "\n",
    "            \n",
    "    return x_r"
   ]
  },
  {
   "cell_type": "markdown",
   "metadata": {},
   "source": [
    "### Inserción de datos"
   ]
  },
  {
   "cell_type": "code",
   "execution_count": 3,
   "metadata": {},
   "outputs": [],
   "source": [
    "f = lambda x : log(x) - sin(x)\n",
    "f_derive = lambda x : 1/x - cos(x)\n",
    "x_0 = 9\n",
    "es = 0.01 "
   ]
  },
  {
   "cell_type": "markdown",
   "metadata": {},
   "source": [
    "### Salida de datos"
   ]
  },
  {
   "cell_type": "code",
   "execution_count": 4,
   "metadata": {},
   "outputs": [
    {
     "name": "stdout",
     "output_type": "stream",
     "text": [
      "n      \t tn     \t error  \n",
      "--------------------------------------------------\n",
      "1\t 7.25373\t 1.74627\n",
      "2\t 9.96182\t 2.70809\n",
      "3\t 7.03316\t 2.92866\n",
      "4\t 9.18579\t 2.15262\n",
      "5\t 7.35234\t 1.83345\n",
      "6\t 10.59492\t 3.24258\n",
      "7\t 3.82135\t 6.77357\n",
      "8\t 1.92682\t 1.89453\n",
      "9\t 2.25121\t 0.32439\n",
      "10\t 2.21939\t 0.03182\n",
      "11\t 2.21911\t 0.00028\n",
      "Raíz hallada con método de Newton-Rhapson: 2.2191071711046875\n",
      "Tolerancia estimada aplicada: 0.01\n"
     ]
    }
   ],
   "source": [
    "print(\"{:<7}\\t {:<7}\\t {:<7}\".format(\"n\", \"tn\", \"error\") )\n",
    "print('-' * 50)\n",
    "\n",
    "root = newton_rhapson(f, f_derive, float(x_0),es)\n",
    "\n",
    "print('Raíz hallada con método de Newton-Rhapson: {}'.format(root))\n",
    "print('Tolerancia estimada aplicada: {}'.format(es))"
   ]
  }
 ],
 "metadata": {
  "interpreter": {
   "hash": "50a1c7f7f999c358e0b5259763df47a04f976b7989cc44fe344baf2ec3d120ee"
  },
  "kernelspec": {
   "display_name": "Python 3.8.5 64-bit",
   "language": "python",
   "name": "python3"
  },
  "language_info": {
   "codemirror_mode": {
    "name": "ipython",
    "version": 3
   },
   "file_extension": ".py",
   "mimetype": "text/x-python",
   "name": "python",
   "nbconvert_exporter": "python",
   "pygments_lexer": "ipython3",
   "version": "3.8.5"
  },
  "orig_nbformat": 4
 },
 "nbformat": 4,
 "nbformat_minor": 2
}
