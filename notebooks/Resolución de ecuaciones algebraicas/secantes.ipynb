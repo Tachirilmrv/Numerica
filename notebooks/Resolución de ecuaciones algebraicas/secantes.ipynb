{
 "cells": [
  {
   "cell_type": "code",
   "execution_count": 17,
   "metadata": {},
   "outputs": [],
   "source": [
    "import sympy as sp"
   ]
  },
  {
   "cell_type": "markdown",
   "metadata": {},
   "source": [
    "# Método de Secantes\n",
    "\n",
    "Halla la raíz en un intervalo determinado con una tolerancia dada mediante el método de las secantes\n",
    "\n",
    "Hipótesis:\n",
    "- Sea r la única raíz de $f(x) = 0$ en el intervalo $[a, b]$\n",
    "- Sean $f'(x)$ y $f''(x)$ continuas y no nulas en $[a, b]$\n",
    "- Sean $x_0$ y $x_1$ elementos de $[a, b]$ tales que se cumpla:\n",
    "$$ \\lambda E(x_0) \\leq \\delta < 1 $$\n",
    "\n",
    "$$ \\lambda E(x_1) \\leq \\delta < 1 $$\n",
    "\n",
    "con\n",
    "\n",
    "$$ \\lambda = \\frac{M}{2d} $$\n",
    "\n",
    "Entonces:\n",
    "\n",
    "$$ \\lim_{n \\to \\infty}{x_n} = r$$"
   ]
  },
  {
   "cell_type": "markdown",
   "metadata": {},
   "source": [
    "### Métodos y declaraciones auxiliares [NO TOCAR]"
   ]
  },
  {
   "cell_type": "code",
   "execution_count": 18,
   "metadata": {},
   "outputs": [],
   "source": [
    "# Declaración de x como variable de las funciones \n",
    "x = sp.Symbol ('x')"
   ]
  },
  {
   "cell_type": "markdown",
   "metadata": {},
   "source": [
    "``` declare_function(equation): ``` prepara la función para ser utilizada por el método utilizando la biblioteca sympy"
   ]
  },
  {
   "cell_type": "code",
   "execution_count": 19,
   "metadata": {},
   "outputs": [],
   "source": [
    "def declare_function(equation):\n",
    "    return sp.sympify(equation)"
   ]
  },
  {
   "cell_type": "markdown",
   "metadata": {},
   "source": [
    "### Implementación"
   ]
  },
  {
   "cell_type": "markdown",
   "metadata": {},
   "source": [
    "``` secantes(f, x0, x1, e): ``` Implementación del método Secantes para aproximar raíces en un intervalo con un error determinado\n",
    "\n",
    "##### Parámetros\n",
    "\n",
    "- ``` f ``` : define la función a evaluar\n",
    "- ``` x0 ``` : define el extremo inferior del intervalo\n",
    "- ``` x1 ``` : define el extremo superior del intervalo\n",
    "- ``` e ``` : define la tolerancia del error"
   ]
  },
  {
   "cell_type": "code",
   "execution_count": 20,
   "metadata": {},
   "outputs": [],
   "source": [
    "def secantes (f, x0, x1, e):\n",
    "    \n",
    "    y0 = f.subs (x, x0)\n",
    "    y1 = f.subs (x, x1)\n",
    "    xc = x1 - ( (x1 - x0) / (y1 - y0) ) * y1\n",
    "    yc = f.subs (x, xc)\n",
    "    error = abs (xc - x1)\n",
    "\n",
    "    if error < e:\n",
    "        return xc\n",
    "\n",
    "    return secantes (f, x1, xc, e)\n"
   ]
  },
  {
   "cell_type": "markdown",
   "metadata": {},
   "source": [
    "### Inserción de datos"
   ]
  },
  {
   "cell_type": "code",
   "execution_count": 21,
   "metadata": {},
   "outputs": [
    {
     "name": "stdout",
     "output_type": "stream",
     "text": [
      "Raíz hallada con el método de secantes: 2.23608445\n",
      "Tolerancia estimada aplicada: 0.01\n"
     ]
    }
   ],
   "source": [
    "func = 'x**2 -5'\n",
    "x0 = 0\n",
    "x1 = 5\n",
    "tol = 0.01\n",
    "\n",
    "f = declare_function (func)\n",
    "root = secantes (f,x0,x1,tol)\n",
    "\n",
    "print ('Raíz hallada con el método de secantes: %0.8f' % root)\n",
    "print ('Tolerancia estimada aplicada: {}'.format(tol))"
   ]
  }
 ],
 "metadata": {
  "interpreter": {
   "hash": "50a1c7f7f999c358e0b5259763df47a04f976b7989cc44fe344baf2ec3d120ee"
  },
  "kernelspec": {
   "display_name": "Python 3.8.5 64-bit",
   "language": "python",
   "name": "python3"
  },
  "language_info": {
   "codemirror_mode": {
    "name": "ipython",
    "version": 3
   },
   "file_extension": ".py",
   "mimetype": "text/x-python",
   "name": "python",
   "nbconvert_exporter": "python",
   "pygments_lexer": "ipython3",
   "version": "3.8.5"
  },
  "orig_nbformat": 4
 },
 "nbformat": 4,
 "nbformat_minor": 2
}
