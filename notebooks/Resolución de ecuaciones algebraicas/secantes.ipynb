{
 "cells": [
  {
   "cell_type": "code",
   "execution_count": 1,
   "metadata": {},
   "outputs": [],
   "source": [
    "from numpy import *"
   ]
  },
  {
   "cell_type": "markdown",
   "metadata": {},
   "source": [
    "# Método de Secantes\n",
    "\n",
    "Halla la raíz en un intervalo determinado con una tolerancia dada mediante el método de las secantes\n",
    "\n",
    "Hipótesis:\n",
    "- Sea r la única raíz de $f(x) = 0$ en el intervalo $[a, b]$\n",
    "- Sean $f'(x)$ y $f''(x)$ continuas y no nulas en $[a, b]$\n",
    "- Sean $x_0$ y $x_1$ elementos de $[a, b]$ tales que se cumpla:\n",
    "$$ \\lambda E(x_0) \\leq \\delta < 1 $$\n",
    "\n",
    "$$ \\lambda E(x_1) \\leq \\delta < 1 $$\n",
    "\n",
    "con\n",
    "\n",
    "$$ \\lambda = \\frac{M}{2d} $$\n",
    "\n",
    "Entonces:\n",
    "\n",
    "$$ \\lim_{n \\to \\infty}{x_n} = r$$"
   ]
  },
  {
   "cell_type": "markdown",
   "metadata": {},
   "source": [
    "### Implementación"
   ]
  },
  {
   "cell_type": "markdown",
   "metadata": {},
   "source": [
    "``` secantes(f, x0, x1, e): ``` Implementación del método Secantes para aproximar raíces en un intervalo con un error determinado\n",
    "\n",
    "##### Parámetros\n",
    "\n",
    "- ``` f ``` : define la función a evaluar\n",
    "- ``` x0 ``` : define el extremo inferior del intervalo\n",
    "- ``` x1 ``` : define el extremo superior del intervalo\n",
    "- ``` e ``` : define la tolerancia del error"
   ]
  },
  {
   "cell_type": "code",
   "execution_count": 2,
   "metadata": {},
   "outputs": [],
   "source": [
    "def secantes (f, x0, x1, e):\n",
    "    \n",
    "    f_x0 = f(x0)\n",
    "    f_x1 = f(x1)\n",
    "    x_r = x1 - ( (x1 - x0) / (f_x1 - f_x0) ) * f_x1\n",
    "    error = abs (x_r - x1)\n",
    "\n",
    "    print(\"{:.5f}\\t {:.5f}\\t {:.5f}\\t {:.5f}\\t {:.5f}\\t {:.5f}\".format(x0, f_x0, x1, f_x1, x_r, error))\n",
    "\n",
    "    if error < e:\n",
    "        return x_r\n",
    "\n",
    "    return secantes (f, x1, x_r, e)\n"
   ]
  },
  {
   "cell_type": "markdown",
   "metadata": {},
   "source": [
    "### Inserción de datos"
   ]
  },
  {
   "cell_type": "code",
   "execution_count": 3,
   "metadata": {},
   "outputs": [],
   "source": [
    "f = lambda x : x**3 - 3*x**2 - 3*x - 1\n",
    "x0 = 4\n",
    "x1 = 3.5\n",
    "tol = 0.0001"
   ]
  },
  {
   "cell_type": "markdown",
   "metadata": {},
   "source": [
    "### Salida de datos"
   ]
  },
  {
   "cell_type": "code",
   "execution_count": 4,
   "metadata": {},
   "outputs": [
    {
     "name": "stdout",
     "output_type": "stream",
     "text": [
      "x0     \t f(x0)  \t x1     \t f(x1)  \t root   \t error  \n",
      "----------------------------------------------------------------------------------------------------\n",
      "4.00000\t 3.00000\t 3.50000\t -5.37500\t 3.82090\t 0.32090\n",
      "3.50000\t -5.37500\t 3.82090\t -0.47823\t 3.85224\t 0.03134\n",
      "3.82090\t -0.47823\t 3.85224\t 0.09022\t 3.84726\t 0.00497\n",
      "3.85224\t 0.09022\t 3.84726\t -0.00112\t 3.84732\t 0.00006\n",
      "Raíz hallada con el método de secantes: 3.84732196\n",
      "Tolerancia estimada aplicada: 0.0001\n"
     ]
    }
   ],
   "source": [
    "print (\"{:<7}\\t {:<7}\\t {:<7}\\t {:<7}\\t {:<7}\\t {:<7}\".format(\"x0\", \"f(x0)\", \"x1\", \"f(x1)\", \"root\", \"error\") )\n",
    "print ('-' * 100)\n",
    "\n",
    "root = secantes (f, float(x0), float(x1), tol)\n",
    "\n",
    "print ('Raíz hallada con el método de secantes: %0.8f' % root)\n",
    "print ('Tolerancia estimada aplicada: {}'.format(tol))"
   ]
  }
 ],
 "metadata": {
  "interpreter": {
   "hash": "50a1c7f7f999c358e0b5259763df47a04f976b7989cc44fe344baf2ec3d120ee"
  },
  "kernelspec": {
   "display_name": "Python 3.8.5 64-bit",
   "language": "python",
   "name": "python3"
  },
  "language_info": {
   "codemirror_mode": {
    "name": "ipython",
    "version": 3
   },
   "file_extension": ".py",
   "mimetype": "text/x-python",
   "name": "python",
   "nbconvert_exporter": "python",
   "pygments_lexer": "ipython3",
   "version": "3.8.5"
  },
  "orig_nbformat": 4
 },
 "nbformat": 4,
 "nbformat_minor": 2
}
