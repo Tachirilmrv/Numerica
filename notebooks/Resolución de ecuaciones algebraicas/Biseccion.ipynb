{
 "cells": [
  {
   "cell_type": "code",
   "execution_count": 1,
   "metadata": {},
   "outputs": [],
   "source": [
    "from numpy import *"
   ]
  },
  {
   "cell_type": "markdown",
   "metadata": {},
   "source": [
    "# Método de Bisección\n",
    "\n",
    "### Hipótesis:\n",
    "- En $[a ,b]$ la ecuación posee una raíz\n",
    "- f(x) es continua en $[a, b]$\n",
    "- $f(a) * f(b) < 0$"
   ]
  },
  {
   "cell_type": "markdown",
   "metadata": {},
   "source": [
    "## Implementación"
   ]
  },
  {
   "cell_type": "markdown",
   "metadata": {},
   "source": [
    "``` biseccion(f, a, b, tol): ``` Implementación del método de biseción para aproximar raíces\n",
    "\n",
    "### Parámetros\n",
    "\n",
    "- ``` f ``` : define la función a evaluar\n",
    "- ``` a ``` : define el extremo inferior del intervalo\n",
    "- ``` b ``` : define el extremo superior del intervalo\n",
    "- ``` tol(opcional) ``` : Cota para el error absoluto (por defecto $1.0 * 10^{-6}$) "
   ]
  },
  {
   "cell_type": "code",
   "execution_count": 2,
   "metadata": {},
   "outputs": [],
   "source": [
    "def biseccion(f, a, b, tol = 1.0e-6):\n",
    "    if a > b:\n",
    "        raise ValueError(\"Intervalo mal definido\")\n",
    "    if f(a) * f(b) >= 0.0:\n",
    "        raise ValueError(\"La función debe cambiar de signo en el intervalo\")\n",
    "    if tol <= 0:\n",
    "        raise ValueError(\"La cota de error debe ser un número positivo\")\n",
    "\n",
    "    i = 1\n",
    "    xm = (a + b) / 2.0\n",
    "    error = (b - a) / 2\n",
    "\n",
    "    while error >= tol:\n",
    "        f_a = f(a)\n",
    "        f_b = f(b)\n",
    "        f_xm = f(xm)\n",
    "        error = (b - a) / 2 \n",
    "        \n",
    "        print(\"{:<5}\\t {:.5f}\\t {}\\t {:.5f}\\t {}\\t {:.5f}\\t {}\\t {:.5f}\".format(i, a, '-' if f_a < 0 else '+', b, '-' if f_b < 0 else '+', xm, '-' if f_xm < 0 else '+', error) )\n",
    "\n",
    "        if f_xm == 0:\n",
    "            return xm\n",
    "        else:\n",
    "            if f_a * f_xm > 0:\n",
    "                a = xm\n",
    "            else:\n",
    "                b = xm\n",
    "        \n",
    "        xm = (a + b) / 2.0\n",
    "        i += 1\n",
    "        \n",
    "        \n",
    "    return xm"
   ]
  },
  {
   "cell_type": "markdown",
   "metadata": {},
   "source": [
    "## Inserción de datos"
   ]
  },
  {
   "cell_type": "code",
   "execution_count": 3,
   "metadata": {},
   "outputs": [],
   "source": [
    "f = lambda x : x**3 + 3 * x**2 + x - 6\n",
    "a = 0\n",
    "b = 2\n",
    "tol = 0.05"
   ]
  },
  {
   "cell_type": "markdown",
   "metadata": {},
   "source": [
    "## Salida de datos"
   ]
  },
  {
   "cell_type": "code",
   "execution_count": 4,
   "metadata": {},
   "outputs": [
    {
     "name": "stdout",
     "output_type": "stream",
     "text": [
      "iter \t a      \t f(a)\t b      \t f(b)\t xm     \t f(x)\t error  \n",
      "------------------------------------------------------------------------------------------\n",
      "1    \t 0.00000\t -\t 2.00000\t +\t 1.00000\t -\t 1.00000\n",
      "2    \t 1.00000\t -\t 2.00000\t +\t 1.50000\t +\t 0.50000\n",
      "3    \t 1.00000\t -\t 1.50000\t +\t 1.25000\t +\t 0.25000\n",
      "4    \t 1.00000\t -\t 1.25000\t +\t 1.12500\t +\t 0.12500\n",
      "5    \t 1.00000\t -\t 1.12500\t +\t 1.06250\t -\t 0.06250\n",
      "6    \t 1.06250\t -\t 1.12500\t +\t 1.09375\t -\t 0.03125\n",
      "Raíz hallada con método bisección: 1.10937500\n",
      "Tolerancia aplicada: 0.05\n"
     ]
    }
   ],
   "source": [
    "print (\"{:<5}\\t {:<7}\\t {:<1}\\t {:<7}\\t {:<1}\\t {:<7}\\t {:<1}\\t {:<7}\".format(\"iter\", \"a\", \"f(a)\", \"b\", \"f(b)\", \"xm\", \"f(x)\", \"error\") )\n",
    "print ('-' * 90)\n",
    "\n",
    "root = biseccion(f,a,b,tol)\n",
    "\n",
    "print ('Raíz hallada con método bisección: %0.8f' %root)\n",
    "print ('Tolerancia aplicada: {}'.format(tol) )"
   ]
  },
  {
   "cell_type": "code",
   "execution_count": null,
   "metadata": {},
   "outputs": [],
   "source": []
  }
 ],
 "metadata": {
  "interpreter": {
   "hash": "50a1c7f7f999c358e0b5259763df47a04f976b7989cc44fe344baf2ec3d120ee"
  },
  "kernelspec": {
   "display_name": "Python 3 (ipykernel)",
   "language": "python",
   "name": "python3"
  },
  "language_info": {
   "codemirror_mode": {
    "name": "ipython",
    "version": 3
   },
   "file_extension": ".py",
   "mimetype": "text/x-python",
   "name": "python",
   "nbconvert_exporter": "python",
   "pygments_lexer": "ipython3",
   "version": "3.10.9"
  }
 },
 "nbformat": 4,
 "nbformat_minor": 4
}
