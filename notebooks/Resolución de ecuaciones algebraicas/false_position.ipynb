{
 "cells": [
  {
   "cell_type": "code",
   "execution_count": 1,
   "metadata": {},
   "outputs": [],
   "source": [
    "from numpy import *"
   ]
  },
  {
   "cell_type": "markdown",
   "metadata": {},
   "source": [
    "# Método de Regula-Falsi\n",
    "\n",
    "Método iterativo de intervalos, halla la raíz de la función en el entorno de un valor determinado\n",
    "\n",
    "##### Forma en que converge:\n",
    "- Generalmente, uno de los extremos permanece fijo\n",
    "- Generalmente, la amplitud del intervalo no tiende hacia cero\n",
    "- Generalmente, $X_n$ converge hacia r más rápido que en el método de bisección\n",
    "\n",
    "Hipótesis:\n",
    "- En $[a ,b]$ la ecuación posee una raíz\n",
    "- f(x) es continua en $[a, b]$\n",
    "- $f(a) * f(b) < 0$\n",
    "- Es derivable en $[a, b]$ y $f'(x)$ no cambia de signo en [a, b]\n",
    "- Existe $f''(x)$ en $[a, b]$ y no cambia de signo en $[a, b]$"
   ]
  },
  {
   "cell_type": "markdown",
   "metadata": {},
   "source": [
    "### Implementación"
   ]
  },
  {
   "cell_type": "markdown",
   "metadata": {},
   "source": [
    "``` false_position(f, a, b, tol): ``` Implementación del método regula-falsi para aproximar raíces en un intervalo\n",
    "\n",
    "##### Parámetros\n",
    "\n",
    "- ``` f ``` : define la función a evaluar\n",
    "- ``` a ``` : define el extremo inferior del intervalo\n",
    "- ``` b ``` : define el extremo superior del intervalo\n",
    "- ``` tol ``` : define la cota para el error torelable"
   ]
  },
  {
   "cell_type": "code",
   "execution_count": 2,
   "metadata": {},
   "outputs": [],
   "source": [
    "def false_position(f, a, b, tol):\n",
    "\n",
    "    last_x = 0\n",
    "    condition = True\n",
    "\n",
    "    while condition:\n",
    "        f_a = f(a)\n",
    "        f_b = f(b) \n",
    "\n",
    "        x2 = a -(b - a) * f_a /(f_b - f_a)\n",
    "        f_x2 = f(x2)\n",
    "        error = abs(x2 - last_x)\n",
    "\n",
    "        print(\"{:.5f}\\t {:.5f}\\t {:.5f}\\t {:.5f}\\t {:.5f}\\t {:.5f}\\t {:.5f}\".format(a, f_a, b, f_b, x2, f_x2, error))\n",
    "\n",
    "        if f(a) * f(x2) < 0:\n",
    "            b = x2\n",
    "        else:\n",
    "            a = x2\n",
    "\n",
    "        last_x = x2\n",
    "        condition = error > tol\n",
    "\n",
    "    return x2\n"
   ]
  },
  {
   "cell_type": "markdown",
   "metadata": {},
   "source": [
    "### Inserción de datos"
   ]
  },
  {
   "cell_type": "code",
   "execution_count": 3,
   "metadata": {},
   "outputs": [],
   "source": [
    "f = lambda x : log(x) - sin(x)\n",
    "a = 1\n",
    "b = 4\n",
    "tol = 0.00001"
   ]
  },
  {
   "cell_type": "markdown",
   "metadata": {},
   "source": [
    "### Salida de datos"
   ]
  },
  {
   "cell_type": "code",
   "execution_count": 4,
   "metadata": {},
   "outputs": [
    {
     "name": "stdout",
     "output_type": "stream",
     "text": [
      "a      \t f(a)   \t b      \t f(b)   \t x      \t f(x)   \t error  \n",
      "----------------------------------------------------------------------------------------------------\n",
      "1.00000\t -0.84147\t 4.00000\t 2.14310\t 1.84582\t -0.34949\t 1.84582\n",
      "1.84582\t -0.34949\t 4.00000\t 2.14310\t 2.14787\t -0.07359\t 0.30204\n",
      "2.14787\t -0.07359\t 4.00000\t 2.14310\t 2.20935\t -0.01026\t 0.06149\n",
      "2.20935\t -0.01026\t 4.00000\t 2.14310\t 2.21788\t -0.00129\t 0.00853\n",
      "2.21788\t -0.00129\t 4.00000\t 2.14310\t 2.21896\t -0.00016\t 0.00107\n",
      "2.21896\t -0.00016\t 4.00000\t 2.14310\t 2.21909\t -0.00002\t 0.00013\n",
      "2.21909\t -0.00002\t 4.00000\t 2.14310\t 2.21910\t -0.00000\t 0.00002\n",
      "2.21910\t -0.00000\t 4.00000\t 2.14310\t 2.21911\t -0.00000\t 0.00000\n",
      "Raíz hallada con método de bisección: 2.21910686\n",
      "Tolerancia estimada aplicada: 1e-05\n"
     ]
    }
   ],
   "source": [
    "print (\"{:<7}\\t {:<7}\\t {:<7}\\t {:<7}\\t {:<7}\\t {:<7}\\t {:<7}\".format(\"a\", \"f(a)\", \"b\", \"f(b)\", \"x\", \"f(x)\", \"error\") )\n",
    "print ('-' * 100)\n",
    "\n",
    "root = false_position (f,float(a),float(b),tol)\n",
    "\n",
    "print ('Raíz hallada con método de bisección: %0.8f' % root)\n",
    "print ('Tolerancia estimada aplicada: {}'.format(tol))"
   ]
  }
 ],
 "metadata": {
  "interpreter": {
   "hash": "50a1c7f7f999c358e0b5259763df47a04f976b7989cc44fe344baf2ec3d120ee"
  },
  "kernelspec": {
   "display_name": "Python 3.8.5 64-bit",
   "language": "python",
   "name": "python3"
  },
  "language_info": {
   "codemirror_mode": {
    "name": "ipython",
    "version": 3
   },
   "file_extension": ".py",
   "mimetype": "text/x-python",
   "name": "python",
   "nbconvert_exporter": "python",
   "pygments_lexer": "ipython3",
   "version": "3.8.5"
  },
  "orig_nbformat": 4
 },
 "nbformat": 4,
 "nbformat_minor": 2
}
