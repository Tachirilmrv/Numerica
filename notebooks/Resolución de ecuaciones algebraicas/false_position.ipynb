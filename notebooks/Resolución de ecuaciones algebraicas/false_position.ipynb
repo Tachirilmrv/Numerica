{
 "cells": [
  {
   "cell_type": "code",
   "execution_count": 103,
   "metadata": {},
   "outputs": [],
   "source": [
    "import sympy as sp\n",
    "from utils import *\n",
    "\n",
    "# Declaración de x como variable de las funciones \n",
    "x = sp.Symbol('x')"
   ]
  },
  {
   "cell_type": "markdown",
   "metadata": {},
   "source": [
    "# Método de Regula-Falsi\n",
    "\n",
    "Método iterativo de intervalos, halla la raíz de la función en el entorno de un valor determinado\n",
    "\n",
    "##### Forma en que converge:\n",
    "- Generalmente, uno de los extremos permanece fijo\n",
    "- Generalmente, la amplitud del intervalo no tiende hacia cero\n",
    "- Generalmente, $X_n$ converge hacia r más rápido que en el método de bisección\n",
    "\n",
    "Hipótesis:\n",
    "- En $[a ,b]$ la ecuación posee una raíz\n",
    "- f(x) es continua en $[a, b]$\n",
    "- $f(a) * f(b) < 0$\n",
    "- Es derivable en $[a, b]$ y $f'(x)$ no cambia de signo en [a, b]\n",
    "- Existe $f''(x)$ en $[a, b]$ y no cambia de signo en $[a, b]$"
   ]
  },
  {
   "cell_type": "markdown",
   "metadata": {},
   "source": [
    "### Implementación"
   ]
  },
  {
   "cell_type": "markdown",
   "metadata": {},
   "source": [
    "``` false_position(f, a, b, tol): ``` Implementación del método regula-falsi para aproximar raíces en un intervalo\n",
    "\n",
    "##### Parámetros\n",
    "\n",
    "- ``` f ``` : define la función a evaluar\n",
    "- ``` a ``` : define el extremo inferior del intervalo\n",
    "- ``` b ``` : define el extremo superior del intervalo\n",
    "- ``` tol ``` : define la cota para el error torelable"
   ]
  },
  {
   "cell_type": "code",
   "execution_count": 104,
   "metadata": {},
   "outputs": [],
   "source": [
    "def false_position(f, a, b, tol):\n",
    "\n",
    "    last_x = 0\n",
    "    condition = True\n",
    "\n",
    "    while condition:\n",
    "        f_a = N(f.subs(x, a),5)\n",
    "        f_b = N(f.subs(x, b),5) \n",
    "\n",
    "        x2 = N((a -(b - a) * f_a /(f_b - f_a)),5)\n",
    "        f_x2 = f.subs(x, x2)\n",
    "        error = abs(x2 - last_x)\n",
    "        \n",
    "        print(\"{:<7}\\t {:<7}\\t {:<7}\\t {:<7}\\t {:<7}\\t {:<7}\\t {:<7}\".format(a, f_a, b, f_b, x2, N(f_x2,5), error))\n",
    "\n",
    "        if f.subs(x, a) * f.subs(x, x2) < 0:\n",
    "            b = x2\n",
    "        else:\n",
    "            a = x2\n",
    "\n",
    "        last_x = x2\n",
    "        condition = error > tol\n",
    "\n",
    "    return x2\n"
   ]
  },
  {
   "cell_type": "markdown",
   "metadata": {},
   "source": [
    "### Inserción de datos"
   ]
  },
  {
   "cell_type": "code",
   "execution_count": 105,
   "metadata": {},
   "outputs": [],
   "source": [
    "func = 'ln(x)-sin(x)'\n",
    "a = 1\n",
    "b = 3\n",
    "tol = 0.001"
   ]
  },
  {
   "cell_type": "markdown",
   "metadata": {},
   "source": [
    "### Salida de datos"
   ]
  },
  {
   "cell_type": "code",
   "execution_count": 106,
   "metadata": {},
   "outputs": [
    {
     "name": "stdout",
     "output_type": "stream",
     "text": [
      "a      \t f(a)   \t b      \t f(b)   \t x      \t f(x)   \t error  \n",
      "----------------------------------------------------------------------------------------------------\n",
      "1      \t -0.84147\t 3      \t 0.95749\t 1.9355 \t -0.27386\t 1.9355 \n",
      "1.9355 \t -0.27386\t 3      \t 0.95749\t 2.1723 \t -0.048744\t 0.23675\n",
      "2.1723 \t -0.048744\t 3      \t 0.95749\t 2.2124 \t -0.0071087\t 0.040096\n",
      "2.2124 \t -0.0071087\t 3      \t 0.95749\t 2.2182 \t -0.00099945\t 0.0058060\n",
      "2.2182 \t -0.00099945\t 3      \t 0.95749\t 2.2190 \t -0.00013924\t 0.00081635\n",
      "Raíz hallada con método de bisección: 2.21897507\n",
      "Tolerancia estimada aplicada: 0.001\n"
     ]
    }
   ],
   "source": [
    "print (\"{:<7}\\t {:<7}\\t {:<7}\\t {:<7}\\t {:<7}\\t {:<7}\\t {:<7}\".format(\"a\", \"f(a)\", \"b\", \"f(b)\", \"x\", \"f(x)\", \"error\") )\n",
    "print ('-' * 100)\n",
    "\n",
    "f = declare_function (func)\n",
    "root = false_position (f,a,b,tol)\n",
    "\n",
    "print ('Raíz hallada con método de bisección: %0.8f' % root)\n",
    "print ('Tolerancia estimada aplicada: {}'.format(tol))"
   ]
  }
 ],
 "metadata": {
  "interpreter": {
   "hash": "50a1c7f7f999c358e0b5259763df47a04f976b7989cc44fe344baf2ec3d120ee"
  },
  "kernelspec": {
   "display_name": "Python 3.8.5 64-bit",
   "language": "python",
   "name": "python3"
  },
  "language_info": {
   "codemirror_mode": {
    "name": "ipython",
    "version": 3
   },
   "file_extension": ".py",
   "mimetype": "text/x-python",
   "name": "python",
   "nbconvert_exporter": "python",
   "pygments_lexer": "ipython3",
   "version": "3.8.5"
  },
  "orig_nbformat": 4
 },
 "nbformat": 4,
 "nbformat_minor": 2
}
