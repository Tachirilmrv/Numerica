{
 "cells": [
  {
   "cell_type": "code",
   "execution_count": 93,
   "metadata": {},
   "outputs": [],
   "source": [
    "import sympy as sp"
   ]
  },
  {
   "cell_type": "markdown",
   "metadata": {},
   "source": [
    "# Método de Regula-Falsi\n",
    "\n",
    "Método iterativo de intervalos, halla la raíz de la función en el entorno de un valor determinado\n",
    "\n",
    "##### Forma en que converge:\n",
    "- Generalmente, uno de los extremos permanece fijo\n",
    "- Generalmente, la amplitud del intervalo no tiende hacia cero\n",
    "- Generalmente, $X_n$ converge hacia r más rápido que en el método de bisección\n",
    "\n",
    "Hipótesis:\n",
    "- En $[a ,b]$ la ecuación posee una raíz\n",
    "- f(x) es continua en $[a, b]$\n",
    "- $f(a) * f(b) < 0$\n",
    "- Es derivable en $[a, b]$ y $f'(x)$ no cambia de signo en [a, b]\n",
    "- Existe $f''(x)$ en $[a, b]$ y no cambia de signo en $[a, b]$"
   ]
  },
  {
   "cell_type": "markdown",
   "metadata": {},
   "source": [
    "### Métodos y declaraciones auxiliares [NO TOCAR]"
   ]
  },
  {
   "cell_type": "code",
   "execution_count": 94,
   "metadata": {},
   "outputs": [],
   "source": [
    "# Declaración de x como variable de las funciones \n",
    "x = sp.Symbol ('x')"
   ]
  },
  {
   "cell_type": "markdown",
   "metadata": {},
   "source": [
    "``` declare_function(equation): ``` prepara la función para ser utilizada por el método utilizando la biblioteca sympy"
   ]
  },
  {
   "cell_type": "code",
   "execution_count": 95,
   "metadata": {},
   "outputs": [],
   "source": [
    "def declare_function(equation):\n",
    "    return sp.sympify(equation)"
   ]
  },
  {
   "cell_type": "markdown",
   "metadata": {},
   "source": [
    "### Implementación"
   ]
  },
  {
   "cell_type": "markdown",
   "metadata": {},
   "source": [
    "``` false_position(f, x0, x1, tol): ``` Implementación del método regula-falsi para aproximar raíces en un intervalo\n",
    "\n",
    "##### Parámetros\n",
    "\n",
    "- ``` f ``` : define la función a evaluar\n",
    "- ``` x0 ``` : define el extremo inferior del intervalo\n",
    "- ``` x1 ``` : define el extremo superior del intervalo\n",
    "- ``` tol ``` : define la cota para el error torelable"
   ]
  },
  {
   "cell_type": "code",
   "execution_count": 96,
   "metadata": {},
   "outputs": [],
   "source": [
    "def false_position (f, x0, x1, tol):\n",
    "\n",
    "    step = 1\n",
    "    condition = True\n",
    "\n",
    "    while condition:\n",
    "        x2 = x0 - (x1 - x0) * f.subs (x, x0) / (f.subs (x, x1) - f.subs (x, x0) )\n",
    "        #print ('Iteration-%d, x2 = %0.6f and f(x2) = %0.6f' % (step, x2, f.subs (x, x2) ) )\n",
    "\n",
    "        if f.subs (x, x0) * f.subs (x, x2) < 0:\n",
    "            x1 = x2\n",
    "        else:\n",
    "            x0 = x2\n",
    "\n",
    "        step = step + 1\n",
    "        condition = abs (f.subs (x, x2) ) > tol\n",
    "\n",
    "    return x2\n"
   ]
  },
  {
   "cell_type": "markdown",
   "metadata": {},
   "source": [
    "### Inserción de datos"
   ]
  },
  {
   "cell_type": "code",
   "execution_count": 104,
   "metadata": {},
   "outputs": [
    {
     "name": "stdout",
     "output_type": "stream",
     "text": [
      "Raíz hallada con método de bisección: 2.23404255\n",
      "Tolerancia estimada aplicada: 0.01\n"
     ]
    }
   ],
   "source": [
    "func = 'x**2 -5'\n",
    "a = 0\n",
    "b = 5\n",
    "tol = 0.01\n",
    "\n",
    "f = declare_function (func)\n",
    "root = false_position (f,a,b,tol)\n",
    "\n",
    "print ('Raíz hallada con método de bisección: %0.8f' % root)\n",
    "print ('Tolerancia estimada aplicada: {}'.format(tol))"
   ]
  }
 ],
 "metadata": {
  "interpreter": {
   "hash": "50a1c7f7f999c358e0b5259763df47a04f976b7989cc44fe344baf2ec3d120ee"
  },
  "kernelspec": {
   "display_name": "Python 3.8.5 64-bit",
   "language": "python",
   "name": "python3"
  },
  "language_info": {
   "codemirror_mode": {
    "name": "ipython",
    "version": 3
   },
   "file_extension": ".py",
   "mimetype": "text/x-python",
   "name": "python",
   "nbconvert_exporter": "python",
   "pygments_lexer": "ipython3",
   "version": "3.8.5"
  },
  "orig_nbformat": 4
 },
 "nbformat": 4,
 "nbformat_minor": 2
}
